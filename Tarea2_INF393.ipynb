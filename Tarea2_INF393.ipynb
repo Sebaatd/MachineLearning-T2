{
  "nbformat": 4,
  "nbformat_minor": 0,
  "metadata": {
    "kernelspec": {
      "display_name": "Python 3",
      "language": "python",
      "name": "python3"
    },
    "language_info": {
      "codemirror_mode": {
        "name": "ipython",
        "version": 3
      },
      "file_extension": ".py",
      "mimetype": "text/x-python",
      "name": "python",
      "nbconvert_exporter": "python",
      "pygments_lexer": "ipython3",
      "version": "3.6.9"
    },
    "colab": {
      "name": "Tarea2-INF393.ipynb",
      "provenance": [],
      "collapsed_sections": []
    }
  },
  "cells": [
    {
      "cell_type": "markdown",
      "metadata": {
        "id": "rJ9ARw_zhRbT",
        "colab_type": "text"
      },
      "source": [
        "<img src=\"http://www.exalumnos.usm.cl/wp-content/uploads/2015/06/Isotipo-Negro.gif\" title=\"Title text\" width=\"20%\" height=\"20%\" />\n",
        "\n",
        "\n",
        "<hr style=\"height:2px;border:none\"/>\n",
        "<h1 align='center'> INF-393 Máquinas de Aprendizaje II-2019 </h1>\n",
        "\n",
        "<H3 align='center'> Tarea 2 - Fronteras no Lineales </H3>\n",
        "<hr style=\"height:2px;border:none\"/>\n",
        "\n",
        "**Temas**  \n",
        "* similaridad: KNN\n",
        "* Selección de hı́per-parámetros estructurales en SVM, Arboles de Decisión, k-NN y Redes Neuronales.\n",
        "* Métodos de *kernel*.\n",
        "* Extracción de características.\n",
        "* Múltiples anotaciones\n",
        "\n",
        "** Formalidades **  \n",
        "* Equipos de trabajo de: 2 personas (*cada uno debe estar en condiciones de realizar una presentación y discutir sobre cada punto del trabajo realizado*)\n",
        "* Se debe preparar una presentación de 20 minutos. Presentador será elegido aleatoriamente.\n",
        "* Se debe preparar un (breve) Jupyter/IPython notebook que explique la actividad realizada y las conclusiones del trabajo\n",
        "* Fecha de discusión y entrega: 8 de Noviembre.\n",
        "* Formato de entrega: envı́o de link Github al correo electrónico del ayudante (*<francisco.mena.13@sansano.usm.cl>*) , incluyendo al profesor en copia (*<jnancu@inf.utfsm.cl>*). Por favor especificar el siguiente asunto: [Tarea2-INF393-II-2019]\n",
        "\n",
        "<hr style=\"height:2px;border:none\"/>\n",
        "\n",
        "### Paquetes de instalación\n",
        "\n",
        "Como es usual utilizaremos *numpy, scipy, matplotlib* y *sklearn*. Además de éstas se necesitará instalar **keras**, una librerı́a en python para prototipado rápido de modelos basados en redes neuronales, muy similar en espı́ritu a *sklearn*. La librerı́a puede usar *TensorFlow* o *Theano* como backend, siendo éstas las librerı́as más populares para desarrollar nuevos modelos de redes neuronales o implementar eficientemente modelos conocidos con fines prácticos. Para detalles sobre la instalación puede revisar [[1]](#refs) o escribir un email a su ayudante.\n",
        "\n",
        "\n",
        "\n",
        "La tarea se divide en secciones:\n",
        "\n",
        "[1.](#primero) Sentiment Analysis en Texto  \n",
        "[2.](#segundo) pendiente\n"
      ]
    },
    {
      "cell_type": "markdown",
      "metadata": {
        "id": "GtyjNFLUhRbf",
        "colab_type": "text"
      },
      "source": [
        "<a id=\"primero\"></a>\n",
        "## 1. Sentiment Analysis en Texto\n",
        "\n",
        "El análisis de emociones o sentimientos se refiere al proceso de extraer información acerca de la actitud\n",
        "que una persona (o grupo de ellas) manifiesta, en un determinado medio o formato digital, con respecto a un\n",
        "tópico o contexto de comunicación. Uno de los casos más estudiados corresponde a determinar la polaridad\n",
        "de un trozo de texto, es decir, clasificar una determinada evaluación escrita (*review*), en que una persona\n",
        "manifiesta una opinión, como *positiva*, *negativa* o *neutral*. Esto también ha sido extendido a otros medios, como lo es analizar la polaridad de textos en redes sociales.  La dificultad de este problema radica en el carácter altamente ambiguo e informal del lenguaje que utilizan naturalmente las personas ası́ como el manejo de negaciones, sarcasmo y abreviaciones en una frase.\n",
        "\n",
        "<img src=\"https://formtitanhelpdeskimage.s3.amazonaws.com/70c78f9df2fd5c130e7021644f78f4c5.jpg\" title=\"Title text\" width=\"40%\" />\n",
        "\n",
        "\n",
        "Los datos que usaremos para esta actividad corresponden a un subconjunto de los datos publicados en **Kaggle**,  en  el  contexto  de  una  competencia  organizada  por  la  Universidad  de  Stanford  [[2]](#refs).   Cada  registro disponible corresponderá a una opinión sobre una película, registrada sobre el sitio *Rotten Tomatoes*.  Para empezar  nos  limitaremos  a  estudiar  textos  anotados  como  positivos  o  negativos,  clases  que  codificaremos como +1 y 0 respectivamente. Los datos pueden ser descargados ejecutando el siguiente código en sistema Unix:\n",
        "```\n",
        "wget -O train_data.csv http://www.inf.utfsm.cl/~jnancu/stanford-subset/polarity.train\n",
        "wget -O test_data.csv http://www.inf.utfsm.cl/~jnancu/stanford-subset/polarity.dev\n",
        "```\n",
        "\n",
        "> Cargue los dos conjuntos de datos a ser trabajados, donde la etiqueta ya viene codificada y la dejaremos como negativo (0) y positivo (1).\n"
      ]
    },
    {
      "cell_type": "code",
      "metadata": {
        "id": "XMUw3dxUhRbk",
        "colab_type": "code",
        "outputId": "5c98ac54-2c81-41d2-df8b-1257b4d5cf65",
        "colab": {
          "base_uri": "https://localhost:8080/",
          "height": 537
        }
      },
      "source": [
        "import pandas as pd\n",
        "from matplotlib import pyplot as plt\n",
        "##\n",
        "from sklearn.model_selection import train_test_split\n",
        "##\n",
        "import re, time\n",
        "from nltk.corpus import stopwords\n",
        "from nltk import WordNetLemmatizer, word_tokenize\n",
        "##\n",
        "import numpy as np\n",
        "from sklearn.feature_extraction.text import CountVectorizer\n",
        "##\n",
        "!wget -O train_data.csv http://www.inf.utfsm.cl/~jnancu/stanford-subset/polarity.train\n",
        "!wget -O test_data.csv http://www.inf.utfsm.cl/~jnancu/stanford-subset/polarity.dev"
      ],
      "execution_count": 0,
      "outputs": [
        {
          "output_type": "stream",
          "text": [
            "--2020-01-07 03:43:21--  http://www.inf.utfsm.cl/~jnancu/stanford-subset/polarity.train\n",
            "Resolving www.inf.utfsm.cl (www.inf.utfsm.cl)... 200.1.19.11, 2800:270:c::11\n",
            "Connecting to www.inf.utfsm.cl (www.inf.utfsm.cl)|200.1.19.11|:80... connected.\n",
            "HTTP request sent, awaiting response... 302 Found\n",
            "Location: https://www.inf.utfsm.cl/~jnancu/stanford-subset/polarity.train [following]\n",
            "--2020-01-07 03:43:22--  https://www.inf.utfsm.cl/~jnancu/stanford-subset/polarity.train\n",
            "Connecting to www.inf.utfsm.cl (www.inf.utfsm.cl)|200.1.19.11|:443... connected.\n",
            "HTTP request sent, awaiting response... 200 OK\n",
            "Length: 418331 (409K) [application/octet-stream]\n",
            "Saving to: ‘train_data.csv’\n",
            "\n",
            "train_data.csv      100%[===================>] 408.53K   727KB/s    in 0.6s    \n",
            "\n",
            "2020-01-07 03:43:23 (727 KB/s) - ‘train_data.csv’ saved [418331/418331]\n",
            "\n",
            "--2020-01-07 03:43:24--  http://www.inf.utfsm.cl/~jnancu/stanford-subset/polarity.dev\n",
            "Resolving www.inf.utfsm.cl (www.inf.utfsm.cl)... 200.1.19.11, 2800:270:c::11\n",
            "Connecting to www.inf.utfsm.cl (www.inf.utfsm.cl)|200.1.19.11|:80... connected.\n",
            "HTTP request sent, awaiting response... 302 Found\n",
            "Location: https://www.inf.utfsm.cl/~jnancu/stanford-subset/polarity.dev [following]\n",
            "--2020-01-07 03:43:25--  https://www.inf.utfsm.cl/~jnancu/stanford-subset/polarity.dev\n",
            "Connecting to www.inf.utfsm.cl (www.inf.utfsm.cl)|200.1.19.11|:443... connected.\n",
            "HTTP request sent, awaiting response... 200 OK\n",
            "Length: 424589 (415K) [application/octet-stream]\n",
            "Saving to: ‘test_data.csv’\n",
            "\n",
            "test_data.csv       100%[===================>] 414.64K   739KB/s    in 0.6s    \n",
            "\n",
            "2020-01-07 03:43:26 (739 KB/s) - ‘test_data.csv’ saved [424589/424589]\n",
            "\n"
          ],
          "name": "stdout"
        }
      ]
    },
    {
      "cell_type": "code",
      "metadata": {
        "id": "s4v3eduxhRb6",
        "colab_type": "code",
        "colab": {}
      },
      "source": [
        "ftr = open(\"./train_data.csv\", \"r\",  encoding=\"ISO-8859-1\")\n",
        "rows = [line.split(\" \",1) for line in ftr.readlines()]\n",
        "\n",
        "# Train Dataset\n",
        "df_train = pd.DataFrame(rows, columns=['Sentiment','Text'])\n",
        "df_train['Sentiment'] = (pd.to_numeric(df_train['Sentiment'])+1)/2 # 0 o 1\n",
        "\n",
        "ftr = open(\"./test_data.csv\", \"r\",  encoding=\"ISO-8859-1\")\n",
        "rows = [line.split(\" \",1) for line in ftr.readlines()]\n",
        "\n",
        "# Test Dataset\n",
        "df_test = pd.DataFrame(rows, columns=['Sentiment','Text'])\n",
        "df_test['Sentiment'] = (pd.to_numeric(df_test['Sentiment'])+1)/2 # 0 o 1"
      ],
      "execution_count": 0,
      "outputs": []
    },
    {
      "cell_type": "code",
      "metadata": {
        "id": "bq6okN-ErUyh",
        "colab_type": "code",
        "colab": {}
      },
      "source": [
        "df_train_text = df_train.Text\n",
        "df_test_text = df_test.Text\n",
        "labels_train = df_train.Sentiment.values\n",
        "labels_test = df_test.Sentiment.values"
      ],
      "execution_count": 0,
      "outputs": []
    },
    {
      "cell_type": "markdown",
      "metadata": {
        "id": "36lp-DHthRcF",
        "colab_type": "text"
      },
      "source": [
        "\n",
        "> a) Describa los datos trabajados, como la cantidad de datos en cada conjunto, largo de los textos, la cantidad de ejemplo por cada clase, o alguna otra forma que piense que pueda ser útil para comprender el problema trabajado."
      ]
    },
    {
      "cell_type": "code",
      "metadata": {
        "id": "FEiKs-mohRcJ",
        "colab_type": "code",
        "outputId": "7e51c3f3-8a81-4180-c69a-715719d6bad5",
        "colab": {
          "base_uri": "https://localhost:8080/",
          "height": 1000
        }
      },
      "source": [
        "def stats_info(dataframe, label):\n",
        "    data_count = dataframe.count()[0]\n",
        "    positives_count = dataframe[dataframe.Sentiment == 1].count()[0]\n",
        "    negatives_count = dataframe[dataframe.Sentiment == 0].count()[0]\n",
        "\n",
        "    print(\"Dataset de \", label)\n",
        "    print(\"------------------------\")\n",
        "    print(\"Total de datos\", data_count)\n",
        "    print(\"Cantidad de datos positivos: \", positives_count)\n",
        "    print(\"Cantidad de datos etiquetados negativamente: \", negatives_count)\n",
        "\n",
        "    positive_text_lenghts = []\n",
        "    negative_text_lenghts = []\n",
        "\n",
        "    for i in range(data_count):\n",
        "        text = len(dataframe.Text[i])\n",
        "\n",
        "        if dataframe.Sentiment[i] == 0:\n",
        "            negative_text_lenghts.append(text)\n",
        "\n",
        "        else:\n",
        "            positive_text_lenghts.append(text)\n",
        "\n",
        "    plt.hist(positive_text_lenghts, alpha=0.5, bins = \"auto\", color='blue')\n",
        "    plt.title(\"Distribucion del largo de comentarios positivos\")\n",
        "    plt.xlabel('Largo')\n",
        "    plt.ylabel('Frecuencia')\n",
        "    plt.show()\n",
        "\n",
        "    plt.hist(negative_text_lenghts, alpha=0.5, bins = \"auto\", color='red')\n",
        "    plt.title(\"Distribucion del largo de comentarios negativos\")\n",
        "    plt.xlabel('Largo')\n",
        "    plt.ylabel('Frecuencia')\n",
        "    plt.show()\n",
        "\n",
        "stats_info(df_train, \"entrenamiento\")\n",
        "stats_info(df_test, \"prueba\")"
      ],
      "execution_count": 0,
      "outputs": [
        {
          "output_type": "stream",
          "text": [
            "Dataset de  entrenamiento\n",
            "------------------------\n",
            "Total de datos 3554\n",
            "Cantidad de datos positivos:  1770\n",
            "Cantidad de datos etiquetados negativamente:  1784\n"
          ],
          "name": "stdout"
        },
        {
          "output_type": "display_data",
          "data": {
            "image/png": "[encoded data removed]",
            "text/plain": [
              "<Figure size 432x288 with 1 Axes>"
            ]
          },
          "metadata": {
            "tags": []
          }
        },
        {
          "output_type": "display_data",
          "data": {
            "image/png": "[encoded data removed]",
            "text/plain": [
              "<Figure size 432x288 with 1 Axes>"
            ]
          },
          "metadata": {
            "tags": []
          }
        },
        {
          "output_type": "stream",
          "text": [
            "Dataset de  prueba\n",
            "------------------------\n",
            "Total de datos 3554\n",
            "Cantidad de datos positivos:  1751\n",
            "Cantidad de datos etiquetados negativamente:  1803\n"
          ],
          "name": "stdout"
        },
        {
          "output_type": "display_data",
          "data": {
            "image/png": "[encoded data removed]",
            "text/plain": [
              "<Figure size 432x288 with 1 Axes>"
            ]
          },
          "metadata": {
            "tags": []
          }
        },
        {
          "output_type": "display_data",
          "data": {
            "image/png": "[encoded data removed]",
            "text/plain": [
              "<Figure size 432x288 with 1 Axes>"
            ]
          },
          "metadata": {
            "tags": []
          }
        }
      ]
    },
    {
      "cell_type": "markdown",
      "metadata": {
        "id": "3vYLFVriWJsG",
        "colab_type": "text"
      },
      "source": [
        "**Comentarios:** Los histogramas mostrados corresponden a la distribucion del largo de palabras por cada clase. Se puede observar que en ambos tienden a una distribución normal con sesgos hacia la izquierda; lo significa que el largo de los textos puede ser una característica interesante para analizar."
      ]
    },
    {
      "cell_type": "markdown",
      "metadata": {
        "id": "5hyA2XishRcZ",
        "colab_type": "text"
      },
      "source": [
        "> b) Construya un conjunto de validación desde el conjunto de entrenamiento para seleccionar modelos. Decida el tamaño dada la cantidad de ejemplos que se tienen para entrenamiento.\n"
      ]
    },
    {
      "cell_type": "code",
      "metadata": {
        "id": "blIZmZ5LhRcd",
        "colab_type": "code",
        "colab": {}
      },
      "source": [
        "df_train_text, df_val_text, labels_train, labels_val  = train_test_split(df_train_text, labels_train, test_size=0.2, random_state=0)"
      ],
      "execution_count": 0,
      "outputs": []
    },
    {
      "cell_type": "markdown",
      "metadata": {
        "id": "CX4zCEelWVQZ",
        "colab_type": "text"
      },
      "source": [
        "**Comentarios:** Se decidió usar una proporción del 20% respecto a los datos de entrenamiento ya que es una práctica común en el área; además, se desea mantener un 60% de entrenamiento, 20% de validación y 20% de pruebas.\n"
      ]
    },
    {
      "cell_type": "markdown",
      "metadata": {
        "id": "hsYrh4NyhRc5",
        "colab_type": "text"
      },
      "source": [
        "> c) Realice un pre-procesamiento a los textos para normalizar un poco su estructura, para ello utilice el código de ejemplo a continuación, donde se pasa el texto a minúsculas (*lower-casing*), se reducen las mútliples letras, se eliminan palabras sin significados como artículos, pronombres y preposiciones (*stop word removal* [[3]](#refs)), además de pasar las palabras a su tronco léxico con la técnica de *lemmatizer* [[4]](#refs). Comente la importancia de un correcto pre-procesamiento en el domino de lenguaje natural."
      ]
    },
    {
      "cell_type": "code",
      "metadata": {
        "id": "LYBoZvz6ibEn",
        "colab_type": "code",
        "outputId": "7ad1f4c4-1012-4bec-a160-0463f7bb4652",
        "colab": {
          "base_uri": "https://localhost:8080/",
          "height": 139
        }
      },
      "source": [
        "#Se corre solo una vez\n",
        "import nltk\n",
        "nltk.download('stopwords')\n",
        "nltk.download('punkt')\n",
        "nltk.download('wordnet')"
      ],
      "execution_count": 0,
      "outputs": [
        {
          "output_type": "stream",
          "text": [
            "[nltk_data] Downloading package stopwords to /root/nltk_data...\n",
            "[nltk_data]   Package stopwords is already up-to-date!\n",
            "[nltk_data] Downloading package punkt to /root/nltk_data...\n",
            "[nltk_data]   Package punkt is already up-to-date!\n",
            "[nltk_data] Downloading package wordnet to /root/nltk_data...\n",
            "[nltk_data]   Package wordnet is already up-to-date!\n"
          ],
          "name": "stdout"
        },
        {
          "output_type": "execute_result",
          "data": {
            "text/plain": [
              "True"
            ]
          },
          "metadata": {
            "tags": []
          },
          "execution_count": 48
        }
      ]
    },
    {
      "cell_type": "code",
      "metadata": {
        "id": "IBgJNA4dhRc9",
        "colab_type": "code",
        "colab": {}
      },
      "source": [
        "def base_word(word):\n",
        "    wordlemmatizer = WordNetLemmatizer()\n",
        "    return wordlemmatizer.lemmatize(word) \n",
        "\n",
        "def word_extractor(text):\n",
        "    commonwords = stopwords.words('english')\n",
        "    text = re.sub(r'([a-z])\\1+', r'\\1\\1',text) #substitute multiple letter by two\n",
        "    words = \"\"\n",
        "    wordtokens = [ base_word(word.lower()) for word in word_tokenize(text) ]\n",
        "    for word in wordtokens:\n",
        "        if word not in commonwords: #delete stopwords\n",
        "            words+=\" \"+word\n",
        "    return words\n",
        "\n",
        "\n",
        "texts_train = [word_extractor(text) for text in df_train_text]\n",
        "texts_val = [word_extractor(text) for text in df_val_text]\n",
        "texts_test = [word_extractor(text) for text in df_test_text]"
      ],
      "execution_count": 0,
      "outputs": []
    },
    {
      "cell_type": "markdown",
      "metadata": {
        "id": "BpXdtpy-Wbtf",
        "colab_type": "text"
      },
      "source": [
        "**Comentarios:** Realizar un pre-procesamiento correcto es un paso muy importante ya que permite transformar textos en algo que los algoritmos pueden usar para procesos complejos a través de sus 4 etapas. \n",
        "\n",
        "*   La *limpieza* permite descartar información innecesaria como mayúsculas, caracteres y otros detalles no relevantes. \n",
        "*   Las *anotaciones* etiquetan los datos, lo que permite a los modelos reconocer patrones recurrentes.\n",
        "*   La *normalización* mapea los términos con el fin de reducir la redundancia.\n",
        "*   Un *análisis* mediante pruebas, manipulación y generalización para el análisis características.\n",
        "\n",
        "En este caso ésta técnica facilitará y mejorará los resultados de los siguientes procesamientos porque hay palabras que se repiten innecesariamente y hacen que los textos pierdan su simplicidad. Por ejemplo, una opinión podría ser explicada bien con pocas y simples palabras, en vez de caer en redundancias.\n",
        "\n",
        "La importancia del pre-procesamiento radica principalmente en reducir aquellos elemento que no entregan o entregan poca información semántica, por ejemplo el uso de mayúsculas o algunos tokens, tambien existen palabras que se repiten varias veces en los textos y por lo mismo aportan poco valor semantico, estas palabras son conocidas como stop words y con el preprocesamiento son quitadas.\n"
      ]
    },
    {
      "cell_type": "markdown",
      "metadata": {
        "id": "csddUdW7hRdM",
        "colab_type": "text"
      },
      "source": [
        "> d) Construya una representación vectorial a los textos de entrada para poder ser manejados y clasificados por los modelos de aprendizaje. Para ésto utilice el tipo de característica más común, que consiste en contar cuántas veces aparece cada términos/palabras en el texto, denominado **TF** (*term-frequency*). Para esto, se necesita contar con un vocabulario base, el cual se construirá a través de la unión de todas las palabras que observemos en los textos de entrenamiento ¿Cuáles son las palabras más frecuentes?"
      ]
    },
    {
      "cell_type": "markdown",
      "metadata": {
        "id": "oR9IZKrftpOv",
        "colab_type": "text"
      },
      "source": [
        "**Conjunto de entrenamiento**"
      ]
    },
    {
      "cell_type": "code",
      "metadata": {
        "id": "Jq8Gxbiuy3eg",
        "colab_type": "code",
        "outputId": "d3f42978-77c4-4c65-e099-d293cce7aa32",
        "colab": {
          "base_uri": "https://localhost:8080/",
          "height": 337
        }
      },
      "source": [
        "import numpy as np\n",
        "from sklearn.feature_extraction.text import CountVectorizer\n",
        "\n",
        "vectorizer = CountVectorizer(ngram_range=(1, 1), binary=False) #TF representation\n",
        "\n",
        "vectorizer.fit(texts_train)\n",
        "features_train = vectorizer.transform(texts_train)\n",
        "\n",
        "vocab = vectorizer.get_feature_names()\n",
        "dist=list(np.array(features_train.sum(axis=0)).reshape(-1,))\n",
        "\n",
        "frec = sorted(list(zip(vocab, dist)),key=lambda x: x[1], reverse=True)\n",
        "\n",
        "plt.figure(figsize=(10,5))\n",
        "#plt.bar(list(zip(*frec))[0],list(zip(*frec))[1]) #para ver todas las frecuencias\n",
        "plt.bar(list(zip(*frec[:20]))[0],list(zip(*frec[:20]))[1]) #para ver los 20 más frecuentes"
      ],
      "execution_count": 0,
      "outputs": [
        {
          "output_type": "execute_result",
          "data": {
            "text/plain": [
              "<BarContainer object of 20 artists>"
            ]
          },
          "metadata": {
            "tags": []
          },
          "execution_count": 50
        },
        {
          "output_type": "display_data",
          "data": {
            "image/png": "[encoded data removed]",
            "text/plain": [
              "<Figure size 720x360 with 1 Axes>"
            ]
          },
          "metadata": {
            "tags": []
          }
        }
      ]
    },
    {
      "cell_type": "markdown",
      "metadata": {
        "id": "OGYKyP8Jm3Cx",
        "colab_type": "text"
      },
      "source": [
        "**Comentarios:** Se puede observar las palabras *film*, *movie* y *one* como las 3 palabras más frecuentes, lo que tiene sentido debido a la temática que se está analizando. Además se pueden ven verbos como *like* (seguramente en contexto de gustar) y adjetivos como *funny* que deben acompañar a las palabras principales."
      ]
    },
    {
      "cell_type": "markdown",
      "metadata": {
        "id": "xrxIIzq7t48L",
        "colab_type": "text"
      },
      "source": [
        "**Conjunto de validación**"
      ]
    },
    {
      "cell_type": "code",
      "metadata": {
        "id": "XjJJTNgRt9jA",
        "colab_type": "code",
        "outputId": "7cb62f9a-6307-4b88-8b46-eb5421e1a624",
        "colab": {
          "base_uri": "https://localhost:8080/",
          "height": 337
        }
      },
      "source": [
        "features_val = vectorizer.transform(texts_val)\n",
        "\n",
        "vocab = vectorizer.get_feature_names()\n",
        "dist=list(np.array(features_val.sum(axis=0)).reshape(-1,))\n",
        "\n",
        "frec = sorted(list(zip(vocab, dist)),key=lambda x: x[1], reverse=True)\n",
        "\n",
        "plt.figure(figsize=(10,5))\n",
        "#plt.bar(list(zip(*frec))[0],list(zip(*frec))[1]) #para ver todas las frecuencias\n",
        "plt.bar(list(zip(*frec[:20]))[0],list(zip(*frec[:20]))[1]) #para ver los 20 más frecuentes"
      ],
      "execution_count": 0,
      "outputs": [
        {
          "output_type": "execute_result",
          "data": {
            "text/plain": [
              "<BarContainer object of 20 artists>"
            ]
          },
          "metadata": {
            "tags": []
          },
          "execution_count": 51
        },
        {
          "output_type": "display_data",
          "data": {
            "image/png": "[encoded data removed]",
            "text/plain": [
              "<Figure size 720x360 with 1 Axes>"
            ]
          },
          "metadata": {
            "tags": []
          }
        }
      ]
    },
    {
      "cell_type": "markdown",
      "metadata": {
        "id": "RJkSECaonJi1",
        "colab_type": "text"
      },
      "source": [
        "**Comentarios:** Al igual que el conjunto de entrenamiento, se observan las palabras *film* y *movie* como las más frecuentes. En el resto menos frecuente se pueden observar palabras asociadas al contexto anterior, tales como: *comedy*, *story* y *drama*."
      ]
    },
    {
      "cell_type": "markdown",
      "metadata": {
        "id": "3ca73x2Qt_n3",
        "colab_type": "text"
      },
      "source": [
        "**Conjunto de prueba**\n"
      ]
    },
    {
      "cell_type": "code",
      "metadata": {
        "id": "0SelRKayuFF0",
        "colab_type": "code",
        "outputId": "42cb8bc2-fa8c-4097-a8d2-8078ed302d29",
        "colab": {
          "base_uri": "https://localhost:8080/",
          "height": 337
        }
      },
      "source": [
        "features_test = vectorizer.transform(texts_test)\n",
        "\n",
        "vocab = vectorizer.get_feature_names()\n",
        "dist=list(np.array(features_test.sum(axis=0)).reshape(-1,))\n",
        "\n",
        "frec = sorted(list(zip(vocab, dist)),key=lambda x: x[1], reverse=True)\n",
        "\n",
        "plt.figure(figsize=(10,5))\n",
        "#plt.bar(list(zip(*frec))[0],list(zip(*frec))[1]) #para ver todas las frecuencias\n",
        "plt.bar(list(zip(*frec[:20]))[0],list(zip(*frec[:20]))[1]) #para ver los 20 más frecuentes"
      ],
      "execution_count": 0,
      "outputs": [
        {
          "output_type": "execute_result",
          "data": {
            "text/plain": [
              "<BarContainer object of 20 artists>"
            ]
          },
          "metadata": {
            "tags": []
          },
          "execution_count": 52
        },
        {
          "output_type": "display_data",
          "data": {
            "image/png": "[encoded data removed]",
            "text/plain": [
              "<Figure size 720x360 with 1 Axes>"
            ]
          },
          "metadata": {
            "tags": []
          }
        }
      ]
    },
    {
      "cell_type": "markdown",
      "metadata": {
        "id": "8fs8yZHMoMhh",
        "colab_type": "text"
      },
      "source": [
        "**Comentarios:** Al igual que los otros dos conjuntos, las palabras *film* y *movie* son las más frecuentes. En general en todos los conjuntos se puede asociar a una distribución en común, lo que es positivo para entrenar modelos."
      ]
    },
    {
      "cell_type": "markdown",
      "metadata": {
        "id": "CF7VaNcehRdY",
        "colab_type": "text"
      },
      "source": [
        "> e) Para tener una visión distinta y entender mejor la representación vectorial realizada, visualice los datos en un plano 2D. Para ésto utilice la técnica **LSA** (*Latent Semantic Analysis*) [[5]](#refs) que a diferencia de PCA, **no centra** los datos antes de realizar la descomposicipon SVD, de ésta manera podrá visualizar el espacio semántico de \"conceptos\" latentes usados en la representación. Coloree cada texto en base a su clase ¿Qué indica lo observado? Comente e interprete los resultados"
      ]
    },
    {
      "cell_type": "code",
      "metadata": {
        "id": "UalUo16TzO1n",
        "colab_type": "code",
        "outputId": "c5fa526f-b08c-402f-af5a-f488e919dcd7",
        "colab": {
          "base_uri": "https://localhost:8080/",
          "height": 320
        }
      },
      "source": [
        "from sklearn.decomposition import TruncatedSVD\n",
        "\n",
        "model = TruncatedSVD(n_components=2)\n",
        "model.fit(features_train)\n",
        "x_plot = model.transform(features_train)\n",
        "\n",
        "labels_train_int = labels_train.astype(int)\n",
        "colormap = np.array(['r', 'b'])\n",
        "\n",
        "plt.figure(figsize=(10,5))\n",
        "plt.scatter(x_plot[:,0], x_plot[:,1], c=colormap[labels_train_int])\n",
        "plt.show()\n"
      ],
      "execution_count": 0,
      "outputs": [
        {
          "output_type": "display_data",
          "data": {
            "image/png": "[encoded data removed]",
            "text/plain": [
              "<Figure size 720x360 with 1 Axes>"
            ]
          },
          "metadata": {
            "tags": []
          }
        }
      ]
    },
    {
      "cell_type": "markdown",
      "metadata": {
        "id": "aFxQ4rTMr5Xe",
        "colab_type": "text"
      },
      "source": [
        "**Comentarios:** La ilustración anterior muestra clusters de los registros del dataset en 2D. Aquellos puntos azules corresponden a sentencias marcadas como positivas; mientras las rojas, negativas. Se pueden diferenciar facilmente tres cluster y si consideramos la cercanía de puntos como la similitud semántica, se puede deducir que los comentarios positivos que se encuentran mas alejados tienen texto y contenido muy diferente al resto."
      ]
    },
    {
      "cell_type": "markdown",
      "metadata": {
        "id": "xrZp_zE4hRdi",
        "colab_type": "text"
      },
      "source": [
        "\n",
        "\n",
        "> f) Entrene un modelo de Regresión Logística Regularizado (utilizando como penalizador la norma $l_2$). Varíe el parámetro de regularización $C$, en potencias de 10, midiendo el error de predicción obtenido sobre los datos de entrenamiento y validación, construya un gráfico que muestre la variación de ambos errores respecto al parámetro $C$. Explique el significado y valor esperado del parámetro de regularización.\n"
      ]
    },
    {
      "cell_type": "code",
      "metadata": {
        "id": "-PmWsIQfhRdk",
        "colab_type": "code",
        "outputId": "4a26a765-6cfd-478a-a2eb-43b9bb38dd3c",
        "colab": {
          "base_uri": "https://localhost:8080/",
          "height": 367
        }
      },
      "source": [
        "from sklearn.linear_model import LogisticRegression\n",
        "\n",
        "def do_LOGIT(x, y, xv, yv, param):\n",
        "    #print(\"Param C = \", param)\n",
        "    model = LogisticRegression()\n",
        "    model.set_params(C = param)\n",
        "    model.fit(x, y)\n",
        "    train_acc = model.score(x, y)\n",
        "    test_acc = model.score(xv, yv)\n",
        "\n",
        "    return model, train_acc, test_acc\n",
        "\n",
        "def logit_plot():\n",
        "  train_accs = []\n",
        "  test_accs = []\n",
        "  max_val_acc = 0\n",
        "  C = 0\n",
        "  Cs = [10**i for i in np.arange(-4,4).astype(float)]\n",
        "\n",
        "  for i in Cs:\n",
        "    model, train_acc, test_acc = do_LOGIT(features_train, labels_train, features_val, labels_val, param = i)\n",
        "\n",
        "    if test_acc > max_val_acc:\n",
        "      max_val_acc = test_acc\n",
        "      C = i\n",
        "\n",
        "    train_accs.append(train_acc)\n",
        "    test_accs.append(test_acc)\n",
        "    \n",
        "  plt.figure(figsize=(10,5))\n",
        "  plt.plot(train_accs, marker='', color='red', linewidth=2, linestyle='dashed', label=\"Entrenamiento\")\n",
        "  plt.plot(test_accs, marker='', color='blue', linewidth=2, linestyle='dashed', label=\"Validación\")\n",
        "  xi = list(range(len(Cs)))\n",
        "  plt.xticks(xi, Cs)\n",
        "  plt.title('Precisiones Regresión Logística Regularizado')\n",
        "  plt.legend()\n",
        "  plt.xlabel('Parámetro de regularización (C)')\n",
        "  plt.ylabel('Precisión (Accuracy)')\n",
        "  plt.show()\n",
        "\n",
        "  print(\"El mejor accuracy es {} cuando C = {}\".format(max_val_acc, C))\n",
        "\n",
        "logit_plot()"
      ],
      "execution_count": 0,
      "outputs": [
        {
          "output_type": "display_data",
          "data": {
            "image/png": "[encoded data removed]",
            "text/plain": [
              "<Figure size 720x360 with 1 Axes>"
            ]
          },
          "metadata": {
            "tags": []
          }
        },
        {
          "output_type": "stream",
          "text": [
            "El mejor accuracy es 0.7116736990154712 cuando C = 1.0\n"
          ],
          "name": "stdout"
        }
      ]
    },
    {
      "cell_type": "markdown",
      "metadata": {
        "id": "bFkZaeX-W1co",
        "colab_type": "text"
      },
      "source": [
        "**Comentarios:** Se puede observar como ambas precisiones aumentan a medida que el parámetro de regularización se vuelve más fuerte, es decir, se van eliminando atributos irrelevantes. Una idea general es que el modelo elimina aquellos atributos que no son relevantes para clasificar una opinión como positiva o negativa, esto puede estar relacionado con las palabras que no se eliminaron en el pre-procesamiento.\n",
        "\n",
        "El conjunto de entrenamiento permite analizar que tanto overfitting se está produciendo. En este caso, ambos conjuntos tienen un comportamiento similar entre C = 0.0001 y C = 10.0 lo que significa un comportamiento positivo porque no hay overfitting; sin embargo, luego del intervalo anterior el conjunto de validación tiende a encontrar más errores de predicción mientras el conjunto de entrenamiento no, evidenciando así un overfitting casi despreciable.\n",
        "\n",
        "En general este modelo entrega resultados positivos para poder ser considerado. Podría servir para determinar cuales son los mejores atributos de entrada y poder hacer más pruebas. Además, en base a los resultados obtenidos se podría asumir que los atributos no están tan correlacionados."
      ]
    },
    {
      "cell_type": "markdown",
      "metadata": {
        "id": "E6uOgvozhRdo",
        "colab_type": "text"
      },
      "source": [
        "\n",
        "> g) Entrene una Máquina de Soporte Vectorial (SVM) con distintos kernels. Similar a lo anterior, construya un gráfico que muestre la variación de ambos errores respecto al parámetro de regularización $C$ para cada tipo de kernel que experimente. Explique el significado y valor esperado de los parámetros en este modelo.\n",
        "\n"
      ]
    },
    {
      "cell_type": "code",
      "metadata": {
        "id": "9SmoCaashRdt",
        "colab_type": "code",
        "colab": {}
      },
      "source": [
        "from sklearn.svm import SVC as SVM #SVC is for classification\n",
        "\n",
        "def do_SVM(x, y, xv, yv, param, kernel_choice):\n",
        "    C = param\n",
        "    #print(\"Param C= \",C, 'Kernel= ', kernel_choice)\n",
        "    model= SVM(kernel = kernel_choice)\n",
        "    model.set_params(C = C, kernel = kernel_choice) #try rbf and linear at least\n",
        "    model.fit(x,y)\n",
        "    train_acc = model.score(x,y)\n",
        "    test_acc = model.score(xv,yv)\n",
        "\n",
        "    return model, train_acc, test_acc\n",
        "\n",
        "def kernels_plot(kernel):\n",
        "  Cs = [10**i for i in np.arange(-4,4).astype(float)]\n",
        "  list_train = list()\n",
        "  list_test  = list()\n",
        "  max_val_acc = 0\n",
        "  C = 0\n",
        "\n",
        "  for i in Cs:\n",
        "      model, train_acc, test_acc = do_SVM(features_train, labels_train, features_val, labels_val, i, kernel)\n",
        "      list_train.append(train_acc)\n",
        "      list_test.append(test_acc)\n",
        "\n",
        "      if test_acc > max_val_acc:\n",
        "        max_val_acc = test_acc\n",
        "        C = i \n",
        "\n",
        "  plt.plot(list_train, marker='', color='red', linewidth=2, linestyle='dashed', label=\"Entrenamiento\")\n",
        "  plt.plot(list_test, marker='', color='blue', linewidth=2, linestyle='dashed', label=\"Validación\")\n",
        "  xi = list(range(len(Cs)))\n",
        "  plt.xticks(xi, Cs)\n",
        "  plt.title(\"Precisiones SVM, Kernel: \" + kernel)\n",
        "  plt.legend()\n",
        "  plt.xlabel('Parámetro de regularización (C)')\n",
        "  plt.ylabel(\"Precisión (Accuracy)\")\n",
        "  plt.show()\n",
        "\n",
        "  print(\"El mejor accuracy es {} cuando C = {}\".format(max_val_acc, C))"
      ],
      "execution_count": 0,
      "outputs": []
    },
    {
      "cell_type": "code",
      "metadata": {
        "id": "fiURzGpROAuR",
        "colab_type": "code",
        "outputId": "fdc83f4b-2e44-4763-94c9-51e377fe92fd",
        "colab": {
          "base_uri": "https://localhost:8080/",
          "height": 1000
        }
      },
      "source": [
        "# import warnings filter\n",
        "from warnings import simplefilter\n",
        "# ignore all future warnings\n",
        "simplefilter(action='ignore', category=FutureWarning)\n",
        "\n",
        "kernels_plot(\"linear\")\n",
        "kernels_plot(\"rbf\")\n",
        "kernels_plot(\"poly\")\n",
        "kernels_plot(\"sigmoid\")\n",
        "# kernels_plot(\"precomputed\")"
      ],
      "execution_count": 0,
      "outputs": [
        {
          "output_type": "display_data",
          "data": {
            "image/png": "[encoded data removed]",
            "text/plain": [
              "<Figure size 432x288 with 1 Axes>"
            ]
          },
          "metadata": {
            "tags": []
          }
        },
        {
          "output_type": "stream",
          "text": [
            "El mejor accuracy es 0.6919831223628692 cuando C = 0.1\n"
          ],
          "name": "stdout"
        },
        {
          "output_type": "display_data",
          "data": {
            "image/png": "[encoded data removed]",
            "text/plain": [
              "<Figure size 432x288 with 1 Axes>"
            ]
          },
          "metadata": {
            "tags": []
          }
        },
        {
          "output_type": "stream",
          "text": [
            "El mejor accuracy es 0.6849507735583685 cuando C = 1000.0\n"
          ],
          "name": "stdout"
        },
        {
          "output_type": "display_data",
          "data": {
            "image/png": "[encoded data removed]",
            "text/plain": [
              "<Figure size 432x288 with 1 Axes>"
            ]
          },
          "metadata": {
            "tags": []
          }
        },
        {
          "output_type": "stream",
          "text": [
            "El mejor accuracy es 0.509142053445851 cuando C = 0.0001\n"
          ],
          "name": "stdout"
        },
        {
          "output_type": "display_data",
          "data": {
            "image/png": "[encoded data removed]",
            "text/plain": [
              "<Figure size 432x288 with 1 Axes>"
            ]
          },
          "metadata": {
            "tags": []
          }
        },
        {
          "output_type": "stream",
          "text": [
            "El mejor accuracy es 0.7018284106891702 cuando C = 1000.0\n"
          ],
          "name": "stdout"
        }
      ]
    },
    {
      "cell_type": "markdown",
      "metadata": {
        "id": "UzMvXZ1Jvu_P",
        "colab_type": "text"
      },
      "source": [
        "**Comentarios**: Lo que hace SVM es construir un hiperplano de n dimensiones (donde n es la cantidad de atributos) para clasificar los datos. En este caso se está construyendo hiperplano que pueda separar adecuadamente los puntos etiquetados como positivos o negativos. Sin embargo, pueden existir puntos que traspasen la frontera a la cual pertenecen; es ahí donde entra en juego el valor de C. El parámetro de regularización se encarga de ajustar un margen al hiperplano capaz de ignorar puntos dentro de éste. A medida que C aumenta, menor será este margen y una menor cantidad de puntos serán ignorados. Por tanto se esperaría los accuracies aumenten a medida que C lo hace, lo que se puede comprobar observando los gráficos anteriores.\n",
        "\n",
        "En relación a los gráficos:\n",
        "\n",
        "*  Con kernel *linear* la precisión mejora antes que el resto a medida que *C* aumenta, terminando con un accuracy final aproximado de 0.687.\n",
        "*  El kernel *rbf* tiene un ajuste tardío en comparación al anterior, pero que termina con un accuracy de 0.685.\n",
        "*  El kernel *poly* tiene un comportamiento interesante, ya que ambos conjuntos tienen accuracies similares y constantes. A pesar de que no se evidencia overffiting, este kernel no parece ser una buena opción porque el mejor accuracy encontrado es 0.510, muy por debajo en comparación a otros modelos. Una persona no se sentiría confiada de usar un método que tenga 1/2 de probabilidad para acertar.  Una razón de este fenómeno puede ser que el hiperplano trazado está muy lejos de los puntos y ni aumentando el margen se logra alcanzarlos.\n",
        "*  El kernel *sigmoid* tiene un comportamiento parecido al rbf, sin embargo, su accuracy final es 0.702, levemente mejor al resto, pero no mejor al de Regresión Logística.\n",
        "\n",
        "En general la mayoría de los accuracies tienen un comportamiento parecido: cuando el de entrenamiento aumenta, el de validación también lo hace. Hay unas leves diferencias en la tasa de crecimiento en algunos kernels como rbf y sigmoid, pero no es un comportamiento para concluir que existe overfitting. Finalmente, los resultados son positivos, siendo la SVM con kernel sigmoid y C = 10 una buena opción para considerar para problemas de esta índole."
      ]
    },
    {
      "cell_type": "markdown",
      "metadata": {
        "id": "PCrkFjFghRd0",
        "colab_type": "text"
      },
      "source": [
        "> h) Utilice el algoritmo de similaridad k-NN para intentar resolver el problema. Varíe el parámetro de los vecinos $k$ en un rango que estime conveniente y realice graficos de errores como en las preguntas anteriores. Comente sobre el valor esperado de este parámetro."
      ]
    },
    {
      "cell_type": "code",
      "metadata": {
        "id": "vfoEsvEWhRd2",
        "colab_type": "code",
        "outputId": "59e41270-df7b-4031-b9d5-db061f3b0eee",
        "colab": {
          "base_uri": "https://localhost:8080/",
          "height": 608
        }
      },
      "source": [
        "from sklearn.neighbors import KNeighborsClassifier\n",
        "\n",
        "def do_KNN(x, y, xv, yv, param):\n",
        "    model = KNeighborsClassifier()\n",
        "    #print(\"Param K= \",param)\n",
        "    model.set_params(n_neighbors = param)\n",
        "    model.fit(x, y)\n",
        "    train_acc = model.score(x, y)\n",
        "    test_acc = model.score(xv, yv)\n",
        "\n",
        "    return model, train_acc, test_acc\n",
        "\n",
        "def knn_plot(steps = 100):\n",
        "  train_accs = []\n",
        "  test_accs = []\n",
        "  Ks = np.arange(1, features_train.shape[0], steps)\n",
        "  max_val_acc = 0\n",
        "  k = 0\n",
        "\n",
        "  for i in Ks:\n",
        "    model, train_acc, test_acc = do_KNN(features_train, labels_train, features_val, labels_val, param = i)\n",
        "    train_accs.append(train_acc)\n",
        "    test_accs.append(test_acc)\n",
        "\n",
        "    if test_acc > max_val_acc:\n",
        "      max_val_acc = test_acc\n",
        "      k = i\n",
        "    \n",
        "  plt.plot(train_accs, marker='', color='red', linewidth=2, linestyle='dashed', label=\"Entrenamiento\")\n",
        "  plt.plot(test_accs, marker='', color='blue', linewidth=2, linestyle='dashed', label=\"Validación\")\n",
        "  xi = list(range(len(Ks)))\n",
        "  plt.xticks(xi, Ks)\n",
        "  plt.legend()\n",
        "  plt.xlabel('Número de vecinos')\n",
        "  plt.ylabel('Precisión (Accuracy)')\n",
        "  plt.title(\"Precisiones con KNN\")\n",
        "  plt.show()\n",
        "\n",
        "  print(\"El mejor accuracy es {} cuando k = {}\".format(max_val_acc, k))\n",
        "\n",
        "knn_plot(10)\n",
        "knn_plot(100)"
      ],
      "execution_count": 0,
      "outputs": [
        {
          "output_type": "display_data",
          "data": {
            "image/png": "[encoded data removed]",
            "text/plain": [
              "<Figure size 432x288 with 1 Axes>"
            ]
          },
          "metadata": {
            "tags": []
          }
        },
        {
          "output_type": "stream",
          "text": [
            "El mejor accuracy es 0.5991561181434599 cuando k = 431\n"
          ],
          "name": "stdout"
        },
        {
          "output_type": "display_data",
          "data": {
            "image/png": "[encoded data removed]",
            "text/plain": [
              "<Figure size 432x288 with 1 Axes>"
            ]
          },
          "metadata": {
            "tags": []
          }
        },
        {
          "output_type": "stream",
          "text": [
            "El mejor accuracy es 0.5893108298171589 cuando k = 1\n"
          ],
          "name": "stdout"
        }
      ]
    },
    {
      "cell_type": "markdown",
      "metadata": {
        "id": "LARnkFdyOveo",
        "colab_type": "text"
      },
      "source": [
        "**Comentarios:** Lo que hace KNN es calcular una distancia entre los items a clasificar y el resto de items del dataset de entrenamiento. Para ello se seleccionan los *k* elementos más cercanos (vecinos) y se escoge aquella clase que domine en esa zona para decidir la clasificación final. Entonces, al aumentar *k* no es posible predecir como influirá en los accuracies, pues depende de los elementos que existan en vecindades. \n",
        "\n",
        "Para medir los accuracies, se recorrieron los elementos en intervalos de 10 y 100.\n",
        "\n",
        "De los gráficos se puede apreciar un comportamiento bastante irregular en las precisiones, donde ambos parecieran ilustrar la misma forma: una disminución irregular al inicio, una forma constante y luego un aumento irregular. Sin embargo es algo esperado, ya que como se dijo anteriormente, aumentar la cantidad de vecinos a considerar depende de los datos que existan. De todos modos es un resultado positivo para el overfitting, ya que el comportamiento similar implicaría la ausencia de éste.\n",
        "\n",
        "Considerando la precisión máxima lograda por el conjunto con más vecinos se puede decir que es un valor bajo y que no supera a los modelos anteriores. "
      ]
    },
    {
      "cell_type": "markdown",
      "metadata": {
        "id": "PcCT6X81hRd-",
        "colab_type": "text"
      },
      "source": [
        "\n",
        "> i) Entrene un Arbol de Decisión para resolver el problema. Varíe los parámetros de *max depth* y *min samples split* de manera separada, constuyendo gráficos de error respecto a estos parámetros. *Los valores que se presentan son sugerencias, no es necesario utilizar los mismos*. Comente sobre la diferencia entre la selección de estos dos parámetros.\n",
        "\n"
      ]
    },
    {
      "cell_type": "code",
      "metadata": {
        "id": "fQrM0rOVhReB",
        "colab_type": "code",
        "outputId": "706b624e-475b-4093-81fb-9101d186f60d",
        "colab": {
          "base_uri": "https://localhost:8080/",
          "height": 1000
        }
      },
      "source": [
        "from sklearn.tree import DecisionTreeClassifier as Tree\n",
        "\n",
        "# Explicación: https://scikit-learn.org/stable/modules/tree.html\n",
        "def do_Tree(x, y, xv, yv, param_d = None, param_m = 2):\n",
        "    model= Tree()\n",
        "    #print(\"Param Max-D= \",param_d, 'Min-samples-S= ', param_m)\n",
        "    model.set_params(max_depth = param_d, min_samples_split = param_m) \n",
        "    model.fit(x, y)\n",
        "    train_acc = model.score(x, y)\n",
        "    test_acc = model.score(xv, yv)\n",
        "\n",
        "    return model, train_acc, test_acc\n",
        "\n",
        "def tree_plot(depths, samples):\n",
        "  train_accs = []\n",
        "  test_accs = []\n",
        "  max_val_acc = 0\n",
        "  best_depth = 0\n",
        "\n",
        "  for depth in depths:\n",
        "    model, train_acc, test_acc = model, train_acc, test_acc = do_Tree(features_train, labels_train, features_val, labels_val, depth, samples)\n",
        "    train_accs.append(train_acc)\n",
        "    test_accs.append(test_acc)\n",
        "\n",
        "    if test_acc > max_val_acc:\n",
        "      max_val_acc = test_acc\n",
        "      best_depth = depth\n",
        "  \n",
        "  plt.plot(train_accs, marker='', color='red', linewidth=2, linestyle='dashed', label=\"Entrenamiento\")\n",
        "  plt.plot(test_accs, marker='', color='blue', linewidth=2, linestyle='dashed', label=\"Validación\")\n",
        "  #xi = list(range(len(depths)))\n",
        "  #plt.xticks(xi, Cs)\n",
        "  plt.title(\"Árbol de Decisión con min_samples_split = \" + str(samples))\n",
        "\n",
        "  plt.legend()\n",
        "  plt.xlabel('Profundidad máxima (max_depth)')\n",
        "  plt.ylabel('Precisión (Accuracy)')\n",
        "  plt.show()\n",
        "\n",
        "  print(\"El mejor accuracy es {} cuando max_depth = {}\".format(max_val_acc, best_depth))\n",
        "  \n",
        "\n",
        "Depths = np.arange(1, features_train.shape[1], 100 ) #choose steps\n",
        "SamplesS = np.arange(2, features_train.shape[0] , int(features_train.shape[0]/4)) #choose steps\n",
        "\n",
        "for samples in SamplesS:\n",
        "  tree_plot(Depths, samples)"
      ],
      "execution_count": 0,
      "outputs": [
        {
          "output_type": "display_data",
          "data": {
            "image/png": "[encoded data removed]",
            "text/plain": [
              "<Figure size 432x288 with 1 Axes>"
            ]
          },
          "metadata": {
            "tags": []
          }
        },
        {
          "output_type": "stream",
          "text": [
            "El mejor accuracy es 0.6244725738396625 cuando max_depth = 1401\n"
          ],
          "name": "stdout"
        },
        {
          "output_type": "display_data",
          "data": {
            "image/png": "[encoded data removed]",
            "text/plain": [
              "<Figure size 432x288 with 1 Axes>"
            ]
          },
          "metadata": {
            "tags": []
          }
        },
        {
          "output_type": "stream",
          "text": [
            "El mejor accuracy es 0.6146272855133614 cuando max_depth = 3401\n"
          ],
          "name": "stdout"
        },
        {
          "output_type": "display_data",
          "data": {
            "image/png": "[encoded data removed]",
            "text/plain": [
              "<Figure size 432x288 with 1 Axes>"
            ]
          },
          "metadata": {
            "tags": []
          }
        },
        {
          "output_type": "stream",
          "text": [
            "El mejor accuracy es 0.5935302390998594 cuando max_depth = 5201\n"
          ],
          "name": "stdout"
        },
        {
          "output_type": "display_data",
          "data": {
            "image/png": "[encoded data removed]",
            "text/plain": [
              "<Figure size 432x288 with 1 Axes>"
            ]
          },
          "metadata": {
            "tags": []
          }
        },
        {
          "output_type": "stream",
          "text": [
            "El mejor accuracy es 0.5569620253164557 cuando max_depth = 101\n"
          ],
          "name": "stdout"
        },
        {
          "output_type": "display_data",
          "data": {
            "image/png": "[encoded data removed]",
            "text/plain": [
              "<Figure size 432x288 with 1 Axes>"
            ]
          },
          "metadata": {
            "tags": []
          }
        },
        {
          "output_type": "stream",
          "text": [
            "El mejor accuracy es 0.510548523206751 cuando max_depth = 1\n"
          ],
          "name": "stdout"
        }
      ]
    },
    {
      "cell_type": "markdown",
      "metadata": {
        "id": "lRY6bsWsVao2",
        "colab_type": "text"
      },
      "source": [
        "**Comentarios:** En este caso se variaron los parámetros de forma separada. Los samples se divieron en 4 partes equitativas, donde por cada valor se entrenaron árboles de decisión variando los max_depth en intervalos de 100 entre la cantidad de atributos para entrenamiento.\n",
        "\n",
        "Con respecto a los resultados:\n",
        "\n",
        "*   Con min_samples_split = 2 el comportamiento de las precisiones para el conjunto de validación pareciera tener un comportamiento irregular pero que tiende a ser constante. Lo que está ocurriendo aquí es que el modelo sufre de *overfit*, lo que se puede comprobar con el comportamiento de las precisiones en el conjunto de pruebas, ya que tiene precisión 1 en todo momento. El máximo accuracy que logra es aproximadamente de 0.572 cuando max_depth = 101, lo que no supera los modelos anteriores.\n",
        "*   El resto de los resultados no parecieran mejorar, aunque se reduce el overfitting. Lo anterior se debe a que al árbol le cuesta aprender de los datos, lo que resulta en una baja calidad del modelo.\n",
        "\n",
        "Existen otras razones del comportamiento del modelo, como por ejemplo la cantidad de atributos que también pueden significar overfit cuando hay pocos samples. Los resultados se podrían mejorar si se estudian los atributos (PCA o ICA pueden ser buenas alternativas).\n",
        "\n",
        "En conclusión, la profundidad del árbol mejora el accuracy; mientras que la división de muestras puede ayudar a clasificar más rápido."
      ]
    },
    {
      "cell_type": "markdown",
      "metadata": {
        "id": "C37Cq_yohReI",
        "colab_type": "text"
      },
      "source": [
        "> j) Utilice una Red Neuronal Artificial (ANN) para intentar resolver el problema, como la que se señala a continuación (utilizando el framework de *keras*): entrenada por 25 iteraciones al dataset (*epochs*) con un tamaño de *batch* de 128 para las actualizaciones de los pesos, utilizando *SGD* con una tasa de aprendizaje $0.1$ sobre la función de pérdida binaria de clasificación. La arquitectura de la red contiene una capa de salida con una única neurona que indica la probabilidad de que el texto sea positivo, una capa escondida con número de neuronas $N_h$ y la capa de entrada implícita para $x$. Varíe el parámetro que corresponde al número de neuronas en la capa oculta $N_h$, en potencias de 2, y vuelva a realizar el gráfico de error con respecto al parámetro. Comente.\n"
      ]
    },
    {
      "cell_type": "code",
      "metadata": {
        "id": "GsfgzZoOhReM",
        "colab_type": "code",
        "outputId": "85854127-7ae4-4ae7-80fa-28b5bfac1701",
        "colab": {
          "base_uri": "https://localhost:8080/",
          "height": 313
        }
      },
      "source": [
        "from keras.models import Sequential\n",
        "from keras.layers import Dense\n",
        "from keras.optimizers import SGD\n",
        "import tensorflow as tf\n",
        "tf.logging.set_verbosity(tf.logging.ERROR)\n",
        "\n",
        "def do_ANN(x, y, xv, yv, param):\n",
        "  #print(\"Neuron hidden = \",param)\n",
        "  model = Sequential()\n",
        "  model.add(Dense(units=param, input_dim=x.shape[1], activation=\"sigmoid\"))\n",
        "  model.add(Dense(1, activation=\"sigmoid\"))\n",
        "  model.compile(optimizer=SGD(lr=0.1), loss=\"binary_crossentropy\", metrics=[\"accuracy\"])\n",
        "  model.fit(x, y, epochs=25, batch_size=128, verbose=0)\n",
        "  train_acc = model.evaluate(x,y, verbose=0)[1] #in position 0 is the loss\n",
        "  test_acc = model.evaluate(xv,yv, verbose=0)[1]\n",
        "\n",
        "  return model, train_acc, test_acc\n",
        "\n",
        "def ann_plot(p=10):\n",
        "  N_h = [2**i for i in range(1, p)]\n",
        "  train_accs = []\n",
        "  test_accs = []\n",
        "  max_val_acc = 0\n",
        "  best_n = 0\n",
        "\n",
        "  for n in N_h:\n",
        "    model, train_acc, test_acc = do_ANN(features_train, labels_train, features_val, labels_val, n)    \n",
        "    train_accs.append(train_acc)\n",
        "    test_accs.append(test_acc)\n",
        "\n",
        "    if test_acc > max_val_acc:\n",
        "      max_val_acc = test_acc\n",
        "      best_n = n\n",
        "\n",
        "  plt.plot(train_accs, marker='', color='red', linewidth=2, linestyle='dashed', label=\"Entrenamiento\")\n",
        "  plt.plot(test_accs, marker='', color='blue', linewidth=2, linestyle='dashed', label=\"Validación\")\n",
        "  plt.title(\"Precisiones con ANN en base al N° de neuronas de capas ocultas\")\n",
        "  xi = list(range(len(N_h)))\n",
        "  plt.xticks(xi, N_h)\n",
        "  plt.legend()\n",
        "  plt.xlabel('Número de neuronas en capa oculta')\n",
        "  plt.ylabel('Precisión (Accuracy)')\n",
        "  plt.show()\n",
        "\n",
        "  print(\"El mejor accuracy es {} cuando hay = {} neuronas en capa oculta\".format(max_val_acc, best_n))\n",
        "\n",
        "ann_plot()"
      ],
      "execution_count": 0,
      "outputs": [
        {
          "output_type": "display_data",
          "data": {
            "image/png": "[encoded data removed]",
            "text/plain": [
              "<Figure size 432x288 with 1 Axes>"
            ]
          },
          "metadata": {
            "tags": []
          }
        },
        {
          "output_type": "stream",
          "text": [
            "El mejor accuracy es 0.648382559942629 cuando hay = 16 neuronas en capa oculta\n"
          ],
          "name": "stdout"
        }
      ]
    },
    {
      "cell_type": "markdown",
      "metadata": {
        "id": "qFGd5MouOZrC",
        "colab_type": "text"
      },
      "source": [
        "**Comentarios:** Del gráfico anterior es posible notar un comportamiento irregular de las precisiones utilizando una Red Neuronal Artificial, donde se puede ver además que la precisión tiende a decrecer a medida que se aumenta la cantidad de neuronas en la capa oculta. Sin embargo, el máximo accuracy es de 0.648, lo que es un valor más aceptable en comparación a los otros modelos. La razón de este comportamiento depende netamente del dataset y de los atributos. Otra razón puede ser que utilizar muchas neuronas en la capa oculta no es eficiente para un problema de pocas clases, o de clasificación binaria."
      ]
    },
    {
      "cell_type": "markdown",
      "metadata": {
        "id": "r1QcpQLhhReU",
        "colab_type": "text"
      },
      "source": [
        "\n",
        "> k) Ahora evalúe sobre el conjunto de pruebas el mejor modelo obtenido, seleccionado en base a la métrica de desempeño en el conjunto de validación. Comente sobre la calidad obtenida en el problema trabajado ¿Es un buen valor? ¿Cuál podría ser un valor de referencia?\n"
      ]
    },
    {
      "cell_type": "code",
      "metadata": {
        "id": "CNgezWynhReV",
        "colab_type": "code",
        "outputId": "8d950bcf-62ad-4df2-bdbe-99c1fec28c07",
        "colab": {
          "base_uri": "https://localhost:8080/",
          "height": 35
        }
      },
      "source": [
        "model, train_acc, test_acc = do_LOGIT(features_train, labels_train, features_val, labels_val, param = 10)\n",
        "\n",
        "print(\"Score en el conjunto de pruebas: \",test_acc)"
      ],
      "execution_count": 0,
      "outputs": [
        {
          "output_type": "stream",
          "text": [
            "Score en el conjunto de pruebas:  0.7243319268635724\n"
          ],
          "name": "stdout"
        }
      ]
    },
    {
      "cell_type": "markdown",
      "metadata": {
        "id": "3FdkLxdmbnWD",
        "colab_type": "text"
      },
      "source": [
        "**Comentarios:**\n",
        "El score anterior se obtuvo con el modelo de Regresión Logística con el mejor parámetro (C = 10). Es interesante notar que se obtuvo un valor similar que con el conjunto de validación, siendo que este último era utilizado para medir el overfitting de los modelos anteriores. En este caso, el sentido del score obtenido nos dice el poder predictivo real del modelo. En general es un buen valor, como es clasificación binaria se esperaría minimo obtener un 50%. Con el score obtenido el modelo tendrá un 72% de probabilidad para acertar.\n",
        "\n",
        "Los métodos como Regresión Logística y SVM son buenos para el análisis de sentimiento, ya que estos pueden escalar bien en base al dataset; aunque independiente del método escogido, hay una gran importancia en la etapa del pre-procesamiento y vectorización donde pueden surgir ciertas incoherencias con la transformación de los textos."
      ]
    },
    {
      "cell_type": "markdown",
      "metadata": {
        "id": "eyTxNDaqhReb",
        "colab_type": "text"
      },
      "source": [
        "\n",
        "> l) Para comparar sus resultados utilice el modelo VADER (*Valence Aware Dictionary and sEntiment Reasoner*) [[6]](#refs), el cual entrega una *score* de predicción a nivel léxico (de palabras que comúnmente se asocian a una orientiación positiva o negativa). Este modelo construido manualmente no requiere entrenamiento, por lo que solo debe evaluar en conjunto de pruebas realizando predicciones del texto bruto (sin pre-procesamiento). Comente.\n",
        "\n"
      ]
    },
    {
      "cell_type": "code",
      "metadata": {
        "id": "KLLnX-gahRed",
        "colab_type": "code",
        "outputId": "24912a68-bb7b-4c47-d6ed-d5ce30205e1a",
        "colab": {
          "base_uri": "https://localhost:8080/",
          "height": 52
        }
      },
      "source": [
        "!pip install vaderSentiment\n",
        "from vaderSentiment.vaderSentiment import SentimentIntensityAnalyzer \n",
        "from sklearn.metrics import accuracy_score\n",
        "\n",
        "def vader_predict(sentences): \n",
        "    sid_obj = SentimentIntensityAnalyzer() \n",
        "    sent_v = []\n",
        "\n",
        "    for text in sentences:\n",
        "        sentiment_dict = sid_obj.polarity_scores(text) \n",
        "        if sentiment_dict[\"pos\"] > sentiment_dict[\"neg\"]: #based on scores\n",
        "            sent_v.append(1)\n",
        "        else:\n",
        "            sent_v.append(0)\n",
        "\n",
        "    return np.asarray(sent_v)\n",
        "\n",
        "vader_pred_test = vader_predict(df_test_text) \n",
        "accuracy_score(labels_test, vader_pred_test)"
      ],
      "execution_count": 0,
      "outputs": [
        {
          "output_type": "stream",
          "text": [
            "Requirement already satisfied: vaderSentiment in /usr/local/lib/python3.6/dist-packages (3.2.1)\n"
          ],
          "name": "stdout"
        },
        {
          "output_type": "execute_result",
          "data": {
            "text/plain": [
              "0.6359032076533483"
            ]
          },
          "metadata": {
            "tags": []
          },
          "execution_count": 61
        }
      ]
    },
    {
      "cell_type": "markdown",
      "metadata": {
        "id": "z8eYj651cRIo",
        "colab_type": "text"
      },
      "source": [
        "**Comentarios:** Es interesante notar que el score entregado por el modelo VADER sea menor al obtenido por el mejor modelo. Una razón de esto se debe a la forma con la que VADER realiza las predicciones y que está entrenado para predecir polaridades en comentarios de redes sociales; por ende, el léxico utilizado para este trabajo puede no ser el más adecuado. Sin embargo, un score de 0.636 es un valor aceptable para respaldar la calidad de nuestro mejor modelo."
      ]
    },
    {
      "cell_type": "markdown",
      "metadata": {
        "id": "MDN1L6lzhRem",
        "colab_type": "text"
      },
      "source": [
        "\n",
        "> m) Bajo la idea del modelo VADER realice un análisis de qué palabras su modelo tiende a considerar como positivas o negativas por si solas. Algunos de los modelos estudiados en esta sección realizan una predicción probabilista, utilice uno de éstos para verificar lo solicitado. Sobre la representación *TF* genere datos de entradas que contengan una sola palabra del vocabulario para evaluar que predicción les genera su modelo a esas palabras. Muestre las palabras más negativas y positivas en el vocabulario consideradas por su modelo. Comente.\n",
        "\n"
      ]
    },
    {
      "cell_type": "code",
      "metadata": {
        "id": "UVxxW0_OhRen",
        "colab_type": "code",
        "outputId": "c1f7b3f9-33aa-43a8-900b-839f993a7ec7",
        "colab": {
          "base_uri": "https://localhost:8080/",
          "height": 697
        }
      },
      "source": [
        "def pos_vs_neg_words(vocab, model):\n",
        "  V = len(vocab)\n",
        "  word_scores = np.zeros((V, 2))\n",
        "\n",
        "  for i in range(V):\n",
        "    x_word = np.zeros((1, V))\n",
        "    x_word[:,i] = 1 # only the \"i\" word appeared\n",
        "    word_scores[i] = model.predict_proba(x_word)\n",
        "\n",
        "  negative_scores = word_scores[:, 0]\n",
        "  positive_scores = word_scores[:, 1]\n",
        "\n",
        "  negative_indexes = negative_scores.argsort()[-20:][::-1]\n",
        "  positive_indexes = positive_scores.argsort()[-20:][::-1]\n",
        "\n",
        "  most_negative_words = [vocab[i] for i in negative_indexes]\n",
        "  most_positive_words = [vocab[i] for i in positive_indexes]\n",
        "\n",
        "  print(\"Top 20 palabras más positivas y negativas\")\n",
        "  print(\"-----------------------------------------\")\n",
        "  df_results = pd.DataFrame(list(zip(most_positive_words, most_negative_words)), \n",
        "                columns =['Positivas', 'Negativas']) \n",
        "  return df_results \n",
        "\n",
        "model, train_acc, test_acc = do_LOGIT(features_train, labels_train, features_val, labels_val, param = 10)\n",
        "pos_vs_neg_words(vocab, model)"
      ],
      "execution_count": 0,
      "outputs": [
        {
          "output_type": "stream",
          "text": [
            "Top 20 palabras más positivas y negativas\n",
            "-----------------------------------------\n"
          ],
          "name": "stdout"
        },
        {
          "output_type": "execute_result",
          "data": {
            "text/html": [
              "<div>\n",
              "<style scoped>\n",
              "    .dataframe tbody tr th:only-of-type {\n",
              "        vertical-align: middle;\n",
              "    }\n",
              "\n",
              "    .dataframe tbody tr th {\n",
              "        vertical-align: top;\n",
              "    }\n",
              "\n",
              "    .dataframe thead th {\n",
              "        text-align: right;\n",
              "    }\n",
              "</style>\n",
              "<table border=\"1\" class=\"dataframe\">\n",
              "  <thead>\n",
              "    <tr style=\"text-align: right;\">\n",
              "      <th></th>\n",
              "      <th>Positivas</th>\n",
              "      <th>Negativas</th>\n",
              "    </tr>\n",
              "  </thead>\n",
              "  <tbody>\n",
              "    <tr>\n",
              "      <th>0</th>\n",
              "      <td>world</td>\n",
              "      <td>worst</td>\n",
              "    </tr>\n",
              "    <tr>\n",
              "      <th>1</th>\n",
              "      <td>marvel</td>\n",
              "      <td>cliche</td>\n",
              "    </tr>\n",
              "    <tr>\n",
              "      <th>2</th>\n",
              "      <td>witty</td>\n",
              "      <td>boring</td>\n",
              "    </tr>\n",
              "    <tr>\n",
              "      <th>3</th>\n",
              "      <td>wonderful</td>\n",
              "      <td>dull</td>\n",
              "    </tr>\n",
              "    <tr>\n",
              "      <th>4</th>\n",
              "      <td>solid</td>\n",
              "      <td>nearly</td>\n",
              "    </tr>\n",
              "    <tr>\n",
              "      <th>5</th>\n",
              "      <td>rare</td>\n",
              "      <td>feel</td>\n",
              "    </tr>\n",
              "    <tr>\n",
              "      <th>6</th>\n",
              "      <td>still</td>\n",
              "      <td>devoid</td>\n",
              "    </tr>\n",
              "    <tr>\n",
              "      <th>7</th>\n",
              "      <td>skillful</td>\n",
              "      <td>suffer</td>\n",
              "    </tr>\n",
              "    <tr>\n",
              "      <th>8</th>\n",
              "      <td>stick</td>\n",
              "      <td>pretentious</td>\n",
              "    </tr>\n",
              "    <tr>\n",
              "      <th>9</th>\n",
              "      <td>heart</td>\n",
              "      <td>apparent</td>\n",
              "    </tr>\n",
              "    <tr>\n",
              "      <th>10</th>\n",
              "      <td>ride</td>\n",
              "      <td>stale</td>\n",
              "    </tr>\n",
              "    <tr>\n",
              "      <th>11</th>\n",
              "      <td>haunting</td>\n",
              "      <td>bad</td>\n",
              "    </tr>\n",
              "    <tr>\n",
              "      <th>12</th>\n",
              "      <td>creative</td>\n",
              "      <td>unfortunately</td>\n",
              "    </tr>\n",
              "    <tr>\n",
              "      <th>13</th>\n",
              "      <td>tasty</td>\n",
              "      <td>heavy</td>\n",
              "    </tr>\n",
              "    <tr>\n",
              "      <th>14</th>\n",
              "      <td>openness</td>\n",
              "      <td>plodding</td>\n",
              "    </tr>\n",
              "    <tr>\n",
              "      <th>15</th>\n",
              "      <td>finish</td>\n",
              "      <td>silly</td>\n",
              "    </tr>\n",
              "    <tr>\n",
              "      <th>16</th>\n",
              "      <td>stitch</td>\n",
              "      <td>depressing</td>\n",
              "    </tr>\n",
              "    <tr>\n",
              "      <th>17</th>\n",
              "      <td>frailty</td>\n",
              "      <td>suffers</td>\n",
              "    </tr>\n",
              "    <tr>\n",
              "      <th>18</th>\n",
              "      <td>dense</td>\n",
              "      <td>neither</td>\n",
              "    </tr>\n",
              "    <tr>\n",
              "      <th>19</th>\n",
              "      <td>culture</td>\n",
              "      <td>tv</td>\n",
              "    </tr>\n",
              "  </tbody>\n",
              "</table>\n",
              "</div>"
            ],
            "text/plain": [
              "    Positivas      Negativas\n",
              "0       world          worst\n",
              "1      marvel         cliche\n",
              "2       witty         boring\n",
              "3   wonderful           dull\n",
              "4       solid         nearly\n",
              "5        rare           feel\n",
              "6       still         devoid\n",
              "7    skillful         suffer\n",
              "8       stick    pretentious\n",
              "9       heart       apparent\n",
              "10       ride          stale\n",
              "11   haunting            bad\n",
              "12   creative  unfortunately\n",
              "13      tasty          heavy\n",
              "14   openness       plodding\n",
              "15     finish          silly\n",
              "16     stitch     depressing\n",
              "17    frailty        suffers\n",
              "18      dense        neither\n",
              "19    culture             tv"
            ]
          },
          "metadata": {
            "tags": []
          },
          "execution_count": 62
        }
      ]
    },
    {
      "cell_type": "markdown",
      "metadata": {
        "id": "ncRnNlXm1m2b",
        "colab_type": "text"
      },
      "source": [
        "**Comentarios:** Para obtener las 20 palabras principales de cada caso, se consideraron aquellas que solo tienen un score mayor a $0.9$. Se puede observar cierta lógica con la clasificación de las palabras según el modelo utilizado. Como son palabras que están solas en el texto, carecen de contexto, lo que implica que estas palabras de por sí se reconocer como positivas o negativas. Por ejemplo, las palabras como *wonderful*, *tasty* y *witty* son palabras bien clasificadas, mientras hay otros adjetivos que dificilmente se puedan clasificar como algo bueno o malo, como lo es en el caso de *ride*, *finish* y *culture*. Por otra parte, en las palabras negativas se puede identificar varias logicamente válidas sin necesidad de contexto, como son *boring*, *dull* o *bad*. Al igual que en las positivas, también hay adjetivos que no identifican algún sentimiento."
      ]
    },
    {
      "cell_type": "markdown",
      "metadata": {
        "id": "GYmeYXF6hRer",
        "colab_type": "text"
      },
      "source": [
        "\n",
        "> n) Intente mejorar los resultados de otra manera. Varíe el pre-procesamiento realizado a los datos en c), por ejemplo eliminar símbolos, números o aplicar la técnica de *stemmming* [[7]](#refs) en lugar de *lemmatization* para llevar a su tronco léxico.\n"
      ]
    },
    {
      "cell_type": "code",
      "metadata": {
        "id": "AJ8Bu3IchReu",
        "colab_type": "code",
        "outputId": "c0d1583c-fdc7-4cd5-faf0-1db78fb6c16f",
        "colab": {
          "base_uri": "https://localhost:8080/",
          "height": 697
        }
      },
      "source": [
        "from nltk.stem import PorterStemmer\n",
        "from nltk.stem import LancasterStemmer\n",
        "from nltk.tokenize import sent_tokenize, word_tokenize\n",
        "\n",
        "porter=PorterStemmer()\n",
        "\n",
        "def stemSentence(sentence):\n",
        "    token_words=word_tokenize(sentence)\n",
        "    #token_words\n",
        "    stem_sentence=[]\n",
        "    for word in token_words:\n",
        "        stem_sentence.append(porter.stem(word))\n",
        "        stem_sentence.append(\" \")\n",
        "    return \"\".join(stem_sentence)\n",
        "\n",
        "texts_train = [stemSentence(text) for text in df_train_text]\n",
        "texts_val = [stemSentence(text) for text in df_val_text]\n",
        "texts_test = [stemSentence(text) for text in df_test_text]\n",
        "\n",
        "vectorizer = CountVectorizer(ngram_range=(1, 1), binary=False) #TF representation\n",
        "\n",
        "vectorizer.fit(texts_train)\n",
        "features_train = vectorizer.transform(texts_train)\n",
        "features_val = vectorizer.transform(texts_val)\n",
        "features_test = vectorizer.transform(texts_test)\n",
        "vocab = vectorizer.get_feature_names()\n",
        "\n",
        "model, train_acc, test_acc = do_LOGIT(features_train, labels_train, features_val, labels_val, param = 10)\n",
        "pos_vs_neg_words(vocab, model)"
      ],
      "execution_count": 0,
      "outputs": [
        {
          "output_type": "stream",
          "text": [
            "Top 20 palabras más positivas y negativas\n",
            "-----------------------------------------\n"
          ],
          "name": "stdout"
        },
        {
          "output_type": "execute_result",
          "data": {
            "text/html": [
              "<div>\n",
              "<style scoped>\n",
              "    .dataframe tbody tr th:only-of-type {\n",
              "        vertical-align: middle;\n",
              "    }\n",
              "\n",
              "    .dataframe tbody tr th {\n",
              "        vertical-align: top;\n",
              "    }\n",
              "\n",
              "    .dataframe thead th {\n",
              "        text-align: right;\n",
              "    }\n",
              "</style>\n",
              "<table border=\"1\" class=\"dataframe\">\n",
              "  <thead>\n",
              "    <tr style=\"text-align: right;\">\n",
              "      <th></th>\n",
              "      <th>Positivas</th>\n",
              "      <th>Negativas</th>\n",
              "    </tr>\n",
              "  </thead>\n",
              "  <tbody>\n",
              "    <tr>\n",
              "      <th>0</th>\n",
              "      <td>marvel</td>\n",
              "      <td>suffer</td>\n",
              "    </tr>\n",
              "    <tr>\n",
              "      <th>1</th>\n",
              "      <td>world</td>\n",
              "      <td>appar</td>\n",
              "    </tr>\n",
              "    <tr>\n",
              "      <th>2</th>\n",
              "      <td>open</td>\n",
              "      <td>worst</td>\n",
              "    </tr>\n",
              "    <tr>\n",
              "      <th>3</th>\n",
              "      <td>flaw</td>\n",
              "      <td>bore</td>\n",
              "    </tr>\n",
              "    <tr>\n",
              "      <th>4</th>\n",
              "      <td>witti</td>\n",
              "      <td>clich</td>\n",
              "    </tr>\n",
              "    <tr>\n",
              "      <th>5</th>\n",
              "      <td>solid</td>\n",
              "      <td>dull</td>\n",
              "    </tr>\n",
              "    <tr>\n",
              "      <th>6</th>\n",
              "      <td>refreshingli</td>\n",
              "      <td>unfortun</td>\n",
              "    </tr>\n",
              "    <tr>\n",
              "      <th>7</th>\n",
              "      <td>alway</td>\n",
              "      <td>tv</td>\n",
              "    </tr>\n",
              "    <tr>\n",
              "      <th>8</th>\n",
              "      <td>warm</td>\n",
              "      <td>plod</td>\n",
              "    </tr>\n",
              "    <tr>\n",
              "      <th>9</th>\n",
              "      <td>tasti</td>\n",
              "      <td>pretenti</td>\n",
              "    </tr>\n",
              "    <tr>\n",
              "      <th>10</th>\n",
              "      <td>heart</td>\n",
              "      <td>devoid</td>\n",
              "    </tr>\n",
              "    <tr>\n",
              "      <th>11</th>\n",
              "      <td>still</td>\n",
              "      <td>stale</td>\n",
              "    </tr>\n",
              "    <tr>\n",
              "      <th>12</th>\n",
              "      <td>wonder</td>\n",
              "      <td>pie</td>\n",
              "    </tr>\n",
              "    <tr>\n",
              "      <th>13</th>\n",
              "      <td>resist</td>\n",
              "      <td>flounder</td>\n",
              "    </tr>\n",
              "    <tr>\n",
              "      <th>14</th>\n",
              "      <td>human</td>\n",
              "      <td>bad</td>\n",
              "    </tr>\n",
              "    <tr>\n",
              "      <th>15</th>\n",
              "      <td>bourn</td>\n",
              "      <td>nearli</td>\n",
              "    </tr>\n",
              "    <tr>\n",
              "      <th>16</th>\n",
              "      <td>cinema</td>\n",
              "      <td>junk</td>\n",
              "    </tr>\n",
              "    <tr>\n",
              "      <th>17</th>\n",
              "      <td>evok</td>\n",
              "      <td>depress</td>\n",
              "    </tr>\n",
              "    <tr>\n",
              "      <th>18</th>\n",
              "      <td>affect</td>\n",
              "      <td>heavi</td>\n",
              "    </tr>\n",
              "    <tr>\n",
              "      <th>19</th>\n",
              "      <td>move</td>\n",
              "      <td>neither</td>\n",
              "    </tr>\n",
              "  </tbody>\n",
              "</table>\n",
              "</div>"
            ],
            "text/plain": [
              "       Positivas Negativas\n",
              "0         marvel    suffer\n",
              "1          world     appar\n",
              "2           open     worst\n",
              "3           flaw      bore\n",
              "4          witti     clich\n",
              "5          solid      dull\n",
              "6   refreshingli  unfortun\n",
              "7          alway        tv\n",
              "8           warm      plod\n",
              "9          tasti  pretenti\n",
              "10         heart    devoid\n",
              "11         still     stale\n",
              "12        wonder       pie\n",
              "13        resist  flounder\n",
              "14         human       bad\n",
              "15         bourn    nearli\n",
              "16        cinema      junk\n",
              "17          evok   depress\n",
              "18        affect     heavi\n",
              "19          move   neither"
            ]
          },
          "metadata": {
            "tags": []
          },
          "execution_count": 63
        }
      ]
    },
    {
      "cell_type": "markdown",
      "metadata": {
        "id": "FI0hHPy916EC",
        "colab_type": "text"
      },
      "source": [
        "**Comentarios:** En este caso las palabras están reducidas a su raíz, por ejemplo, \"tasty\" cambió a \"tasti\". \n",
        "\n",
        "En general los resultados son similares al caso anterior.\n",
        "\n"
      ]
    },
    {
      "cell_type": "markdown",
      "metadata": {
        "id": "zCu9ByJThRe4",
        "colab_type": "text"
      },
      "source": [
        "> o) Varíe la representación utilizada actualmente por alguna otra que ayude a mejorar el desempeño, por ejemplo reducir el peso de una palabra si es que aparece en muchos textos: TF-IDF. Existen varias opciones que podría realizar para mejorar el desempeño, por ejemplo reducir el vocabulario a las $K$ palabras más frecuentes, eliminar las palabras menos frecuentes, normalizar la representación, utilizar *n-gramas*, entre otras.\n",
        "\n"
      ]
    },
    {
      "cell_type": "code",
      "metadata": {
        "id": "Jy2fELwdhRe5",
        "colab_type": "code",
        "outputId": "b4f19604-a8a5-40a0-89e5-ac94a07f7cd4",
        "colab": {
          "base_uri": "https://localhost:8080/",
          "height": 697
        }
      },
      "source": [
        "from sklearn.feature_extraction.text import TfidfVectorizer\n",
        "\n",
        "# Método 1: TF-IDF\n",
        "tfidf_model = TfidfVectorizer(binary=False, ngram_range=(1, 1), max_df=1.0, min_df=1, max_features=None, norm='l2', use_idf=True, sublinear_tf=False)\n",
        "tfidf_model.fit(texts_train)\n",
        "\n",
        "new_features_train = tfidf_model.transform(texts_train)\n",
        "new_features_val = tfidf_model.transform(texts_val)\n",
        "new_features_test = tfidf_model.transform(texts_test)\n",
        "new_vocab = tfidf_model.get_feature_names()\n",
        "\n",
        "model, train_acc, test_acc = do_LOGIT(features_train, labels_train, features_val, labels_val, param = 10)\n",
        "pos_vs_neg_words(new_vocab, model)"
      ],
      "execution_count": 0,
      "outputs": [
        {
          "output_type": "stream",
          "text": [
            "Top 20 palabras más positivas y negativas\n",
            "-----------------------------------------\n"
          ],
          "name": "stdout"
        },
        {
          "output_type": "execute_result",
          "data": {
            "text/html": [
              "<div>\n",
              "<style scoped>\n",
              "    .dataframe tbody tr th:only-of-type {\n",
              "        vertical-align: middle;\n",
              "    }\n",
              "\n",
              "    .dataframe tbody tr th {\n",
              "        vertical-align: top;\n",
              "    }\n",
              "\n",
              "    .dataframe thead th {\n",
              "        text-align: right;\n",
              "    }\n",
              "</style>\n",
              "<table border=\"1\" class=\"dataframe\">\n",
              "  <thead>\n",
              "    <tr style=\"text-align: right;\">\n",
              "      <th></th>\n",
              "      <th>Positivas</th>\n",
              "      <th>Negativas</th>\n",
              "    </tr>\n",
              "  </thead>\n",
              "  <tbody>\n",
              "    <tr>\n",
              "      <th>0</th>\n",
              "      <td>marvel</td>\n",
              "      <td>suffer</td>\n",
              "    </tr>\n",
              "    <tr>\n",
              "      <th>1</th>\n",
              "      <td>world</td>\n",
              "      <td>appar</td>\n",
              "    </tr>\n",
              "    <tr>\n",
              "      <th>2</th>\n",
              "      <td>open</td>\n",
              "      <td>worst</td>\n",
              "    </tr>\n",
              "    <tr>\n",
              "      <th>3</th>\n",
              "      <td>flaw</td>\n",
              "      <td>bore</td>\n",
              "    </tr>\n",
              "    <tr>\n",
              "      <th>4</th>\n",
              "      <td>witti</td>\n",
              "      <td>clich</td>\n",
              "    </tr>\n",
              "    <tr>\n",
              "      <th>5</th>\n",
              "      <td>solid</td>\n",
              "      <td>dull</td>\n",
              "    </tr>\n",
              "    <tr>\n",
              "      <th>6</th>\n",
              "      <td>refreshingli</td>\n",
              "      <td>unfortun</td>\n",
              "    </tr>\n",
              "    <tr>\n",
              "      <th>7</th>\n",
              "      <td>alway</td>\n",
              "      <td>tv</td>\n",
              "    </tr>\n",
              "    <tr>\n",
              "      <th>8</th>\n",
              "      <td>warm</td>\n",
              "      <td>plod</td>\n",
              "    </tr>\n",
              "    <tr>\n",
              "      <th>9</th>\n",
              "      <td>tasti</td>\n",
              "      <td>pretenti</td>\n",
              "    </tr>\n",
              "    <tr>\n",
              "      <th>10</th>\n",
              "      <td>heart</td>\n",
              "      <td>devoid</td>\n",
              "    </tr>\n",
              "    <tr>\n",
              "      <th>11</th>\n",
              "      <td>still</td>\n",
              "      <td>stale</td>\n",
              "    </tr>\n",
              "    <tr>\n",
              "      <th>12</th>\n",
              "      <td>wonder</td>\n",
              "      <td>pie</td>\n",
              "    </tr>\n",
              "    <tr>\n",
              "      <th>13</th>\n",
              "      <td>resist</td>\n",
              "      <td>flounder</td>\n",
              "    </tr>\n",
              "    <tr>\n",
              "      <th>14</th>\n",
              "      <td>human</td>\n",
              "      <td>bad</td>\n",
              "    </tr>\n",
              "    <tr>\n",
              "      <th>15</th>\n",
              "      <td>bourn</td>\n",
              "      <td>nearli</td>\n",
              "    </tr>\n",
              "    <tr>\n",
              "      <th>16</th>\n",
              "      <td>cinema</td>\n",
              "      <td>junk</td>\n",
              "    </tr>\n",
              "    <tr>\n",
              "      <th>17</th>\n",
              "      <td>evok</td>\n",
              "      <td>depress</td>\n",
              "    </tr>\n",
              "    <tr>\n",
              "      <th>18</th>\n",
              "      <td>affect</td>\n",
              "      <td>heavi</td>\n",
              "    </tr>\n",
              "    <tr>\n",
              "      <th>19</th>\n",
              "      <td>move</td>\n",
              "      <td>neither</td>\n",
              "    </tr>\n",
              "  </tbody>\n",
              "</table>\n",
              "</div>"
            ],
            "text/plain": [
              "       Positivas Negativas\n",
              "0         marvel    suffer\n",
              "1          world     appar\n",
              "2           open     worst\n",
              "3           flaw      bore\n",
              "4          witti     clich\n",
              "5          solid      dull\n",
              "6   refreshingli  unfortun\n",
              "7          alway        tv\n",
              "8           warm      plod\n",
              "9          tasti  pretenti\n",
              "10         heart    devoid\n",
              "11         still     stale\n",
              "12        wonder       pie\n",
              "13        resist  flounder\n",
              "14         human       bad\n",
              "15         bourn    nearli\n",
              "16        cinema      junk\n",
              "17          evok   depress\n",
              "18        affect     heavi\n",
              "19          move   neither"
            ]
          },
          "metadata": {
            "tags": []
          },
          "execution_count": 64
        }
      ]
    },
    {
      "cell_type": "markdown",
      "metadata": {
        "id": "dYVfeXqc1Koo",
        "colab_type": "text"
      },
      "source": [
        "**Comentarios:** Los resultados son similares a los casos anteriores."
      ]
    },
    {
      "cell_type": "markdown",
      "metadata": {
        "id": "z7yjsZq3hRe_",
        "colab_type": "text"
      },
      "source": [
        "\n",
        "> p) Utilice métricas auxiliares para entender en qué falla su mejor modelo obtenido hasta el momento. ¿La información entregada indica cómo se podría mejorar o cual sería la causa de la falla?\n"
      ]
    },
    {
      "cell_type": "code",
      "metadata": {
        "id": "E7N2C3gihRfB",
        "colab_type": "code",
        "outputId": "3e303f60-10ec-44a0-c64d-294fc296c71b",
        "colab": {
          "base_uri": "https://localhost:8080/",
          "height": 191
        }
      },
      "source": [
        "from sklearn.metrics import classification_report\n",
        "\n",
        "def score_the_model(model, x, y):\n",
        "    print(\"Detailed Analysis Testing Results ...\")\n",
        "    print(classification_report(y, model.predict(x), target_names=['-','+']))\n",
        "\n",
        "score_the_model(model, features_test, labels_test)"
      ],
      "execution_count": 0,
      "outputs": [
        {
          "output_type": "stream",
          "text": [
            "Detailed Analysis Testing Results ...\n",
            "              precision    recall  f1-score   support\n",
            "\n",
            "           -       0.74      0.72      0.73      1803\n",
            "           +       0.72      0.75      0.73      1751\n",
            "\n",
            "    accuracy                           0.73      3554\n",
            "   macro avg       0.73      0.73      0.73      3554\n",
            "weighted avg       0.73      0.73      0.73      3554\n",
            "\n"
          ],
          "name": "stdout"
        }
      ]
    },
    {
      "cell_type": "markdown",
      "metadata": {
        "id": "DOaDil0r1Y3I",
        "colab_type": "text"
      },
      "source": [
        "**Comentarios:**\n",
        "Se puede ver que la clasificación tiene una mayor precision en los comentarios negativos con un 0.74 vs un 0.72, mientras que el recall es mejor en los comentarios positivos, esto corresponder a la capacidad del modelo de encontrar las muestras positivas. Ahora si se ponderan ambas métricas (f1-score) se puede ver que el valor de ambos es igualmente bueno 0.73.\n",
        "Al entregar solamente métricas no hay  indicaciones claras de como mejorar los resultados."
      ]
    },
    {
      "cell_type": "markdown",
      "metadata": {
        "id": "fwVFLbsshRfH",
        "colab_type": "text"
      },
      "source": [
        "> q) Algo que se puede modificar en algunos modelos de aprendizaje es poner peso en cada una de las clases, por ejemplo si una clase es de mayor interés que las otras e interesa reducir más su error. En *sklearn* ésto puede ser realizado con el parámetro de *class_weights*. Por ejemplo, asigne que detectar los textos negativos me interesa 5 veces más que detectar los textos positivos. Comente.\n",
        "```python\n",
        "classes_weights = {0: 5, 1: 1} #or choose..\n",
        "model.set_params(class_weight=classes_weights)\n",
        "model.fit(features_train, labels_train)\n",
        "score_the_model(model, features_test, labels_test)\n",
        "```"
      ]
    },
    {
      "cell_type": "code",
      "metadata": {
        "id": "Q6K3lduIhRfJ",
        "colab_type": "code",
        "outputId": "b0f4c355-c6fe-4b2f-ecf1-16ccb5056bcd",
        "colab": {
          "base_uri": "https://localhost:8080/",
          "height": 364
        }
      },
      "source": [
        "classes_weights = {0: 5, 1: 1} #or choose..\n",
        "model.set_params(class_weight=classes_weights)\n",
        "model.fit(features_train, labels_train)\n",
        "score_the_model(model, features_test, labels_test)\n",
        "model.fit(new_features_train, labels_train)\n",
        "score_the_model(model, new_features_test, labels_test)"
      ],
      "execution_count": 0,
      "outputs": [
        {
          "output_type": "stream",
          "text": [
            "Detailed Analysis Testing Results ...\n",
            "              precision    recall  f1-score   support\n",
            "\n",
            "           -       0.71      0.79      0.75      1803\n",
            "           +       0.76      0.67      0.71      1751\n",
            "\n",
            "    accuracy                           0.73      3554\n",
            "   macro avg       0.73      0.73      0.73      3554\n",
            "weighted avg       0.73      0.73      0.73      3554\n",
            "\n",
            "Detailed Analysis Testing Results ...\n",
            "              precision    recall  f1-score   support\n",
            "\n",
            "           -       0.68      0.86      0.76      1803\n",
            "           +       0.80      0.59      0.68      1751\n",
            "\n",
            "    accuracy                           0.73      3554\n",
            "   macro avg       0.74      0.72      0.72      3554\n",
            "weighted avg       0.74      0.73      0.72      3554\n",
            "\n"
          ],
          "name": "stdout"
        }
      ]
    },
    {
      "cell_type": "markdown",
      "metadata": {
        "id": "vi2KnbzbOwtw",
        "colab_type": "text"
      },
      "source": [
        "En este item se le dio 5 veces más importancia a la detección de comentarios negativos por sobre la de los positivos"
      ]
    },
    {
      "cell_type": "markdown",
      "metadata": {
        "id": "8lNwfgEohRfQ",
        "colab_type": "text"
      },
      "source": [
        "\n",
        "> r) Visualice la clasificación que realiza su mejor modelo sobre algunos textos de pruebas ¿Qué entega mas información, una predicción categórica o una continua? ¿Cuál podría ser el beneficio de una o de otra? Comente\n",
        "```python\n",
        "test_pred = log_model.predict_proba(features_test) #or \".predict\"\n",
        "spl = np.random.randint( 0, len(test_pred), size=15)\n",
        "for text, pred_s, true_s in zip(df_test_text[spl], test_pred[spl], labels_test[spl]):\n",
        "    print(\"True sent: \", true_s, \"-- Pred sent: \",pred_s)\n",
        "    print(\"Raw text: \", text)\n",
        "```"
      ]
    },
    {
      "cell_type": "code",
      "metadata": {
        "id": "kj5xPHNAhRfW",
        "colab_type": "code",
        "outputId": "3cfeff82-2295-4548-df1a-47f4b99336fc",
        "colab": {
          "base_uri": "https://localhost:8080/",
          "height": 817
        }
      },
      "source": [
        "#test_pred = log_model.predict_proba(features_test) #or \".predict\"\n",
        "test_pred = model.predict_proba(features_test) #or \".predict\"\n",
        "spl = np.random.randint(0, len(test_pred), size=15)\n",
        "\n",
        "for text, pred_s, true_s in zip(df_test_text[spl], test_pred[spl], labels_test[spl]):\n",
        "    print(\"True sent: \", true_s, \"-- Pred sent: \",pred_s)\n",
        "    print(\"Raw text: \", text)"
      ],
      "execution_count": 0,
      "outputs": [
        {
          "output_type": "stream",
          "text": [
            "True sent:  1.0 -- Pred sent:  [0.97988675 0.02011325]\n",
            "Raw text:  somewhere short of tremors on the modern b-scene : neither as funny nor as clever , though an agreeably unpretentious way to spend ninety minutes .\n",
            "\n",
            "True sent:  0.0 -- Pred sent:  [9.99778129e-01 2.21871102e-04]\n",
            "Raw text:  the movie is as padded as allen's jelly belly .\n",
            "\n",
            "True sent:  1.0 -- Pred sent:  [0.01166019 0.98833981]\n",
            "Raw text:  bluer than the atlantic and more biologically detailed than an autopsy , the movie . . . is , also , frequently hilarious .\n",
            "\n",
            "True sent:  0.0 -- Pred sent:  [0.00882374 0.99117626]\n",
            "Raw text:  the film's lack of personality permeates all its aspects  from the tv movie-esque , affected child acting to the dullest irish pub scenes ever filmed .\n",
            "\n",
            "True sent:  0.0 -- Pred sent:  [6.76993582e-04 9.99323006e-01]\n",
            "Raw text:  screenwriters scott abbott and michael petroni have turned rice's complex akasha into a cartoon monster .\n",
            "\n",
            "True sent:  1.0 -- Pred sent:  [0.96597232 0.03402768]\n",
            "Raw text:  if you ignore the cliches and concentrate on city by the sea's interpersonal drama , it ain't half-bad .\n",
            "\n",
            "True sent:  1.0 -- Pred sent:  [1.30015376e-04 9.99869985e-01]\n",
            "Raw text:  if you can push on through the slow spots , you'll be rewarded with some fine acting .\n",
            "\n",
            "True sent:  1.0 -- Pred sent:  [0.99394344 0.00605656]\n",
            "Raw text:  run , don't walk , to see this barbed and bracing comedy on the big screen .\n",
            "\n",
            "True sent:  0.0 -- Pred sent:  [0.00161228 0.99838772]\n",
            "Raw text:  just dreadful . i don't blame eddie murphy but shouldn't owen wilson know a movie must have a story and a script ?\n",
            "\n",
            "True sent:  0.0 -- Pred sent:  [0.9722819 0.0277181]\n",
            "Raw text:  the comedy death to smoochy is a rancorous curiosity : a movie without an apparent audience .\n",
            "\n",
            "True sent:  1.0 -- Pred sent:  [1.73198701e-04 9.99826801e-01]\n",
            "Raw text:  there is simply no doubt that this film asks the right questions at the right time in the history of our country .\n",
            "\n",
            "True sent:  0.0 -- Pred sent:  [0.86735811 0.13264189]\n",
            "Raw text:  as the movie dragged on , i thought i heard a mysterious voice , and felt myself powerfully drawn toward the light -- the light of the exit sign . i have returned from the beyond to warn you : this movie is 90 minutes long , and life is too short .\n",
            "\n",
            "True sent:  0.0 -- Pred sent:  [0.36727842 0.63272158]\n",
            "Raw text:  the cold and dreary weather is a perfect metaphor for the movie itself , which contains few laughs and not much drama .\n",
            "\n",
            "True sent:  1.0 -- Pred sent:  [0.99616047 0.00383953]\n",
            "Raw text:  . . . a weak , manipulative , pencil-thin story that is miraculously able to entertain anyway .\n",
            "\n",
            "True sent:  0.0 -- Pred sent:  [0.06391527 0.93608473]\n",
            "Raw text:  the creaking , rusty ship makes a fine backdrop , but the ghosts' haunting is routine .\n",
            "\n"
          ],
          "name": "stdout"
        }
      ]
    },
    {
      "cell_type": "markdown",
      "metadata": {
        "id": "qgQbKf_nYjTP",
        "colab_type": "text"
      },
      "source": [
        "Consideramos que las predicciones continuas entregan mejor información que las categóricas, ya que una prediccion categórica son más \"extremista\", pues solo considera que un comentario es bueno o malo, sin embargo en la vida real las cosas no son asi, en un mismo comentario podemos encontrar sentencias positivas y sentencias negativas. Es por esto que para hacer una análisis de los resultados quizás es mas conveniente usar la predicción continua, pero para el modelo es mejor la categorica."
      ]
    },
    {
      "cell_type": "markdown",
      "metadata": {
        "id": "Mwa7q-CQhRfc",
        "colab_type": "text"
      },
      "source": [
        "\n",
        "> s) Comente sobre el desempeño obtenido por los diferentes modelos de aprendizaje utilizados al enfrentar el problema, ¿Dónde pareciera estar la mejora? ¿En la variación de los modelos y sus parámetros o en la modificación de la representación? ¿Cuál modelo de aprendizaje le parece mejor en base a su criterio? ya sea desempeño, tiempo de ejecución comodidad en las decisiones involucradas, etc."
      ]
    },
    {
      "cell_type": "markdown",
      "metadata": {
        "id": "FEBfLEEyVRFv",
        "colab_type": "text"
      },
      "source": [
        "En general el desempeño obtenido por los diferentes modelos de aprendizaje supervisado son todos aceptables con algunas diferencias. Ciertos modelos se adecuan mejor al caso, tales como, la regresión logistica y SVM (estos son los que tienen mejor accuracy);al ser escalables, mientras más datos se les entregan mejor podría ser el resultado. \n",
        "\n",
        "Lo más importante en el desempeño de los diferentes modelos puede considerarse en el siguiente orden, primero la elección del modelo, luego la selección de los parámetros y finalmente la representación de los datos. Un buen modelo involucraría un correcto ajuste de parámetros, mientras que la representación en sí, es importante pero podría ser ineficiente si es que no se ha escogido el modelo correcto. Por ejemplo, el modelo de árbol de decisión, KNN y redes neuronales daban buenos resultados pero requerian mayor tiempo de ejecución, probablemente porque son técnicas muy complejas para un problema de clasificación binaria (es matar una mosca con un cañon).\n",
        "\n",
        "Consideramos que el mejor modelo es el de regresión logistica si consideramos la precisión, el tiempo de ejecución y comodidad para ajustar parámetros."
      ]
    },
    {
      "cell_type": "markdown",
      "metadata": {
        "id": "i9tCNqZYhRfj",
        "colab_type": "text"
      },
      "source": [
        "<a id=\"segundo\"></a>\n",
        "## 2. Problema de Múltiples Anotaciones\n",
        "\n",
        "El aprendizaje supervisado visto en clases da cuenta que existe una única posible etiqueta $z$ (*ground truth*) asociada a un dato $x$ para poder aprender de los datos. Sin embargo, la definición del *ground truth* en algunos casos puede resultar bastante difícil de definir o bastante costoso, por ejemplo en problemas médicos donde se deben realizar invasivos exámenes para conocer la \"verdad absoluta\". Como alternativa se pueden recolectar múltiples anotaciones desde personas inexpertas en el área para poder estimar el *ground truth*. \n",
        "\n",
        "<img src=\"http://www.irishenvironment.com/wp-content/uploads/2013/11/crowdsourcing.jpg\" title=\"Title text\" width=\"40%\" />\n",
        "\n",
        "En esta actividad se trabajará en el caso en que contamos con múltiples anotaciones por cada dato de entrada $x_i$ dadas por personas inexpertas a través de Amazon Mechanical Turk (__[AMT](https://www.mturk.com/)__), es decir, $y^{(1)}, y^{(2)} \\ldots y^{(T_i)}$. El problema de predicción trabajado será el mismo de la actividad anterior, el análisis de sentimiento de un extracto de texto en Rotten Tomatoes. Los datos trabajados [[8]](#refs) pueden ser descargados de la página del autor.\n",
        "```\n",
        "wget http://fprodrigues.com//mturk-datasets.tar.gz\n",
        "```\n",
        "\n",
        "De esta manera trabajaremos con el archivo *mturk_answers.csv* en la carpeta *sentiment polarity* que se puede cargar con pandas. En este archivo se tendrán múltiples filas/registros por cada dato de entrenamiento, cada uno representando la etiqueta que entregó una persona (*worker*) a ese dato, los detalles de columnas son:\n",
        "* *WorkerId*: identificador de la persona que etiquetó/anotó el dato\n",
        "* *Input.id*: identificador del dato a etiquetar/anotar\n",
        "* *Input.original_sentence*: texto original del dato\n",
        "* *Input.stemmed_sent*: texto pre-procesado\n",
        "* *Input.true_sent*: sentimiento real (*ground truth*) del dato\n",
        "* *Answer.sent*:   etiqueta/anotación que entregó la persona\n",
        "\n",
        "```python\n",
        "import pandas as pd\n",
        "df = pd.read_csv(\"./sentiment_polarity/mturk_answers.csv\") \n",
        "```\n",
        "\n",
        "> El objetivo de la actividad será el de obtener un modelo predictor del *ground truth* sin entrenar directamente con esto, sino que utilizar las múltiples anotaciones de las personas\n",
        "\n",
        "### Importante\n",
        "* Deberá crear un conjunto aleatorio de pruebas que solo contenga los textos y el sentimiento *ground truth* (sin repeticiones)\n",
        "* Los valores de *ground truth* están **solo para evaluar**, no puede utilizarlos para entrenar o tomar decisiones en su modelo.\n",
        "* La métrica de evaluación será el *accuracy score*\n",
        "```python\n",
        "from sklearn.metrics import accuracy_score\n",
        "accuracy_score(y_true, y_pred)\n",
        "```\n",
        "\n",
        "#### Sugerencias\n",
        "Para representar los textos, a diferencia de lo visto en la sección 1, se puede utilizar lo que son la representación vectorial de palabras (*word vectors*), a través de modelos especializados entrenados para aprender una representación en que palabras similares estén cercanas en el espacio vectorial. Puede utilizar los vectores livianos de __[GLOVE](https://nlp.stanford.edu/projects/glove/)__ en su versión entradas en textos de Wikipedia con 6 billones de palabras/tokens.\n",
        "```python\n",
        "EMBEDDING_DIM = 300\n",
        "GLOVE_FILE = \"./glove.6B.%dd.txt\"%(EMBEDDING_DIM)\n",
        "embeddings_index = {}\n",
        "with open(GLOVE_FILE) as file:\n",
        "    for line in file:\n",
        "        values = line.split()\n",
        "        embeddings_index[values[0]] = np.asarray(values[1:], dtype='float32')\n",
        "...\n",
        "embeddings_index.get(word)\n",
        "```\n",
        "> Para descargar GLOVE\n",
        "```\n",
        "wget http://nlp.stanford.edu/data/glove.6B.zip\n",
        "```"
      ]
    },
    {
      "cell_type": "markdown",
      "metadata": {
        "id": "svJHzAmdBBwT",
        "colab_type": "text"
      },
      "source": [
        "#**Desarrollo**\n",
        "\n",
        "Antes de empezar, hay que descargar y descomprimir los dataset."
      ]
    },
    {
      "cell_type": "code",
      "metadata": {
        "id": "EWolCSw7_l_J",
        "colab_type": "code",
        "outputId": "1b728eb2-a2b3-45eb-ce29-56a8fac27ea8",
        "colab": {
          "base_uri": "https://localhost:8080/",
          "height": 778
        }
      },
      "source": [
        "# Obtención de datasets. Correr solo una vez.\n",
        "!wget http://fprodrigues.com//mturk-datasets.tar.gz\n",
        "!tar -zvxf mturk-datasets.tar.gz\n",
        "!wget http://nlp.stanford.edu/data/glove.6B.zip\n",
        "!unzip ./glove.6B.zip"
      ],
      "execution_count": 0,
      "outputs": [
        {
          "output_type": "stream",
          "text": [
            "--2020-01-07 19:43:23--  http://fprodrigues.com//mturk-datasets.tar.gz\n",
            "Resolving fprodrigues.com (fprodrigues.com)... 162.241.226.178\n",
            "Connecting to fprodrigues.com (fprodrigues.com)|162.241.226.178|:80... connected.\n",
            "HTTP request sent, awaiting response... 200 OK\n",
            "Length: 325169872 (310M) [application/x-gzip]\n",
            "Saving to: ‘mturk-datasets.tar.gz’\n",
            "\n",
            "mturk-datasets.tar. 100%[===================>] 310.11M  15.6MB/s    in 21s     \n",
            "\n",
            "2020-01-07 19:43:45 (14.7 MB/s) - ‘mturk-datasets.tar.gz’ saved [325169872/325169872]\n",
            "\n",
            "music_genre_classification/\n",
            "music_genre_classification/._marsyas_features.arff\n",
            "music_genre_classification/marsyas_features.arff\n",
            "music_genre_classification/._mturk_answers.csv\n",
            "music_genre_classification/mturk_answers.csv\n",
            "music_genre_classification/music_genre_gold.csv\n",
            "music_genre_classification/._music_genre_mturk.csv\n",
            "music_genre_classification/music_genre_mturk.csv\n",
            "music_genre_classification/music_genre_test.csv\n",
            "sentiment_polarity/\n",
            "sentiment_polarity/._mturk_answers.csv\n",
            "sentiment_polarity/mturk_answers.csv\n",
            "sentiment_polarity/polarity_gold_lsa_topics.csv\n",
            "sentiment_polarity/polarity_mturk_lsa_topics.csv\n",
            "sentiment_polarity/polarity_test_lsa_topics.csv\n",
            "--2020-01-07 19:43:57--  http://nlp.stanford.edu/data/glove.6B.zip\n",
            "Resolving nlp.stanford.edu (nlp.stanford.edu)... 171.64.67.140\n",
            "Connecting to nlp.stanford.edu (nlp.stanford.edu)|171.64.67.140|:80... connected.\n",
            "HTTP request sent, awaiting response... 302 Found\n",
            "Location: https://nlp.stanford.edu/data/glove.6B.zip [following]\n",
            "--2020-01-07 19:43:57--  https://nlp.stanford.edu/data/glove.6B.zip\n",
            "Connecting to nlp.stanford.edu (nlp.stanford.edu)|171.64.67.140|:443... connected.\n",
            "HTTP request sent, awaiting response... 301 Moved Permanently\n",
            "Location: http://downloads.cs.stanford.edu/nlp/data/glove.6B.zip [following]\n",
            "--2020-01-07 19:43:58--  http://downloads.cs.stanford.edu/nlp/data/glove.6B.zip\n",
            "Resolving downloads.cs.stanford.edu (downloads.cs.stanford.edu)... 171.64.64.22\n",
            "Connecting to downloads.cs.stanford.edu (downloads.cs.stanford.edu)|171.64.64.22|:80... connected.\n",
            "HTTP request sent, awaiting response... 200 OK\n",
            "Length: 862182613 (822M) [application/zip]\n",
            "Saving to: ‘glove.6B.zip’\n",
            "\n",
            "glove.6B.zip         32%[=====>              ] 267.52M  2.23MB/s    eta 3m 54s "
          ],
          "name": "stdout"
        }
      ]
    },
    {
      "cell_type": "markdown",
      "metadata": {
        "id": "JRnXonp3BRV1",
        "colab_type": "text"
      },
      "source": [
        "Luego hay que abrir los archivos y hacer la respectiva separación de conjuntos. En este caso se usa 70% de los datos para entrenamiento y el otro 30% para pruebas; éste último contiene los ground truth verdaderos y solo serán utilizados para evaluar."
      ]
    },
    {
      "cell_type": "code",
      "metadata": {
        "id": "bnZ2YRnT_7um",
        "colab_type": "code",
        "outputId": "ffbbaa23-b8fd-463c-c7ce-74564f8eee40",
        "colab": {
          "base_uri": "https://localhost:8080/",
          "height": 452
        }
      },
      "source": [
        "import pandas as pd\n",
        "import numpy as np\n",
        "from sklearn.model_selection import train_test_split\n",
        "from sklearn.metrics import accuracy_score\n",
        "\n",
        "# Dataset: Lectura de archivo.\n",
        "df = pd.read_csv(\"./sentiment_polarity/mturk_answers.csv\") \n",
        "\n",
        "# Obtención de elementos\n",
        "original_sentences = [text for text in df['Input.original_sentence']]\n",
        "stemmed_sentences = [stemmed_text for stemmed_text in df['Input.stemmed_sent']]\n",
        "annotations = [annotation for annotation in df['Answer.sent']]\n",
        "ground_truths = [sentiment for sentiment in df['Input.true_sent']]\n",
        "\n",
        "# Separación de conjuntos\n",
        "# Conjuntos de entrenamiento y prueba con anotaciones\n",
        "train_text, test_text, annotations_train, annotations_test = train_test_split(stemmed_sentences, annotations, test_size=0.30, random_state=0)\n",
        "\n",
        "# Conjuntos de prueba y entrenamiento con ground_truths (solo usar para validar)\n",
        "gts_train, gts_test = train_test_split(ground_truths, test_size=0.30, random_state=0)"
      ],
      "execution_count": 0,
      "outputs": [
        {
          "output_type": "error",
          "ename": "FileNotFoundError",
          "evalue": "ignored",
          "traceback": [
            "\u001b[0;31m---------------------------------------------------------------------------\u001b[0m",
            "\u001b[0;31mFileNotFoundError\u001b[0m                         Traceback (most recent call last)",
            "\u001b[0;32m<ipython-input-1-a7959dc4a1ee>\u001b[0m in \u001b[0;36m<module>\u001b[0;34m()\u001b[0m\n\u001b[1;32m      5\u001b[0m \u001b[0;34m\u001b[0m\u001b[0m\n\u001b[1;32m      6\u001b[0m \u001b[0;31m# Dataset: Lectura de archivo.\u001b[0m\u001b[0;34m\u001b[0m\u001b[0;34m\u001b[0m\u001b[0;34m\u001b[0m\u001b[0m\n\u001b[0;32m----> 7\u001b[0;31m \u001b[0mdf\u001b[0m \u001b[0;34m=\u001b[0m \u001b[0mpd\u001b[0m\u001b[0;34m.\u001b[0m\u001b[0mread_csv\u001b[0m\u001b[0;34m(\u001b[0m\u001b[0;34m\"./sentiment_polarity/mturk_answers.csv\"\u001b[0m\u001b[0;34m)\u001b[0m\u001b[0;34m\u001b[0m\u001b[0;34m\u001b[0m\u001b[0m\n\u001b[0m\u001b[1;32m      8\u001b[0m \u001b[0;34m\u001b[0m\u001b[0m\n\u001b[1;32m      9\u001b[0m \u001b[0;31m# Obtención de elementos\u001b[0m\u001b[0;34m\u001b[0m\u001b[0;34m\u001b[0m\u001b[0;34m\u001b[0m\u001b[0m\n",
            "\u001b[0;32m/usr/local/lib/python3.6/dist-packages/pandas/io/parsers.py\u001b[0m in \u001b[0;36mparser_f\u001b[0;34m(filepath_or_buffer, sep, delimiter, header, names, index_col, usecols, squeeze, prefix, mangle_dupe_cols, dtype, engine, converters, true_values, false_values, skipinitialspace, skiprows, skipfooter, nrows, na_values, keep_default_na, na_filter, verbose, skip_blank_lines, parse_dates, infer_datetime_format, keep_date_col, date_parser, dayfirst, cache_dates, iterator, chunksize, compression, thousands, decimal, lineterminator, quotechar, quoting, doublequote, escapechar, comment, encoding, dialect, error_bad_lines, warn_bad_lines, delim_whitespace, low_memory, memory_map, float_precision)\u001b[0m\n\u001b[1;32m    683\u001b[0m         )\n\u001b[1;32m    684\u001b[0m \u001b[0;34m\u001b[0m\u001b[0m\n\u001b[0;32m--> 685\u001b[0;31m         \u001b[0;32mreturn\u001b[0m \u001b[0m_read\u001b[0m\u001b[0;34m(\u001b[0m\u001b[0mfilepath_or_buffer\u001b[0m\u001b[0;34m,\u001b[0m \u001b[0mkwds\u001b[0m\u001b[0;34m)\u001b[0m\u001b[0;34m\u001b[0m\u001b[0;34m\u001b[0m\u001b[0m\n\u001b[0m\u001b[1;32m    686\u001b[0m \u001b[0;34m\u001b[0m\u001b[0m\n\u001b[1;32m    687\u001b[0m     \u001b[0mparser_f\u001b[0m\u001b[0;34m.\u001b[0m\u001b[0m__name__\u001b[0m \u001b[0;34m=\u001b[0m \u001b[0mname\u001b[0m\u001b[0;34m\u001b[0m\u001b[0;34m\u001b[0m\u001b[0m\n",
            "\u001b[0;32m/usr/local/lib/python3.6/dist-packages/pandas/io/parsers.py\u001b[0m in \u001b[0;36m_read\u001b[0;34m(filepath_or_buffer, kwds)\u001b[0m\n\u001b[1;32m    455\u001b[0m \u001b[0;34m\u001b[0m\u001b[0m\n\u001b[1;32m    456\u001b[0m     \u001b[0;31m# Create the parser.\u001b[0m\u001b[0;34m\u001b[0m\u001b[0;34m\u001b[0m\u001b[0;34m\u001b[0m\u001b[0m\n\u001b[0;32m--> 457\u001b[0;31m     \u001b[0mparser\u001b[0m \u001b[0;34m=\u001b[0m \u001b[0mTextFileReader\u001b[0m\u001b[0;34m(\u001b[0m\u001b[0mfp_or_buf\u001b[0m\u001b[0;34m,\u001b[0m \u001b[0;34m**\u001b[0m\u001b[0mkwds\u001b[0m\u001b[0;34m)\u001b[0m\u001b[0;34m\u001b[0m\u001b[0;34m\u001b[0m\u001b[0m\n\u001b[0m\u001b[1;32m    458\u001b[0m \u001b[0;34m\u001b[0m\u001b[0m\n\u001b[1;32m    459\u001b[0m     \u001b[0;32mif\u001b[0m \u001b[0mchunksize\u001b[0m \u001b[0;32mor\u001b[0m \u001b[0miterator\u001b[0m\u001b[0;34m:\u001b[0m\u001b[0;34m\u001b[0m\u001b[0;34m\u001b[0m\u001b[0m\n",
            "\u001b[0;32m/usr/local/lib/python3.6/dist-packages/pandas/io/parsers.py\u001b[0m in \u001b[0;36m__init__\u001b[0;34m(self, f, engine, **kwds)\u001b[0m\n\u001b[1;32m    893\u001b[0m             \u001b[0mself\u001b[0m\u001b[0;34m.\u001b[0m\u001b[0moptions\u001b[0m\u001b[0;34m[\u001b[0m\u001b[0;34m\"has_index_names\"\u001b[0m\u001b[0;34m]\u001b[0m \u001b[0;34m=\u001b[0m \u001b[0mkwds\u001b[0m\u001b[0;34m[\u001b[0m\u001b[0;34m\"has_index_names\"\u001b[0m\u001b[0;34m]\u001b[0m\u001b[0;34m\u001b[0m\u001b[0;34m\u001b[0m\u001b[0m\n\u001b[1;32m    894\u001b[0m \u001b[0;34m\u001b[0m\u001b[0m\n\u001b[0;32m--> 895\u001b[0;31m         \u001b[0mself\u001b[0m\u001b[0;34m.\u001b[0m\u001b[0m_make_engine\u001b[0m\u001b[0;34m(\u001b[0m\u001b[0mself\u001b[0m\u001b[0;34m.\u001b[0m\u001b[0mengine\u001b[0m\u001b[0;34m)\u001b[0m\u001b[0;34m\u001b[0m\u001b[0;34m\u001b[0m\u001b[0m\n\u001b[0m\u001b[1;32m    896\u001b[0m \u001b[0;34m\u001b[0m\u001b[0m\n\u001b[1;32m    897\u001b[0m     \u001b[0;32mdef\u001b[0m \u001b[0mclose\u001b[0m\u001b[0;34m(\u001b[0m\u001b[0mself\u001b[0m\u001b[0;34m)\u001b[0m\u001b[0;34m:\u001b[0m\u001b[0;34m\u001b[0m\u001b[0;34m\u001b[0m\u001b[0m\n",
            "\u001b[0;32m/usr/local/lib/python3.6/dist-packages/pandas/io/parsers.py\u001b[0m in \u001b[0;36m_make_engine\u001b[0;34m(self, engine)\u001b[0m\n\u001b[1;32m   1133\u001b[0m     \u001b[0;32mdef\u001b[0m \u001b[0m_make_engine\u001b[0m\u001b[0;34m(\u001b[0m\u001b[0mself\u001b[0m\u001b[0;34m,\u001b[0m \u001b[0mengine\u001b[0m\u001b[0;34m=\u001b[0m\u001b[0;34m\"c\"\u001b[0m\u001b[0;34m)\u001b[0m\u001b[0;34m:\u001b[0m\u001b[0;34m\u001b[0m\u001b[0;34m\u001b[0m\u001b[0m\n\u001b[1;32m   1134\u001b[0m         \u001b[0;32mif\u001b[0m \u001b[0mengine\u001b[0m \u001b[0;34m==\u001b[0m \u001b[0;34m\"c\"\u001b[0m\u001b[0;34m:\u001b[0m\u001b[0;34m\u001b[0m\u001b[0;34m\u001b[0m\u001b[0m\n\u001b[0;32m-> 1135\u001b[0;31m             \u001b[0mself\u001b[0m\u001b[0;34m.\u001b[0m\u001b[0m_engine\u001b[0m \u001b[0;34m=\u001b[0m \u001b[0mCParserWrapper\u001b[0m\u001b[0;34m(\u001b[0m\u001b[0mself\u001b[0m\u001b[0;34m.\u001b[0m\u001b[0mf\u001b[0m\u001b[0;34m,\u001b[0m \u001b[0;34m**\u001b[0m\u001b[0mself\u001b[0m\u001b[0;34m.\u001b[0m\u001b[0moptions\u001b[0m\u001b[0;34m)\u001b[0m\u001b[0;34m\u001b[0m\u001b[0;34m\u001b[0m\u001b[0m\n\u001b[0m\u001b[1;32m   1136\u001b[0m         \u001b[0;32melse\u001b[0m\u001b[0;34m:\u001b[0m\u001b[0;34m\u001b[0m\u001b[0;34m\u001b[0m\u001b[0m\n\u001b[1;32m   1137\u001b[0m             \u001b[0;32mif\u001b[0m \u001b[0mengine\u001b[0m \u001b[0;34m==\u001b[0m \u001b[0;34m\"python\"\u001b[0m\u001b[0;34m:\u001b[0m\u001b[0;34m\u001b[0m\u001b[0;34m\u001b[0m\u001b[0m\n",
            "\u001b[0;32m/usr/local/lib/python3.6/dist-packages/pandas/io/parsers.py\u001b[0m in \u001b[0;36m__init__\u001b[0;34m(self, src, **kwds)\u001b[0m\n\u001b[1;32m   1915\u001b[0m         \u001b[0mkwds\u001b[0m\u001b[0;34m[\u001b[0m\u001b[0;34m\"usecols\"\u001b[0m\u001b[0;34m]\u001b[0m \u001b[0;34m=\u001b[0m \u001b[0mself\u001b[0m\u001b[0;34m.\u001b[0m\u001b[0musecols\u001b[0m\u001b[0;34m\u001b[0m\u001b[0;34m\u001b[0m\u001b[0m\n\u001b[1;32m   1916\u001b[0m \u001b[0;34m\u001b[0m\u001b[0m\n\u001b[0;32m-> 1917\u001b[0;31m         \u001b[0mself\u001b[0m\u001b[0;34m.\u001b[0m\u001b[0m_reader\u001b[0m \u001b[0;34m=\u001b[0m \u001b[0mparsers\u001b[0m\u001b[0;34m.\u001b[0m\u001b[0mTextReader\u001b[0m\u001b[0;34m(\u001b[0m\u001b[0msrc\u001b[0m\u001b[0;34m,\u001b[0m \u001b[0;34m**\u001b[0m\u001b[0mkwds\u001b[0m\u001b[0;34m)\u001b[0m\u001b[0;34m\u001b[0m\u001b[0;34m\u001b[0m\u001b[0m\n\u001b[0m\u001b[1;32m   1918\u001b[0m         \u001b[0mself\u001b[0m\u001b[0;34m.\u001b[0m\u001b[0munnamed_cols\u001b[0m \u001b[0;34m=\u001b[0m \u001b[0mself\u001b[0m\u001b[0;34m.\u001b[0m\u001b[0m_reader\u001b[0m\u001b[0;34m.\u001b[0m\u001b[0munnamed_cols\u001b[0m\u001b[0;34m\u001b[0m\u001b[0;34m\u001b[0m\u001b[0m\n\u001b[1;32m   1919\u001b[0m \u001b[0;34m\u001b[0m\u001b[0m\n",
            "\u001b[0;32mpandas/_libs/parsers.pyx\u001b[0m in \u001b[0;36mpandas._libs.parsers.TextReader.__cinit__\u001b[0;34m()\u001b[0m\n",
            "\u001b[0;32mpandas/_libs/parsers.pyx\u001b[0m in \u001b[0;36mpandas._libs.parsers.TextReader._setup_parser_source\u001b[0;34m()\u001b[0m\n",
            "\u001b[0;31mFileNotFoundError\u001b[0m: [Errno 2] File b'./sentiment_polarity/mturk_answers.csv' does not exist: b'./sentiment_polarity/mturk_answers.csv'"
          ]
        }
      ]
    },
    {
      "cell_type": "markdown",
      "metadata": {
        "id": "m6W4ZvEBB7EJ",
        "colab_type": "text"
      },
      "source": [
        "Una ventaja del dataset entregado es que a los textos ya se les aplicó stemming, por lo que el pre-procesamiento ya está listo y basta con vectorizarlos. En este caso se utilizará TF-IDF."
      ]
    },
    {
      "cell_type": "code",
      "metadata": {
        "id": "qert8CXECkv7",
        "colab_type": "code",
        "colab": {}
      },
      "source": [
        "from sklearn.feature_extraction.text import TfidfVectorizer\n",
        "\n",
        "# Vectorizador (TF-IDF)\n",
        "tfidf_model = TfidfVectorizer(binary=False, ngram_range=(1, 1), max_df=1.0, min_df=1, max_features=None, norm='l2', use_idf=True, sublinear_tf=False)\n",
        "tfidf_model.fit(train_text)\n",
        "\n",
        "new_features_train = tfidf_model.transform(train_text) # TD-IDF para datos con anotaciones.\n",
        "new_features_test = tfidf_model.transform(test_text)  # TD-IDF para datos con valores reales."
      ],
      "execution_count": 0,
      "outputs": []
    },
    {
      "cell_type": "code",
      "metadata": {
        "id": "JIWqJHzAoaZR",
        "colab_type": "code",
        "colab": {}
      },
      "source": [
        "EMBEDDING_DIM = 300\n",
        "GLOVE_FILE = \"./glove.6B.%dd.txt\"%(EMBEDDING_DIM)\n",
        "embeddings_index = {}\n",
        "with open(GLOVE_FILE) as file:\n",
        "    for line in file:\n",
        "        values = line.split()\n",
        "        embeddings_index[values[0]] = np.asarray(values[1:], dtype='float32')\n",
        "\n",
        "#embeddings_index.get(word)\n",
        "\n",
        "\n",
        "\n",
        "#new_features_train = [word for word in ]"
      ],
      "execution_count": 0,
      "outputs": []
    },
    {
      "cell_type": "markdown",
      "metadata": {
        "id": "SrX3vHA0DUXJ",
        "colab_type": "text"
      },
      "source": [
        "El objetivo de la propuesta es la siguiente: Se entrenarán los modelos vistos en la sección 1 de la tarea y se hará una clasificación mediante votación. Cada uno de ellos recibirán los textos vectorizados de entrenamiento y sus respectivas anotaciones. Para determinar cuál es el ground truth se realizará un meta-ensamblado, es decir, una técnica que combina las predicciones de los modelos anteriores para generar un nuevo modelo que supera a todos los anteriores. \n",
        "\n",
        "Primero es necesario definir los módelos que se utilizarán.\n",
        "\n",
        "\n",
        "\n"
      ]
    },
    {
      "cell_type": "code",
      "metadata": {
        "id": "FVz0TN8Kp62s",
        "colab_type": "code",
        "colab": {}
      },
      "source": [
        "from sklearn.linear_model import LogisticRegression\n",
        "from sklearn.neighbors import KNeighborsClassifier\n",
        "from sklearn.tree import DecisionTreeClassifier as Tree\n",
        "from sklearn.svm import SVC as SVM\n",
        "from sklearn.ensemble import VotingClassifier\n",
        "\n",
        "# Modelos\n",
        "# Regresión Logística\n",
        "clf1 = LogisticRegression()\n",
        "\n",
        "# KNN\n",
        "clf2 = KNeighborsClassifier()\n",
        "clf2.set_params(n_neighbors = 431)\n",
        "\n",
        "# Árbol de Decisión\n",
        "clf3 = Tree()\n",
        "clf3.set_params(max_depth = 3081, min_samples_split = 712) \n",
        "\n",
        "# SVM\n",
        "clf4 = SVM()\n",
        "clf4.set_params(C=10, kernel='sigmoid')"
      ],
      "execution_count": 0,
      "outputs": []
    },
    {
      "cell_type": "markdown",
      "metadata": {
        "id": "VYB4Cmx6FZjU",
        "colab_type": "text"
      },
      "source": [
        "La elección de la etiqueta adecuada se realizará mediante *Hard Voting* y *Soft Voting*. \n",
        "\n",
        "Hard Voting consiste en elegir la etiqueta más repetida predecida por los módelos; en este caso se utilizarán Regresión Logística, KNN, Árbol de Decisión y SVM. Como no se puede utilizar el conjunto de prueba es complicado encontrar los parámetros adecuados para mejorar la calidad de la predicción final, por tanto, se utilizarán los parámetros que maximizan el score en la sección 1 de la tarea."
      ]
    },
    {
      "cell_type": "code",
      "metadata": {
        "id": "hOGh2eiqFO13",
        "colab_type": "code",
        "colab": {}
      },
      "source": [
        "# Voting Classifier: Hard Majority Voting. Se elige la etiqueta más repetida.\n",
        "eclf1 = VotingClassifier(estimators=[('lr', clf1), ('knn', clf2), ('tree', clf3), ('svm', clf4)], voting='hard')\n",
        "eclf1 = eclf1.fit(new_features_train, annotations_train)\n",
        "\n",
        "y_pred_hard = eclf1.predict(new_features_test)"
      ],
      "execution_count": 0,
      "outputs": []
    },
    {
      "cell_type": "markdown",
      "metadata": {
        "id": "QxPCUjOyGmWU",
        "colab_type": "text"
      },
      "source": [
        "Por otra parte se utilizará Soft Voting, que a diferencia del Hard Voting, los modelos entregarán las probabilidades de cada etiqueta y que luego serán promediadas para determinar cuál es la mejor. No debiese ser muy distinto que el Hard Voting, pues al final se convierte en un problema de clasificación binaria.\n",
        "\n",
        "Para Soft Voting no se utilizará SVM porque no permite entregar las probabilidades."
      ]
    },
    {
      "cell_type": "code",
      "metadata": {
        "id": "GB4nrocBGmkN",
        "colab_type": "code",
        "colab": {}
      },
      "source": [
        "# Voting Classifier: Soft Majority Voting. Se elije la etiqueta con mayor probabilidad.\n",
        "eclf2 = VotingClassifier(estimators=[('lr', clf1), ('knn', clf2), ('tree', clf3)], voting='soft')\n",
        "eclf2 = eclf2.fit(new_features_train, annotations_train)\n",
        "y_pred_soft = eclf2.predict(new_features_test)"
      ],
      "execution_count": 0,
      "outputs": []
    },
    {
      "cell_type": "markdown",
      "metadata": {
        "id": "6LtPveKjHL7W",
        "colab_type": "text"
      },
      "source": [
        "Finalmente, los resultados son:"
      ]
    },
    {
      "cell_type": "code",
      "metadata": {
        "id": "4fgK96b-Kiif",
        "colab_type": "code",
        "colab": {}
      },
      "source": [
        "print(\"Score con Hard Voting: \", accuracy_score(gts_test, y_pred_hard))\n",
        "print(\"Score con Soft Voting: \", accuracy_score(gts_test, y_pred_soft))"
      ],
      "execution_count": 0,
      "outputs": []
    },
    {
      "cell_type": "markdown",
      "metadata": {
        "id": "Whu8CeAgKx4b",
        "colab_type": "text"
      },
      "source": [
        "Los scores obtenidos son aceptables para una clasificación binaria. Sin embargo, aún no es posible decidir si el modelo sufre de overfitting; existe un riesgo para esto y es que los modelos recibieron datos parcialmente *duplicados*, es decir, mismos textos para distintas anotaciones."
      ]
    },
    {
      "cell_type": "markdown",
      "metadata": {
        "id": "yTthjxV6hRfl",
        "colab_type": "text"
      },
      "source": [
        "<a id=\"refs\"></a>\n",
        "# Referencias\n",
        "[1] Keras: Deep Learning library for Theano and TensorFlow. https://keras.io/  \n",
        "[2] https://www.kaggle.com/c/sentiment-analysis-on-movie-reviews  \n",
        "[3] https://en.wikipedia.org/wiki/Stopwords  \n",
        "[4] https://en.wikipedia.org/wiki/Lemmatisation  \n",
        "[5] Landauer, T. K., Foltz, P. W., & Laham, D. (1998). *An introduction to latent semantic analysis*. Discourse processes, 25(2-3), 259-284.  \n",
        "[6] https://github.com/cjhutto/vaderSentiment  \n",
        "[7] https://en.wikipedia.org/wiki/Stemming  \n",
        "[8] Rodrigues, F., Pereira, F., & Ribeiro, B. (2013). *Learning from multiple annotators: distinguishing good from random labelers*. Pattern Recognition Letters, 34(12), 1428-1436."
      ]
    }
  ]
}