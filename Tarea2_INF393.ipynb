{
 "cells": [
  {
   "cell_type": "markdown",
   "metadata": {
    "colab_type": "text",
    "id": "rJ9ARw_zhRbT"
   },
   "source": [
    "<img src=\"http://www.exalumnos.usm.cl/wp-content/uploads/2015/06/Isotipo-Negro.gif\" title=\"Title text\" width=\"20%\" height=\"20%\" />\n",
    "\n",
    "\n",
    "<hr style=\"height:2px;border:none\"/>\n",
    "<h1 align='center'> INF-393 Máquinas de Aprendizaje II-2019 </h1>\n",
    "\n",
    "<H3 align='center'> Tarea 2 - Fronteras no Lineales </H3>\n",
    "<hr style=\"height:2px;border:none\"/>\n",
    "\n",
    "**Temas**  \n",
    "* similaridad: KNN\n",
    "* Selección de hı́per-parámetros estructurales en SVM, Arboles de Decisión, k-NN y Redes Neuronales.\n",
    "* Métodos de *kernel*.\n",
    "* Extracción de características.\n",
    "* Múltiples anotaciones\n",
    "\n",
    "** Formalidades **  \n",
    "* Equipos de trabajo de: 2 personas (*cada uno debe estar en condiciones de realizar una presentación y discutir sobre cada punto del trabajo realizado*)\n",
    "* Se debe preparar una presentación de 20 minutos. Presentador será elegido aleatoriamente.\n",
    "* Se debe preparar un (breve) Jupyter/IPython notebook que explique la actividad realizada y las conclusiones del trabajo\n",
    "* Fecha de discusión y entrega: 8 de Noviembre.\n",
    "* Formato de entrega: envı́o de link Github al correo electrónico del ayudante (*<francisco.mena.13@sansano.usm.cl>*) , incluyendo al profesor en copia (*<jnancu@inf.utfsm.cl>*). Por favor especificar el siguiente asunto: [Tarea2-INF393-II-2019]\n",
    "\n",
    "<hr style=\"height:2px;border:none\"/>\n",
    "\n",
    "### Paquetes de instalación\n",
    "\n",
    "Como es usual utilizaremos *numpy, scipy, matplotlib* y *sklearn*. Además de éstas se necesitará instalar **keras**, una librerı́a en python para prototipado rápido de modelos basados en redes neuronales, muy similar en espı́ritu a *sklearn*. La librerı́a puede usar *TensorFlow* o *Theano* como backend, siendo éstas las librerı́as más populares para desarrollar nuevos modelos de redes neuronales o implementar eficientemente modelos conocidos con fines prácticos. Para detalles sobre la instalación puede revisar [[1]](#refs) o escribir un email a su ayudante.\n",
    "\n",
    "\n",
    "\n",
    "La tarea se divide en secciones:\n",
    "\n",
    "[1.](#primero) Sentiment Analysis en Texto  \n",
    "[2.](#segundo) pendiente\n"
   ]
  },
  {
   "cell_type": "markdown",
   "metadata": {
    "colab_type": "text",
    "id": "GtyjNFLUhRbf"
   },
   "source": [
    "<a id=\"primero\"></a>\n",
    "## 1. Sentiment Analysis en Texto\n",
    "\n",
    "El análisis de emociones o sentimientos se refiere al proceso de extraer información acerca de la actitud\n",
    "que una persona (o grupo de ellas) manifiesta, en un determinado medio o formato digital, con respecto a un\n",
    "tópico o contexto de comunicación. Uno de los casos más estudiados corresponde a determinar la polaridad\n",
    "de un trozo de texto, es decir, clasificar una determinada evaluación escrita (*review*), en que una persona\n",
    "manifiesta una opinión, como *positiva*, *negativa* o *neutral*. Esto también ha sido extendido a otros medios, como lo es analizar la polaridad de textos en redes sociales.  La dificultad de este problema radica en el carácter altamente ambiguo e informal del lenguaje que utilizan naturalmente las personas ası́ como el manejo de negaciones, sarcasmo y abreviaciones en una frase.\n",
    "\n",
    "<img src=\"https://formtitanhelpdeskimage.s3.amazonaws.com/70c78f9df2fd5c130e7021644f78f4c5.jpg\" title=\"Title text\" width=\"40%\" />\n",
    "\n",
    "\n",
    "Los datos que usaremos para esta actividad corresponden a un subconjunto de los datos publicados en **Kaggle**,  en  el  contexto  de  una  competencia  organizada  por  la  Universidad  de  Stanford  [[2]](#refs).   Cada  registro disponible corresponderá a una opinión sobre una película, registrada sobre el sitio *Rotten Tomatoes*.  Para empezar  nos  limitaremos  a  estudiar  textos  anotados  como  positivos  o  negativos,  clases  que  codificaremos como +1 y 0 respectivamente. Los datos pueden ser descargados ejecutando el siguiente código en sistema Unix:\n",
    "```\n",
    "wget -O train_data.csv http://www.inf.utfsm.cl/~jnancu/stanford-subset/polarity.train\n",
    "wget -O test_data.csv http://www.inf.utfsm.cl/~jnancu/stanford-subset/polarity.dev\n",
    "```\n",
    "\n",
    "> Cargue los dos conjuntos de datos a ser trabajados, donde la etiqueta ya viene codificada y la dejaremos como negativo (0) y positivo (1).\n"
   ]
  },
  {
   "cell_type": "code",
   "execution_count": 1,
   "metadata": {
    "colab": {
     "base_uri": "https://localhost:8080/",
     "height": 537
    },
    "colab_type": "code",
    "id": "XMUw3dxUhRbk",
    "outputId": "5c98ac54-2c81-41d2-df8b-1257b4d5cf65"
   },
   "outputs": [],
   "source": [
    "import pandas as pd\n",
    "from matplotlib import pyplot as plt\n",
    "##\n",
    "from sklearn.model_selection import train_test_split\n",
    "##\n",
    "import re, time\n",
    "from nltk.corpus import stopwords\n",
    "from nltk import WordNetLemmatizer, word_tokenize\n",
    "##\n",
    "import numpy as np\n",
    "from sklearn.feature_extraction.text import CountVectorizer\n",
    "##"
   ]
  },
  {
   "cell_type": "code",
   "execution_count": 2,
   "metadata": {
    "colab": {},
    "colab_type": "code",
    "id": "s4v3eduxhRb6"
   },
   "outputs": [],
   "source": [
    "ftr = open(\"./train_data.csv\", \"r\",  encoding=\"ISO-8859-1\")\n",
    "rows = [line.split(\" \",1) for line in ftr.readlines()]\n",
    "\n",
    "# Train Dataset\n",
    "df_train = pd.DataFrame(rows, columns=['Sentiment','Text'])\n",
    "df_train['Sentiment'] = (pd.to_numeric(df_train['Sentiment'])+1)/2 # 0 o 1\n",
    "\n",
    "ftr = open(\"./test_data.csv\", \"r\",  encoding=\"ISO-8859-1\")\n",
    "rows = [line.split(\" \",1) for line in ftr.readlines()]\n",
    "\n",
    "# Test Dataset\n",
    "df_test = pd.DataFrame(rows, columns=['Sentiment','Text'])\n",
    "df_test['Sentiment'] = (pd.to_numeric(df_test['Sentiment'])+1)/2 # 0 o 1"
   ]
  },
  {
   "cell_type": "code",
   "execution_count": 3,
   "metadata": {
    "colab": {},
    "colab_type": "code",
    "id": "bq6okN-ErUyh"
   },
   "outputs": [],
   "source": [
    "df_train_text = df_train.Text\n",
    "df_test_text = df_test.Text\n",
    "labels_train = df_train.Sentiment.values\n",
    "labels_test = df_test.Sentiment.values"
   ]
  },
  {
   "cell_type": "markdown",
   "metadata": {
    "colab_type": "text",
    "id": "36lp-DHthRcF"
   },
   "source": [
    "\n",
    "> a) Describa los datos trabajados, como la cantidad de datos en cada conjunto, largo de los textos, la cantidad de ejemplo por cada clase, o alguna otra forma que piense que pueda ser útil para comprender el problema trabajado."
   ]
  },
  {
   "cell_type": "code",
   "execution_count": 4,
   "metadata": {
    "colab": {
     "base_uri": "https://localhost:8080/",
     "height": 1000
    },
    "colab_type": "code",
    "id": "FEiKs-mohRcJ",
    "outputId": "7e51c3f3-8a81-4180-c69a-715719d6bad5"
   },
   "outputs": [
    {
     "name": "stdout",
     "output_type": "stream",
     "text": [
      "Dataset de  entrenamiento\n",
      "------------------------\n",
      "Total de datos 3554\n",
      "Cantidad de datos positivos:  1770\n",
      "Cantidad de datos etiquetados negativamente:  1784\n"
     ]
    },
    {
     "data": {
      "image/png": "[encoded data removed]",
      "text/plain": [
       "<Figure size 432x288 with 1 Axes>"
      ]
     },
     "metadata": {
      "needs_background": "light"
     },
     "output_type": "display_data"
    },
    {
     "data": {
      "image/png": "[encoded data removed]",
      "text/plain": [
       "<Figure size 432x288 with 1 Axes>"
      ]
     },
     "metadata": {
      "needs_background": "light"
     },
     "output_type": "display_data"
    },
    {
     "name": "stdout",
     "output_type": "stream",
     "text": [
      "Dataset de  prueba\n",
      "------------------------\n",
      "Total de datos 3554\n",
      "Cantidad de datos positivos:  1751\n",
      "Cantidad de datos etiquetados negativamente:  1803\n"
     ]
    },
    {
     "data": {
      "image/png": "[encoded data removed]",
      "text/plain": [
       "<Figure size 432x288 with 1 Axes>"
      ]
     },
     "metadata": {
      "needs_background": "light"
     },
     "output_type": "display_data"
    },
    {
     "data": {
      "image/png": "[encoded data removed]",
      "text/plain": [
       "<Figure size 432x288 with 1 Axes>"
      ]
     },
     "metadata": {
      "needs_background": "light"
     },
     "output_type": "display_data"
    }
   ],
   "source": [
    "def stats_info(dataframe, label):\n",
    "    data_count = dataframe.count()[0]\n",
    "    positives_count = dataframe[dataframe.Sentiment == 1].count()[0]\n",
    "    negatives_count = dataframe[dataframe.Sentiment == 0].count()[0]\n",
    "\n",
    "    print(\"Dataset de \", label)\n",
    "    print(\"------------------------\")\n",
    "    print(\"Total de datos\", data_count)\n",
    "    print(\"Cantidad de datos positivos: \", positives_count)\n",
    "    print(\"Cantidad de datos etiquetados negativamente: \", negatives_count)\n",
    "\n",
    "    positive_text_lenghts = []\n",
    "    negative_text_lenghts = []\n",
    "\n",
    "    for i in range(data_count):\n",
    "        text = len(dataframe.Text[i])\n",
    "\n",
    "        if dataframe.Sentiment[i] == 0:\n",
    "            negative_text_lenghts.append(text)\n",
    "\n",
    "        else:\n",
    "            positive_text_lenghts.append(text)\n",
    "\n",
    "    plt.hist(positive_text_lenghts, alpha=0.5, bins = \"auto\", color='blue')\n",
    "    plt.title(\"Distribucion del largo de comentarios positivos\")\n",
    "    plt.xlabel('Largo')\n",
    "    plt.ylabel('Frecuencia')\n",
    "    plt.show()\n",
    "\n",
    "    plt.hist(negative_text_lenghts, alpha=0.5, bins = \"auto\", color='red')\n",
    "    plt.title(\"Distribucion del largo de comentarios negativos\")\n",
    "    plt.xlabel('Largo')\n",
    "    plt.ylabel('Frecuencia')\n",
    "    plt.show()\n",
    "\n",
    "stats_info(df_train, \"entrenamiento\")\n",
    "stats_info(df_test, \"prueba\")"
   ]
  },
  {
   "cell_type": "markdown",
   "metadata": {
    "colab_type": "text",
    "id": "3vYLFVriWJsG"
   },
   "source": [
    "**Comentarios:** Los histogramas mostrados corresponden a la distribucion del largo de palabras por cada clase. Se puede observar que en ambos tienden a una distribución normal con sesgos hacia la izquierda; lo significa que el largo de los textos puede ser una característica interesante para analizar."
   ]
  },
  {
   "cell_type": "markdown",
   "metadata": {
    "colab_type": "text",
    "id": "5hyA2XishRcZ"
   },
   "source": [
    "> b) Construya un conjunto de validación desde el conjunto de entrenamiento para seleccionar modelos. Decida el tamaño dada la cantidad de ejemplos que se tienen para entrenamiento.\n"
   ]
  },
  {
   "cell_type": "code",
   "execution_count": 5,
   "metadata": {
    "colab": {},
    "colab_type": "code",
    "id": "blIZmZ5LhRcd"
   },
   "outputs": [],
   "source": [
    "df_train_text, df_val_text, labels_train, labels_val  = train_test_split(df_train_text, labels_train, test_size=0.2, random_state=0)"
   ]
  },
  {
   "cell_type": "markdown",
   "metadata": {
    "colab_type": "text",
    "id": "CX4zCEelWVQZ"
   },
   "source": [
    "**Comentarios:** Se decidió usar una proporción del 20% respecto a los datos de entrenamiento ya que es una práctica común en el área; además, se desea mantener un 60% de entrenamiento, 20% de validación y 20% de pruebas.\n"
   ]
  },
  {
   "cell_type": "markdown",
   "metadata": {
    "colab_type": "text",
    "id": "hsYrh4NyhRc5"
   },
   "source": [
    "> c) Realice un pre-procesamiento a los textos para normalizar un poco su estructura, para ello utilice el código de ejemplo a continuación, donde se pasa el texto a minúsculas (*lower-casing*), se reducen las mútliples letras, se eliminan palabras sin significados como artículos, pronombres y preposiciones (*stop word removal* [[3]](#refs)), además de pasar las palabras a su tronco léxico con la técnica de *lemmatizer* [[4]](#refs). Comente la importancia de un correcto pre-procesamiento en el domino de lenguaje natural."
   ]
  },
  {
   "cell_type": "code",
   "execution_count": 6,
   "metadata": {
    "colab": {
     "base_uri": "https://localhost:8080/",
     "height": 139
    },
    "colab_type": "code",
    "id": "LYBoZvz6ibEn",
    "outputId": "7ad1f4c4-1012-4bec-a160-0463f7bb4652"
   },
   "outputs": [
    {
     "name": "stderr",
     "output_type": "stream",
     "text": [
      "[nltk_data] Downloading package stopwords to\n",
      "[nltk_data]     C:\\Users\\Seba\\AppData\\Roaming\\nltk_data...\n",
      "[nltk_data]   Package stopwords is already up-to-date!\n",
      "[nltk_data] Downloading package punkt to\n",
      "[nltk_data]     C:\\Users\\Seba\\AppData\\Roaming\\nltk_data...\n",
      "[nltk_data]   Package punkt is already up-to-date!\n",
      "[nltk_data] Downloading package wordnet to\n",
      "[nltk_data]     C:\\Users\\Seba\\AppData\\Roaming\\nltk_data...\n",
      "[nltk_data]   Package wordnet is already up-to-date!\n"
     ]
    },
    {
     "data": {
      "text/plain": [
       "True"
      ]
     },
     "execution_count": 6,
     "metadata": {},
     "output_type": "execute_result"
    }
   ],
   "source": [
    "#Se corre solo una vez\n",
    "import nltk\n",
    "nltk.download('stopwords')\n",
    "nltk.download('punkt')\n",
    "nltk.download('wordnet')"
   ]
  },
  {
   "cell_type": "code",
   "execution_count": 7,
   "metadata": {
    "colab": {},
    "colab_type": "code",
    "id": "IBgJNA4dhRc9"
   },
   "outputs": [],
   "source": [
    "def base_word(word):\n",
    "    wordlemmatizer = WordNetLemmatizer()\n",
    "    return wordlemmatizer.lemmatize(word) \n",
    "\n",
    "def word_extractor(text):\n",
    "    commonwords = stopwords.words('english')\n",
    "    text = re.sub(r'([a-z])\\1+', r'\\1\\1',text) #substitute multiple letter by two\n",
    "    words = \"\"\n",
    "    wordtokens = [ base_word(word.lower()) for word in word_tokenize(text) ]\n",
    "    for word in wordtokens:\n",
    "        if word not in commonwords: #delete stopwords\n",
    "            words+=\" \"+word\n",
    "    return words\n",
    "\n",
    "\n",
    "texts_train = [word_extractor(text) for text in df_train_text]\n",
    "texts_val = [word_extractor(text) for text in df_val_text]\n",
    "texts_test = [word_extractor(text) for text in df_test_text]"
   ]
  },
  {
   "cell_type": "markdown",
   "metadata": {
    "colab_type": "text",
    "id": "BpXdtpy-Wbtf"
   },
   "source": [
    "**Comentarios:** Realizar un pre-procesamiento correcto es un paso muy importante ya que permite transformar textos en algo que los algoritmos pueden usar para procesos complejos a través de sus 4 etapas. \n",
    "\n",
    "*   La *limpieza* permite descartar información innecesaria como mayúsculas, caracteres y otros detalles no relevantes. \n",
    "*   Las *anotaciones* etiquetan los datos, lo que permite a los modelos reconocer patrones recurrentes.\n",
    "*   La *normalización* mapea los términos con el fin de reducir la redundancia.\n",
    "*   Un *análisis* mediante pruebas, manipulación y generalización para el análisis características.\n",
    "\n",
    "En este caso ésta técnica facilitará y mejorará los resultados de los siguientes procesamientos porque hay palabras que se repiten innecesariamente y hacen que los textos pierdan su simplicidad. Por ejemplo, una opinión podría ser explicada bien con pocas y simples palabras, en vez de caer en redundancias.\n",
    "\n",
    "La importancia del pre-procesamiento radica principalmente en reducir aquellos elemento que no entregan o entregan poca información semántica, por ejemplo el uso de mayúsculas o algunos tokens, tambien existen palabras que se repiten varias veces en los textos y por lo mismo aportan poco valor semantico, estas palabras son conocidas como stop words y con el preprocesamiento son quitadas.\n"
   ]
  },
  {
   "cell_type": "markdown",
   "metadata": {
    "colab_type": "text",
    "id": "csddUdW7hRdM"
   },
   "source": [
    "> d) Construya una representación vectorial a los textos de entrada para poder ser manejados y clasificados por los modelos de aprendizaje. Para ésto utilice el tipo de característica más común, que consiste en contar cuántas veces aparece cada términos/palabras en el texto, denominado **TF** (*term-frequency*). Para esto, se necesita contar con un vocabulario base, el cual se construirá a través de la unión de todas las palabras que observemos en los textos de entrenamiento ¿Cuáles son las palabras más frecuentes?"
   ]
  },
  {
   "cell_type": "markdown",
   "metadata": {
    "colab_type": "text",
    "id": "oR9IZKrftpOv"
   },
   "source": [
    "**Conjunto de entrenamiento**"
   ]
  },
  {
   "cell_type": "code",
   "execution_count": 8,
   "metadata": {
    "colab": {
     "base_uri": "https://localhost:8080/",
     "height": 337
    },
    "colab_type": "code",
    "id": "Jq8Gxbiuy3eg",
    "outputId": "d3f42978-77c4-4c65-e099-d293cce7aa32"
   },
   "outputs": [
    {
     "data": {
      "text/plain": [
       "<BarContainer object of 20 artists>"
      ]
     },
     "execution_count": 8,
     "metadata": {},
     "output_type": "execute_result"
    },
    {
     "data": {
      "image/png": "[encoded data removed]",
      "text/plain": [
       "<Figure size 720x360 with 1 Axes>"
      ]
     },
     "metadata": {
      "needs_background": "light"
     },
     "output_type": "display_data"
    }
   ],
   "source": [
    "import numpy as np\n",
    "from sklearn.feature_extraction.text import CountVectorizer\n",
    "\n",
    "vectorizer = CountVectorizer(ngram_range=(1, 1), binary=False) #TF representation\n",
    "\n",
    "vectorizer.fit(texts_train)\n",
    "features_train = vectorizer.transform(texts_train)\n",
    "\n",
    "vocab = vectorizer.get_feature_names()\n",
    "dist=list(np.array(features_train.sum(axis=0)).reshape(-1,))\n",
    "\n",
    "frec = sorted(list(zip(vocab, dist)),key=lambda x: x[1], reverse=True)\n",
    "\n",
    "plt.figure(figsize=(10,5))\n",
    "#plt.bar(list(zip(*frec))[0],list(zip(*frec))[1]) #para ver todas las frecuencias\n",
    "plt.bar(list(zip(*frec[:20]))[0],list(zip(*frec[:20]))[1]) #para ver los 20 más frecuentes"
   ]
  },
  {
   "cell_type": "markdown",
   "metadata": {
    "colab_type": "text",
    "id": "OGYKyP8Jm3Cx"
   },
   "source": [
    "**Comentarios:** Se puede observar las palabras *film*, *movie* y *one* como las 3 palabras más frecuentes, lo que tiene sentido debido a la temática que se está analizando. Además se pueden ven verbos como *like* (seguramente en contexto de gustar) y adjetivos como *funny* que deben acompañar a las palabras principales."
   ]
  },
  {
   "cell_type": "markdown",
   "metadata": {
    "colab_type": "text",
    "id": "xrxIIzq7t48L"
   },
   "source": [
    "**Conjunto de validación**"
   ]
  },
  {
   "cell_type": "code",
   "execution_count": 9,
   "metadata": {
    "colab": {
     "base_uri": "https://localhost:8080/",
     "height": 337
    },
    "colab_type": "code",
    "id": "XjJJTNgRt9jA",
    "outputId": "7cb62f9a-6307-4b88-8b46-eb5421e1a624"
   },
   "outputs": [
    {
     "data": {
      "text/plain": [
       "<BarContainer object of 20 artists>"
      ]
     },
     "execution_count": 9,
     "metadata": {},
     "output_type": "execute_result"
    },
    {
     "data": {
      "image/png": "[encoded data removed]",
      "text/plain": [
       "<Figure size 720x360 with 1 Axes>"
      ]
     },
     "metadata": {
      "needs_background": "light"
     },
     "output_type": "display_data"
    }
   ],
   "source": [
    "features_val = vectorizer.transform(texts_val)\n",
    "\n",
    "vocab = vectorizer.get_feature_names()\n",
    "dist=list(np.array(features_val.sum(axis=0)).reshape(-1,))\n",
    "\n",
    "frec = sorted(list(zip(vocab, dist)),key=lambda x: x[1], reverse=True)\n",
    "\n",
    "plt.figure(figsize=(10,5))\n",
    "#plt.bar(list(zip(*frec))[0],list(zip(*frec))[1]) #para ver todas las frecuencias\n",
    "plt.bar(list(zip(*frec[:20]))[0],list(zip(*frec[:20]))[1]) #para ver los 20 más frecuentes"
   ]
  },
  {
   "cell_type": "markdown",
   "metadata": {
    "colab_type": "text",
    "id": "RJkSECaonJi1"
   },
   "source": [
    "**Comentarios:** Al igual que el conjunto de entrenamiento, se observan las palabras *film* y *movie* como las más frecuentes. En el resto menos frecuente se pueden observar palabras asociadas al contexto anterior, tales como: *comedy*, *story* y *drama*."
   ]
  },
  {
   "cell_type": "markdown",
   "metadata": {
    "colab_type": "text",
    "id": "3ca73x2Qt_n3"
   },
   "source": [
    "**Conjunto de prueba**\n"
   ]
  },
  {
   "cell_type": "code",
   "execution_count": 10,
   "metadata": {
    "colab": {
     "base_uri": "https://localhost:8080/",
     "height": 337
    },
    "colab_type": "code",
    "id": "0SelRKayuFF0",
    "outputId": "42cb8bc2-fa8c-4097-a8d2-8078ed302d29"
   },
   "outputs": [
    {
     "data": {
      "text/plain": [
       "<BarContainer object of 20 artists>"
      ]
     },
     "execution_count": 10,
     "metadata": {},
     "output_type": "execute_result"
    },
    {
     "data": {
      "image/png": "[encoded data removed]",
      "text/plain": [
       "<Figure size 720x360 with 1 Axes>"
      ]
     },
     "metadata": {
      "needs_background": "light"
     },
     "output_type": "display_data"
    }
   ],
   "source": [
    "features_test = vectorizer.transform(texts_test)\n",
    "\n",
    "vocab = vectorizer.get_feature_names()\n",
    "dist=list(np.array(features_test.sum(axis=0)).reshape(-1,))\n",
    "\n",
    "frec = sorted(list(zip(vocab, dist)),key=lambda x: x[1], reverse=True)\n",
    "\n",
    "plt.figure(figsize=(10,5))\n",
    "#plt.bar(list(zip(*frec))[0],list(zip(*frec))[1]) #para ver todas las frecuencias\n",
    "plt.bar(list(zip(*frec[:20]))[0],list(zip(*frec[:20]))[1]) #para ver los 20 más frecuentes"
   ]
  },
  {
   "cell_type": "markdown",
   "metadata": {
    "colab_type": "text",
    "id": "8fs8yZHMoMhh"
   },
   "source": [
    "**Comentarios:** Al igual que los otros dos conjuntos, las palabras *film* y *movie* son las más frecuentes. En general en todos los conjuntos se puede asociar a una distribución en común, lo que es positivo para entrenar modelos."
   ]
  },
  {
   "cell_type": "markdown",
   "metadata": {
    "colab_type": "text",
    "id": "CF7VaNcehRdY"
   },
   "source": [
    "> e) Para tener una visión distinta y entender mejor la representación vectorial realizada, visualice los datos en un plano 2D. Para ésto utilice la técnica **LSA** (*Latent Semantic Analysis*) [[5]](#refs) que a diferencia de PCA, **no centra** los datos antes de realizar la descomposicipon SVD, de ésta manera podrá visualizar el espacio semántico de \"conceptos\" latentes usados en la representación. Coloree cada texto en base a su clase ¿Qué indica lo observado? Comente e interprete los resultados"
   ]
  },
  {
   "cell_type": "code",
   "execution_count": 11,
   "metadata": {
    "colab": {
     "base_uri": "https://localhost:8080/",
     "height": 320
    },
    "colab_type": "code",
    "id": "UalUo16TzO1n",
    "outputId": "c5fa526f-b08c-402f-af5a-f488e919dcd7"
   },
   "outputs": [
    {
     "data": {
      "image/png": "[encoded data removed]",
      "text/plain": [
       "<Figure size 720x360 with 1 Axes>"
      ]
     },
     "metadata": {
      "needs_background": "light"
     },
     "output_type": "display_data"
    }
   ],
   "source": [
    "from sklearn.decomposition import TruncatedSVD\n",
    "\n",
    "model = TruncatedSVD(n_components=2)\n",
    "model.fit(features_train)\n",
    "x_plot = model.transform(features_train)\n",
    "\n",
    "labels_train_int = labels_train.astype(int)\n",
    "colormap = np.array(['r', 'b'])\n",
    "\n",
    "plt.figure(figsize=(10,5))\n",
    "plt.scatter(x_plot[:,0], x_plot[:,1], c=colormap[labels_train_int])\n",
    "plt.show()\n"
   ]
  },
  {
   "cell_type": "markdown",
   "metadata": {
    "colab_type": "text",
    "id": "aFxQ4rTMr5Xe"
   },
   "source": [
    "**Comentarios:** La ilustración anterior muestra clusters de los registros del dataset en 2D. Aquellos puntos azules corresponden a sentencias marcadas como positivas; mientras las rojas, negativas. Se pueden diferenciar facilmente tres cluster y si consideramos la cercanía de puntos como la similitud semántica, se puede deducir que los comentarios positivos que se encuentran mas alejados tienen texto y contenido muy diferente al resto."
   ]
  },
  {
   "cell_type": "markdown",
   "metadata": {
    "colab_type": "text",
    "id": "xrZp_zE4hRdi"
   },
   "source": [
    "\n",
    "\n",
    "> f) Entrene un modelo de Regresión Logística Regularizado (utilizando como penalizador la norma $l_2$). Varíe el parámetro de regularización $C$, en potencias de 10, midiendo el error de predicción obtenido sobre los datos de entrenamiento y validación, construya un gráfico que muestre la variación de ambos errores respecto al parámetro $C$. Explique el significado y valor esperado del parámetro de regularización.\n"
   ]
  },
  {
   "cell_type": "code",
   "execution_count": 12,
   "metadata": {
    "colab": {
     "base_uri": "https://localhost:8080/",
     "height": 367
    },
    "colab_type": "code",
    "id": "-PmWsIQfhRdk",
    "outputId": "4a26a765-6cfd-478a-a2eb-43b9bb38dd3c"
   },
   "outputs": [
    {
     "name": "stderr",
     "output_type": "stream",
     "text": [
      "C:\\Users\\Seba\\Anaconda3\\envs\\ML\\lib\\site-packages\\sklearn\\linear_model\\_logistic.py:939: ConvergenceWarning: lbfgs failed to converge (status=1):\n",
      "STOP: TOTAL NO. of ITERATIONS REACHED LIMIT.\n",
      "\n",
      "Increase the number of iterations (max_iter) or scale the data as shown in:\n",
      "    https://scikit-learn.org/stable/modules/preprocessing.html.\n",
      "Please also refer to the documentation for alternative solver options:\n",
      "    https://scikit-learn.org/stable/modules/linear_model.html#logistic-regression\n",
      "  extra_warning_msg=_LOGISTIC_SOLVER_CONVERGENCE_MSG)\n",
      "C:\\Users\\Seba\\Anaconda3\\envs\\ML\\lib\\site-packages\\sklearn\\linear_model\\_logistic.py:939: ConvergenceWarning: lbfgs failed to converge (status=1):\n",
      "STOP: TOTAL NO. of ITERATIONS REACHED LIMIT.\n",
      "\n",
      "Increase the number of iterations (max_iter) or scale the data as shown in:\n",
      "    https://scikit-learn.org/stable/modules/preprocessing.html.\n",
      "Please also refer to the documentation for alternative solver options:\n",
      "    https://scikit-learn.org/stable/modules/linear_model.html#logistic-regression\n",
      "  extra_warning_msg=_LOGISTIC_SOLVER_CONVERGENCE_MSG)\n"
     ]
    },
    {
     "data": {
      "image/png": "[encoded data removed]",
      "text/plain": [
       "<Figure size 720x360 with 1 Axes>"
      ]
     },
     "metadata": {
      "needs_background": "light"
     },
     "output_type": "display_data"
    },
    {
     "name": "stdout",
     "output_type": "stream",
     "text": [
      "El mejor accuracy es 0.7116736990154712 cuando C = 1.0\n"
     ]
    }
   ],
   "source": [
    "from sklearn.linear_model import LogisticRegression\n",
    "\n",
    "def do_LOGIT(x, y, xv, yv, param):\n",
    "    #print(\"Param C = \", param)\n",
    "    model = LogisticRegression()\n",
    "    model.set_params(C = param)\n",
    "    model.fit(x, y)\n",
    "    train_acc = model.score(x, y)\n",
    "    test_acc = model.score(xv, yv)\n",
    "\n",
    "    return model, train_acc, test_acc\n",
    "\n",
    "def logit_plot():\n",
    "  train_accs = []\n",
    "  test_accs = []\n",
    "  max_val_acc = 0\n",
    "  C = 0\n",
    "  Cs = [10**i for i in np.arange(-4,4).astype(float)]\n",
    "\n",
    "  for i in Cs:\n",
    "    model, train_acc, test_acc = do_LOGIT(features_train, labels_train, features_val, labels_val, param = i)\n",
    "\n",
    "    if test_acc > max_val_acc:\n",
    "      max_val_acc = test_acc\n",
    "      C = i\n",
    "\n",
    "    train_accs.append(train_acc)\n",
    "    test_accs.append(test_acc)\n",
    "    \n",
    "  plt.figure(figsize=(10,5))\n",
    "  plt.plot(train_accs, marker='', color='red', linewidth=2, linestyle='dashed', label=\"Entrenamiento\")\n",
    "  plt.plot(test_accs, marker='', color='blue', linewidth=2, linestyle='dashed', label=\"Validación\")\n",
    "  xi = list(range(len(Cs)))\n",
    "  plt.xticks(xi, Cs)\n",
    "  plt.title('Precisiones Regresión Logística Regularizado')\n",
    "  plt.legend()\n",
    "  plt.xlabel('Parámetro de regularización (C)')\n",
    "  plt.ylabel('Precisión (Accuracy)')\n",
    "  plt.show()\n",
    "\n",
    "  print(\"El mejor accuracy es {} cuando C = {}\".format(max_val_acc, C))\n",
    "\n",
    "logit_plot()"
   ]
  },
  {
   "cell_type": "markdown",
   "metadata": {
    "colab_type": "text",
    "id": "bFkZaeX-W1co"
   },
   "source": [
    "**Comentarios:** Se puede observar como ambas precisiones aumentan a medida que el parámetro de regularización se vuelve más fuerte, es decir, se van eliminando atributos irrelevantes. Una idea general es que el modelo elimina aquellos atributos que no son relevantes para clasificar una opinión como positiva o negativa, esto puede estar relacionado con las palabras que no se eliminaron en el pre-procesamiento.\n",
    "\n",
    "El conjunto de entrenamiento permite analizar que tanto overfitting se está produciendo. En este caso, ambos conjuntos tienen un comportamiento similar entre C = 0.0001 y C = 1.0 lo que significa un comportamiento positivo porque no hay overfitting; sin embargo, luego del intervalo anterior el conjunto de validación tiende a encontrar más errores de predicción mientras el conjunto de entrenamiento no, evidenciando así un overfitting casi despreciable.\n",
    "\n",
    "En general este modelo entrega resultados positivos para poder ser considerado. Podría servir para determinar cuales son los mejores atributos de entrada y poder hacer más pruebas. Además, en base a los resultados obtenidos se podría asumir que los atributos no están tan correlacionados."
   ]
  },
  {
   "cell_type": "markdown",
   "metadata": {
    "colab_type": "text",
    "id": "E6uOgvozhRdo"
   },
   "source": [
    "\n",
    "> g) Entrene una Máquina de Soporte Vectorial (SVM) con distintos kernels. Similar a lo anterior, construya un gráfico que muestre la variación de ambos errores respecto al parámetro de regularización $C$ para cada tipo de kernel que experimente. Explique el significado y valor esperado de los parámetros en este modelo.\n",
    "\n"
   ]
  },
  {
   "cell_type": "code",
   "execution_count": 13,
   "metadata": {
    "colab": {},
    "colab_type": "code",
    "id": "9SmoCaashRdt"
   },
   "outputs": [],
   "source": [
    "from sklearn.svm import SVC as SVM #SVC is for classification\n",
    "\n",
    "def do_SVM(x, y, xv, yv, param, kernel_choice):\n",
    "    C = param\n",
    "    #print(\"Param C= \",C, 'Kernel= ', kernel_choice)\n",
    "    model= SVM(kernel = kernel_choice)\n",
    "    model.set_params(C = C, kernel = kernel_choice) #try rbf and linear at least\n",
    "    model.fit(x,y)\n",
    "    train_acc = model.score(x,y)\n",
    "    test_acc = model.score(xv,yv)\n",
    "\n",
    "    return model, train_acc, test_acc\n",
    "\n",
    "def kernels_plot(kernel):\n",
    "  Cs = [10**i for i in np.arange(-4,4).astype(float)]\n",
    "  list_train = list()\n",
    "  list_test  = list()\n",
    "  max_val_acc = 0\n",
    "  C = 0\n",
    "\n",
    "  for i in Cs:\n",
    "      model, train_acc, test_acc = do_SVM(features_train, labels_train, features_val, labels_val, i, kernel)\n",
    "      list_train.append(train_acc)\n",
    "      list_test.append(test_acc)\n",
    "\n",
    "      if test_acc > max_val_acc:\n",
    "        max_val_acc = test_acc\n",
    "        C = i \n",
    "\n",
    "  plt.plot(list_train, marker='', color='red', linewidth=2, linestyle='dashed', label=\"Entrenamiento\")\n",
    "  plt.plot(list_test, marker='', color='blue', linewidth=2, linestyle='dashed', label=\"Validación\")\n",
    "  xi = list(range(len(Cs)))\n",
    "  plt.xticks(xi, Cs)\n",
    "  plt.title(\"Precisiones SVM, Kernel: \" + kernel)\n",
    "  plt.legend()\n",
    "  plt.xlabel('Parámetro de regularización (C)')\n",
    "  plt.ylabel(\"Precisión (Accuracy)\")\n",
    "  plt.show()\n",
    "\n",
    "  print(\"El mejor accuracy es {} cuando C = {}\".format(max_val_acc, C))"
   ]
  },
  {
   "cell_type": "code",
   "execution_count": 14,
   "metadata": {
    "colab": {
     "base_uri": "https://localhost:8080/",
     "height": 1000
    },
    "colab_type": "code",
    "id": "fiURzGpROAuR",
    "outputId": "fdc83f4b-2e44-4763-94c9-51e377fe92fd"
   },
   "outputs": [
    {
     "data": {
      "image/png": "[encoded data removed]",
      "text/plain": [
       "<Figure size 432x288 with 1 Axes>"
      ]
     },
     "metadata": {
      "needs_background": "light"
     },
     "output_type": "display_data"
    },
    {
     "name": "stdout",
     "output_type": "stream",
     "text": [
      "El mejor accuracy es 0.6919831223628692 cuando C = 0.1\n"
     ]
    },
    {
     "data": {
      "image/png": "[encoded data removed]",
      "text/plain": [
       "<Figure size 432x288 with 1 Axes>"
      ]
     },
     "metadata": {
      "needs_background": "light"
     },
     "output_type": "display_data"
    },
    {
     "name": "stdout",
     "output_type": "stream",
     "text": [
      "El mejor accuracy es 0.6919831223628692 cuando C = 10.0\n"
     ]
    },
    {
     "data": {
      "image/png": "[encoded data removed]",
      "text/plain": [
       "<Figure size 432x288 with 1 Axes>"
      ]
     },
     "metadata": {
      "needs_background": "light"
     },
     "output_type": "display_data"
    },
    {
     "name": "stdout",
     "output_type": "stream",
     "text": [
      "El mejor accuracy es 0.6624472573839663 cuando C = 10.0\n"
     ]
    },
    {
     "data": {
      "image/png": "[encoded data removed]",
      "text/plain": [
       "<Figure size 432x288 with 1 Axes>"
      ]
     },
     "metadata": {
      "needs_background": "light"
     },
     "output_type": "display_data"
    },
    {
     "name": "stdout",
     "output_type": "stream",
     "text": [
      "El mejor accuracy es 0.7018284106891702 cuando C = 1.0\n"
     ]
    }
   ],
   "source": [
    "# import warnings filter\n",
    "from warnings import simplefilter\n",
    "# ignore all future warnings\n",
    "simplefilter(action='ignore', category=FutureWarning)\n",
    "\n",
    "kernels_plot(\"linear\")\n",
    "kernels_plot(\"rbf\")\n",
    "kernels_plot(\"poly\")\n",
    "kernels_plot(\"sigmoid\")\n",
    "# kernels_plot(\"precomputed\")"
   ]
  },
  {
   "cell_type": "markdown",
   "metadata": {
    "colab_type": "text",
    "id": "UzMvXZ1Jvu_P"
   },
   "source": [
    "**Comentarios**: Lo que hace SVM es construir un hiperplano de n dimensiones (donde n es la cantidad de atributos) para clasificar los datos. En este caso se está construyendo hiperplano que pueda separar adecuadamente los puntos etiquetados como positivos o negativos. Sin embargo, pueden existir puntos que traspasen la frontera a la cual pertenecen; es ahí donde entra en juego el valor de C. El parámetro de regularización se encarga de ajustar un margen al hiperplano capaz de ignorar puntos dentro de éste. A medida que C aumenta, menor será este margen y una menor cantidad de puntos serán ignorados. Por tanto se esperaría los accuracies aumenten a medida que C lo hace, lo que se puede comprobar observando los gráficos anteriores.\n",
    "\n",
    "En relación a los gráficos:\n",
    "\n",
    "*  Con kernel *linear* ambas precisiones tienen un comportamiento similar a medida que *C* aumenta, terminando con un accuracy final de 0.692. No se evidencia overfitting.\n",
    "*  El kernel *rbf* tiene un ajuste tardío en comparación al anterior, pero que termina con un accuracy de 0.692.\n",
    "*  El kernel *poly* tiene un comportamiento interesante, ya que hasta que C = 10, los comportamientos son similares, pero luego de ete valor, el accuracy del conjunto de validación disminuye a medida que el del conjunto de entrenamiento se mantiene constante, lo que podría significar un leve overfitting. Su accuracy máximo es de 0.662 aproximadamente. Una razón de este fenómeno puede ser que el hiperplano trazado está muy lejos de los puntos y ni aumentando el margen se logra alcanzarlos.\n",
    "*  El kernel *sigmoid* tiene un comportamiento parecido al *poly* pero sus accuracies aumentan antes y más rapido, logrando una precisión máxima mayor de 0.702 aproximadamente. Luego, al igual que el otro kernel, despues de C = 1 la precisión del conjunto de validación decrece mientras el de entrenamiento aumenta, lo que evidencia overfitting. Esto se regula despues de C = 100.\n",
    "\n",
    "Finalmente, los resultados son positivos, siendo la SVM con kernel sigmoid y C = 10 una buena opción para considerar para problemas de esta índole."
   ]
  },
  {
   "cell_type": "markdown",
   "metadata": {
    "colab_type": "text",
    "id": "PCrkFjFghRd0"
   },
   "source": [
    "> h) Utilice el algoritmo de similaridad k-NN para intentar resolver el problema. Varíe el parámetro de los vecinos $k$ en un rango que estime conveniente y realice graficos de errores como en las preguntas anteriores. Comente sobre el valor esperado de este parámetro."
   ]
  },
  {
   "cell_type": "code",
   "execution_count": 15,
   "metadata": {
    "colab": {
     "base_uri": "https://localhost:8080/",
     "height": 608
    },
    "colab_type": "code",
    "id": "vfoEsvEWhRd2",
    "outputId": "59e41270-df7b-4031-b9d5-db061f3b0eee"
   },
   "outputs": [
    {
     "data": {
      "image/png": "[encoded data removed]",
      "text/plain": [
       "<Figure size 432x288 with 1 Axes>"
      ]
     },
     "metadata": {
      "needs_background": "light"
     },
     "output_type": "display_data"
    },
    {
     "name": "stdout",
     "output_type": "stream",
     "text": [
      "El mejor accuracy es 0.5991561181434599 cuando k = 431\n"
     ]
    },
    {
     "data": {
      "image/png": "[encoded data removed]",
      "text/plain": [
       "<Figure size 432x288 with 1 Axes>"
      ]
     },
     "metadata": {
      "needs_background": "light"
     },
     "output_type": "display_data"
    },
    {
     "name": "stdout",
     "output_type": "stream",
     "text": [
      "El mejor accuracy es 0.5893108298171589 cuando k = 1\n"
     ]
    }
   ],
   "source": [
    "from sklearn.neighbors import KNeighborsClassifier\n",
    "\n",
    "def do_KNN(x, y, xv, yv, param):\n",
    "    model = KNeighborsClassifier()\n",
    "    #print(\"Param K= \",param)\n",
    "    model.set_params(n_neighbors = param)\n",
    "    model.fit(x, y)\n",
    "    train_acc = model.score(x, y)\n",
    "    test_acc = model.score(xv, yv)\n",
    "\n",
    "    return model, train_acc, test_acc\n",
    "\n",
    "def knn_plot(steps = 100):\n",
    "  train_accs = []\n",
    "  test_accs = []\n",
    "  Ks = np.arange(1, features_train.shape[0], steps)\n",
    "  max_val_acc = 0\n",
    "  k = 0\n",
    "\n",
    "  for i in Ks:\n",
    "    model, train_acc, test_acc = do_KNN(features_train, labels_train, features_val, labels_val, param = i)\n",
    "    train_accs.append(train_acc)\n",
    "    test_accs.append(test_acc)\n",
    "\n",
    "    if test_acc > max_val_acc:\n",
    "      max_val_acc = test_acc\n",
    "      k = i\n",
    "    \n",
    "  plt.plot(train_accs, marker='', color='red', linewidth=2, linestyle='dashed', label=\"Entrenamiento\")\n",
    "  plt.plot(test_accs, marker='', color='blue', linewidth=2, linestyle='dashed', label=\"Validación\")\n",
    "  xi = list(range(len(Ks)))\n",
    "  plt.xticks(xi, Ks)\n",
    "  plt.legend()\n",
    "  plt.xlabel('Número de vecinos')\n",
    "  plt.ylabel('Precisión (Accuracy)')\n",
    "  plt.title(\"Precisiones con KNN\")\n",
    "  plt.show()\n",
    "\n",
    "  print(\"El mejor accuracy es {} cuando k = {}\".format(max_val_acc, k))\n",
    "\n",
    "knn_plot(10)\n",
    "knn_plot(100)"
   ]
  },
  {
   "cell_type": "markdown",
   "metadata": {
    "colab_type": "text",
    "id": "LARnkFdyOveo"
   },
   "source": [
    "**Comentarios:** Lo que hace KNN es calcular una distancia entre los items a clasificar y el resto de items del dataset de entrenamiento. Para ello se seleccionan los *k* elementos más cercanos (vecinos) y se escoge aquella clase que domine en esa zona para decidir la clasificación final. Entonces, al aumentar *k* no es posible predecir como influirá en los accuracies, pues depende de los elementos que existan en vecindades. \n",
    "\n",
    "Para medir los accuracies, se recorrieron los elementos en intervalos de 10 y 100.\n",
    "\n",
    "De los gráficos se puede apreciar un comportamiento bastante irregular en las precisiones, donde ambos parecieran ilustrar la misma forma: una disminución irregular al inicio, una forma constante y luego un aumento irregular. Sin embargo es algo esperado, ya que como se dijo anteriormente, aumentar la cantidad de vecinos a considerar depende de los datos que existan.\n",
    "Otra cosa que se podía esperar es que el mejor accuracy se logra cuando k = 1, ya que con este valor se están considerando todos los datos individualmente como el mejor (no hay comparación con vecinos). De todos modos es un resultado positivo para el overfitting, ya que el comportamiento similar implicaría la ausencia de éste.\n",
    "\n",
    "Considerando la precisión máxima lograda por el conjunto con más vecinos se puede decir que es un valor bajo y que no supera a los modelos anteriores. "
   ]
  },
  {
   "cell_type": "markdown",
   "metadata": {
    "colab_type": "text",
    "id": "PcCT6X81hRd-"
   },
   "source": [
    "\n",
    "> i) Entrene un Arbol de Decisión para resolver el problema. Varíe los parámetros de *max depth* y *min samples split* de manera separada, constuyendo gráficos de error respecto a estos parámetros. *Los valores que se presentan son sugerencias, no es necesario utilizar los mismos*. Comente sobre la diferencia entre la selección de estos dos parámetros.\n",
    "\n"
   ]
  },
  {
   "cell_type": "code",
   "execution_count": 16,
   "metadata": {
    "colab": {
     "base_uri": "https://localhost:8080/",
     "height": 1000
    },
    "colab_type": "code",
    "id": "fQrM0rOVhReB",
    "outputId": "706b624e-475b-4093-81fb-9101d186f60d"
   },
   "outputs": [
    {
     "data": {
      "image/png": "[encoded data removed]",
      "text/plain": [
       "<Figure size 432x288 with 1 Axes>"
      ]
     },
     "metadata": {
      "needs_background": "light"
     },
     "output_type": "display_data"
    },
    {
     "name": "stdout",
     "output_type": "stream",
     "text": [
      "El mejor accuracy es 0.6357243319268636 cuando max_depth = 8301\n"
     ]
    },
    {
     "data": {
      "image/png": "[encoded data removed]",
      "text/plain": [
       "<Figure size 432x288 with 1 Axes>"
      ]
     },
     "metadata": {
      "needs_background": "light"
     },
     "output_type": "display_data"
    },
    {
     "name": "stdout",
     "output_type": "stream",
     "text": [
      "El mejor accuracy es 0.6160337552742616 cuando max_depth = 2701\n"
     ]
    },
    {
     "data": {
      "image/png": "[encoded data removed]",
      "text/plain": [
       "<Figure size 432x288 with 1 Axes>"
      ]
     },
     "metadata": {
      "needs_background": "light"
     },
     "output_type": "display_data"
    },
    {
     "name": "stdout",
     "output_type": "stream",
     "text": [
      "El mejor accuracy es 0.5935302390998594 cuando max_depth = 1201\n"
     ]
    },
    {
     "data": {
      "image/png": "[encoded data removed]",
      "text/plain": [
       "<Figure size 432x288 with 1 Axes>"
      ]
     },
     "metadata": {
      "needs_background": "light"
     },
     "output_type": "display_data"
    },
    {
     "name": "stdout",
     "output_type": "stream",
     "text": [
      "El mejor accuracy es 0.5569620253164557 cuando max_depth = 101\n"
     ]
    },
    {
     "data": {
      "image/png": "[encoded data removed]",
      "text/plain": [
       "<Figure size 432x288 with 1 Axes>"
      ]
     },
     "metadata": {
      "needs_background": "light"
     },
     "output_type": "display_data"
    },
    {
     "name": "stdout",
     "output_type": "stream",
     "text": [
      "El mejor accuracy es 0.510548523206751 cuando max_depth = 1\n"
     ]
    }
   ],
   "source": [
    "from sklearn.tree import DecisionTreeClassifier as Tree\n",
    "\n",
    "# Explicación: https://scikit-learn.org/stable/modules/tree.html\n",
    "def do_Tree(x, y, xv, yv, param_d = None, param_m = 2):\n",
    "    model= Tree()\n",
    "    #print(\"Param Max-D= \",param_d, 'Min-samples-S= ', param_m)\n",
    "    model.set_params(max_depth = param_d, min_samples_split = param_m) \n",
    "    model.fit(x, y)\n",
    "    train_acc = model.score(x, y)\n",
    "    test_acc = model.score(xv, yv)\n",
    "\n",
    "    return model, train_acc, test_acc\n",
    "\n",
    "def tree_plot(depths, samples):\n",
    "  train_accs = []\n",
    "  test_accs = []\n",
    "  max_val_acc = 0\n",
    "  best_depth = 0\n",
    "\n",
    "  for depth in depths:\n",
    "    model, train_acc, test_acc = model, train_acc, test_acc = do_Tree(features_train, labels_train, features_val, labels_val, depth, samples)\n",
    "    train_accs.append(train_acc)\n",
    "    test_accs.append(test_acc)\n",
    "\n",
    "    if test_acc > max_val_acc:\n",
    "      max_val_acc = test_acc\n",
    "      best_depth = depth\n",
    "  \n",
    "  plt.plot(train_accs, marker='', color='red', linewidth=2, linestyle='dashed', label=\"Entrenamiento\")\n",
    "  plt.plot(test_accs, marker='', color='blue', linewidth=2, linestyle='dashed', label=\"Validación\")\n",
    "  #xi = list(range(len(depths)))\n",
    "  #plt.xticks(xi, Cs)\n",
    "  plt.title(\"Árbol de Decisión con min_samples_split = \" + str(samples))\n",
    "\n",
    "  plt.legend()\n",
    "  plt.xlabel('Profundidad máxima (max_depth)')\n",
    "  plt.ylabel('Precisión (Accuracy)')\n",
    "  plt.show()\n",
    "\n",
    "  print(\"El mejor accuracy es {} cuando max_depth = {}\".format(max_val_acc, best_depth))\n",
    "  \n",
    "\n",
    "Depths = np.arange(1, features_train.shape[1], 100 ) #choose steps\n",
    "SamplesS = np.arange(2, features_train.shape[0] , int(features_train.shape[0]/4)) #choose steps\n",
    "\n",
    "for samples in SamplesS:\n",
    "  tree_plot(Depths, samples)"
   ]
  },
  {
   "cell_type": "markdown",
   "metadata": {
    "colab_type": "text",
    "id": "lRY6bsWsVao2"
   },
   "source": [
    "**Comentarios:** En este caso se variaron los parámetros de forma separada. Los samples se divieron en 4 partes equitativas, donde por cada valor se entrenaron árboles de decisión variando los max_depth en intervalos de 100 entre la cantidad de atributos para entrenamiento.\n",
    "\n",
    "Con respecto a los resultados:\n",
    "\n",
    "*   Con min_samples_split = 2 el comportamiento de las precisiones para el conjunto de validación pareciera tener un comportamiento irregular pero que tiende a ser constante. Lo que está ocurriendo aquí es que el modelo sufre de *overfit*, lo que se puede comprobar con el comportamiento de las precisiones en el conjunto de pruebas, ya que tiene precisión 1 en todo momento. El máximo accuracy que logra es aproximadamente de 0.636 cuando max_depth = 8301, lo que no supera los modelos anteriores.\n",
    "*   El resto de los resultados no parecieran mejorar, aunque se reduce el overfitting. Lo anterior se debe a que al árbol le cuesta aprender de los datos, lo que resulta en una baja calidad del modelo.\n",
    "\n",
    "Existen otras razones del comportamiento del modelo, como por ejemplo la cantidad de atributos que también pueden significar overfit cuando hay pocos samples. Los resultados se podrían mejorar si se estudian los atributos (PCA o ICA pueden ser buenas alternativas).\n",
    "\n",
    "En conclusión, la profundidad del árbol mejora el accuracy; mientras que la división de muestras puede ayudar a clasificar más rápido."
   ]
  },
  {
   "cell_type": "markdown",
   "metadata": {
    "colab_type": "text",
    "id": "C37Cq_yohReI"
   },
   "source": [
    "> j) Utilice una Red Neuronal Artificial (ANN) para intentar resolver el problema, como la que se señala a continuación (utilizando el framework de *keras*): entrenada por 25 iteraciones al dataset (*epochs*) con un tamaño de *batch* de 128 para las actualizaciones de los pesos, utilizando *SGD* con una tasa de aprendizaje $0.1$ sobre la función de pérdida binaria de clasificación. La arquitectura de la red contiene una capa de salida con una única neurona que indica la probabilidad de que el texto sea positivo, una capa escondida con número de neuronas $N_h$ y la capa de entrada implícita para $x$. Varíe el parámetro que corresponde al número de neuronas en la capa oculta $N_h$, en potencias de 2, y vuelva a realizar el gráfico de error con respecto al parámetro. Comente.\n"
   ]
  },
  {
   "cell_type": "code",
   "execution_count": 17,
   "metadata": {
    "colab": {
     "base_uri": "https://localhost:8080/",
     "height": 313
    },
    "colab_type": "code",
    "id": "GsfgzZoOhReM",
    "outputId": "85854127-7ae4-4ae7-80fa-28b5bfac1701"
   },
   "outputs": [
    {
     "name": "stderr",
     "output_type": "stream",
     "text": [
      "Using TensorFlow backend.\n"
     ]
    },
    {
     "data": {
      "image/png": "[encoded data removed]",
      "text/plain": [
       "<Figure size 432x288 with 1 Axes>"
      ]
     },
     "metadata": {
      "needs_background": "light"
     },
     "output_type": "display_data"
    },
    {
     "name": "stdout",
     "output_type": "stream",
     "text": [
      "El mejor accuracy es 0.6300984530509273 cuando hay = 8 neuronas en capa oculta\n"
     ]
    }
   ],
   "source": [
    "from keras.models import Sequential\n",
    "from keras.layers import Dense\n",
    "from keras.optimizers import SGD\n",
    "import tensorflow as tf\n",
    "tf.logging.set_verbosity(tf.logging.ERROR)\n",
    "\n",
    "def do_ANN(x, y, xv, yv, param):\n",
    "  #print(\"Neuron hidden = \",param)\n",
    "  model = Sequential()\n",
    "  model.add(Dense(units=param, input_dim=x.shape[1], activation=\"sigmoid\"))\n",
    "  model.add(Dense(1, activation=\"sigmoid\"))\n",
    "  model.compile(optimizer=SGD(lr=0.1), loss=\"binary_crossentropy\", metrics=[\"accuracy\"])\n",
    "  model.fit(x, y, epochs=25, batch_size=128, verbose=0)\n",
    "  train_acc = model.evaluate(x,y, verbose=0)[1] #in position 0 is the loss\n",
    "  test_acc = model.evaluate(xv,yv, verbose=0)[1]\n",
    "\n",
    "  return model, train_acc, test_acc\n",
    "\n",
    "def ann_plot(p=10):\n",
    "  N_h = [2**i for i in range(1, p)]\n",
    "  train_accs = []\n",
    "  test_accs = []\n",
    "  max_val_acc = 0\n",
    "  best_n = 0\n",
    "\n",
    "  for n in N_h:\n",
    "    model, train_acc, test_acc = do_ANN(features_train, labels_train, features_val, labels_val, n)    \n",
    "    train_accs.append(train_acc)\n",
    "    test_accs.append(test_acc)\n",
    "\n",
    "    if test_acc > max_val_acc:\n",
    "      max_val_acc = test_acc\n",
    "      best_n = n\n",
    "\n",
    "  plt.plot(train_accs, marker='', color='red', linewidth=2, linestyle='dashed', label=\"Entrenamiento\")\n",
    "  plt.plot(test_accs, marker='', color='blue', linewidth=2, linestyle='dashed', label=\"Validación\")\n",
    "  plt.title(\"Precisiones con ANN en base al N° de neuronas de capas ocultas\")\n",
    "  xi = list(range(len(N_h)))\n",
    "  plt.xticks(xi, N_h)\n",
    "  plt.legend()\n",
    "  plt.xlabel('Número de neuronas en capa oculta')\n",
    "  plt.ylabel('Precisión (Accuracy)')\n",
    "  plt.show()\n",
    "\n",
    "  print(\"El mejor accuracy es {} cuando hay = {} neuronas en capa oculta\".format(max_val_acc, best_n))\n",
    "\n",
    "ann_plot()"
   ]
  },
  {
   "cell_type": "markdown",
   "metadata": {
    "colab_type": "text",
    "id": "qFGd5MouOZrC"
   },
   "source": [
    "**Comentarios:** Del gráfico anterior es posible notar un comportamiento irregular de las precisiones utilizando una Red Neuronal Artificial, donde se puede ver además que la precisión tiende a decrecer a medida que se aumenta la cantidad de neuronas en la capa oculta. Sin embargo, el máximo accuracy es de 0.630, lo que es un valor más aceptable en comparación a los otros modelos. La razón de este comportamiento depende netamente del dataset y de los atributos. Otra razón puede ser que utilizar muchas neuronas en la capa oculta no es eficiente para un problema de pocas clases, o de clasificación binaria."
   ]
  },
  {
   "cell_type": "markdown",
   "metadata": {
    "colab_type": "text",
    "id": "r1QcpQLhhReU"
   },
   "source": [
    "\n",
    "> k) Ahora evalúe sobre el conjunto de pruebas el mejor modelo obtenido, seleccionado en base a la métrica de desempeño en el conjunto de validación. Comente sobre la calidad obtenida en el problema trabajado ¿Es un buen valor? ¿Cuál podría ser un valor de referencia?\n"
   ]
  },
  {
   "cell_type": "code",
   "execution_count": 18,
   "metadata": {
    "colab": {
     "base_uri": "https://localhost:8080/",
     "height": 35
    },
    "colab_type": "code",
    "id": "CNgezWynhReV",
    "outputId": "8d950bcf-62ad-4df2-bdbe-99c1fec28c07"
   },
   "outputs": [
    {
     "name": "stdout",
     "output_type": "stream",
     "text": [
      "Score en el conjunto de pruebas:  0.7074542897327707\n"
     ]
    }
   ],
   "source": [
    "model, train_acc, test_acc = do_LOGIT(features_train, labels_train, features_val, labels_val, param = 10)\n",
    "\n",
    "print(\"Score en el conjunto de pruebas: \",test_acc)"
   ]
  },
  {
   "cell_type": "markdown",
   "metadata": {
    "colab_type": "text",
    "id": "3FdkLxdmbnWD"
   },
   "source": [
    "**Comentarios:**\n",
    "El score anterior se obtuvo con el modelo de Regresión Logística con el mejor parámetro (C = 10). Es interesante notar que se obtuvo un valor similar que con el conjunto de validación, siendo que este último era utilizado para medir el overfitting de los modelos anteriores. En este caso, el sentido del score obtenido nos dice el poder predictivo real del modelo. En general es un buen valor, como es clasificación binaria se esperaría minimo obtener un 50%. Con el score obtenido el modelo tendrá un 70% de probabilidad para acertar.\n",
    "\n",
    "Los métodos como Regresión Logística y SVM son buenos para el análisis de sentimiento, ya que estos pueden escalar bien en base al dataset; aunque independiente del método escogido, hay una gran importancia en la etapa del pre-procesamiento y vectorización donde pueden surgir ciertas incoherencias con la transformación de los textos."
   ]
  },
  {
   "cell_type": "markdown",
   "metadata": {
    "colab_type": "text",
    "id": "eyTxNDaqhReb"
   },
   "source": [
    "\n",
    "> l) Para comparar sus resultados utilice el modelo VADER (*Valence Aware Dictionary and sEntiment Reasoner*) [[6]](#refs), el cual entrega una *score* de predicción a nivel léxico (de palabras que comúnmente se asocian a una orientiación positiva o negativa). Este modelo construido manualmente no requiere entrenamiento, por lo que solo debe evaluar en conjunto de pruebas realizando predicciones del texto bruto (sin pre-procesamiento). Comente.\n",
    "\n"
   ]
  },
  {
   "cell_type": "code",
   "execution_count": 20,
   "metadata": {
    "colab": {
     "base_uri": "https://localhost:8080/",
     "height": 52
    },
    "colab_type": "code",
    "id": "KLLnX-gahRed",
    "outputId": "24912a68-bb7b-4c47-d6ed-d5ce30205e1a"
   },
   "outputs": [
    {
     "data": {
      "text/plain": [
       "0.6359032076533483"
      ]
     },
     "execution_count": 20,
     "metadata": {},
     "output_type": "execute_result"
    }
   ],
   "source": [
    "#!pip install vaderSentiment\n",
    "from vaderSentiment.vaderSentiment import SentimentIntensityAnalyzer \n",
    "from sklearn.metrics import accuracy_score\n",
    "\n",
    "def vader_predict(sentences): \n",
    "    sid_obj = SentimentIntensityAnalyzer() \n",
    "    sent_v = []\n",
    "\n",
    "    for text in sentences:\n",
    "        sentiment_dict = sid_obj.polarity_scores(text) \n",
    "        if sentiment_dict[\"pos\"] > sentiment_dict[\"neg\"]: #based on scores\n",
    "            sent_v.append(1)\n",
    "        else:\n",
    "            sent_v.append(0)\n",
    "\n",
    "    return np.asarray(sent_v)\n",
    "\n",
    "vader_pred_test = vader_predict(df_test_text) \n",
    "accuracy_score(labels_test, vader_pred_test)"
   ]
  },
  {
   "cell_type": "markdown",
   "metadata": {
    "colab_type": "text",
    "id": "z8eYj651cRIo"
   },
   "source": [
    "**Comentarios:** Es interesante notar que el score entregado por el modelo VADER sea menor al obtenido por el mejor modelo. Una razón de esto se debe a la forma con la que VADER realiza las predicciones y que está entrenado para predecir polaridades en comentarios de redes sociales; por ende, el léxico utilizado para este trabajo puede no ser el más adecuado. Sin embargo, un score de 0.636 es un valor aceptable para respaldar la calidad de nuestro mejor modelo."
   ]
  },
  {
   "cell_type": "markdown",
   "metadata": {
    "colab_type": "text",
    "id": "MDN1L6lzhRem"
   },
   "source": [
    "\n",
    "> m) Bajo la idea del modelo VADER realice un análisis de qué palabras su modelo tiende a considerar como positivas o negativas por si solas. Algunos de los modelos estudiados en esta sección realizan una predicción probabilista, utilice uno de éstos para verificar lo solicitado. Sobre la representación *TF* genere datos de entradas que contengan una sola palabra del vocabulario para evaluar que predicción les genera su modelo a esas palabras. Muestre las palabras más negativas y positivas en el vocabulario consideradas por su modelo. Comente.\n",
    "\n"
   ]
  },
  {
   "cell_type": "code",
   "execution_count": 21,
   "metadata": {
    "colab": {
     "base_uri": "https://localhost:8080/",
     "height": 697
    },
    "colab_type": "code",
    "id": "UVxxW0_OhRen",
    "outputId": "c1f7b3f9-33aa-43a8-900b-839f993a7ec7"
   },
   "outputs": [
    {
     "name": "stdout",
     "output_type": "stream",
     "text": [
      "Top 20 palabras más positivas y negativas\n",
      "-----------------------------------------\n"
     ]
    },
    {
     "data": {
      "text/html": [
       "<div>\n",
       "<style scoped>\n",
       "    .dataframe tbody tr th:only-of-type {\n",
       "        vertical-align: middle;\n",
       "    }\n",
       "\n",
       "    .dataframe tbody tr th {\n",
       "        vertical-align: top;\n",
       "    }\n",
       "\n",
       "    .dataframe thead th {\n",
       "        text-align: right;\n",
       "    }\n",
       "</style>\n",
       "<table border=\"1\" class=\"dataframe\">\n",
       "  <thead>\n",
       "    <tr style=\"text-align: right;\">\n",
       "      <th></th>\n",
       "      <th>Positivas</th>\n",
       "      <th>Negativas</th>\n",
       "    </tr>\n",
       "  </thead>\n",
       "  <tbody>\n",
       "    <tr>\n",
       "      <th>0</th>\n",
       "      <td>world</td>\n",
       "      <td>worst</td>\n",
       "    </tr>\n",
       "    <tr>\n",
       "      <th>1</th>\n",
       "      <td>marvel</td>\n",
       "      <td>cliche</td>\n",
       "    </tr>\n",
       "    <tr>\n",
       "      <th>2</th>\n",
       "      <td>witty</td>\n",
       "      <td>boring</td>\n",
       "    </tr>\n",
       "    <tr>\n",
       "      <th>3</th>\n",
       "      <td>wonderful</td>\n",
       "      <td>dull</td>\n",
       "    </tr>\n",
       "    <tr>\n",
       "      <th>4</th>\n",
       "      <td>solid</td>\n",
       "      <td>nearly</td>\n",
       "    </tr>\n",
       "    <tr>\n",
       "      <th>5</th>\n",
       "      <td>rare</td>\n",
       "      <td>feel</td>\n",
       "    </tr>\n",
       "    <tr>\n",
       "      <th>6</th>\n",
       "      <td>still</td>\n",
       "      <td>devoid</td>\n",
       "    </tr>\n",
       "    <tr>\n",
       "      <th>7</th>\n",
       "      <td>skillful</td>\n",
       "      <td>suffer</td>\n",
       "    </tr>\n",
       "    <tr>\n",
       "      <th>8</th>\n",
       "      <td>stick</td>\n",
       "      <td>pretentious</td>\n",
       "    </tr>\n",
       "    <tr>\n",
       "      <th>9</th>\n",
       "      <td>heart</td>\n",
       "      <td>apparent</td>\n",
       "    </tr>\n",
       "    <tr>\n",
       "      <th>10</th>\n",
       "      <td>ride</td>\n",
       "      <td>stale</td>\n",
       "    </tr>\n",
       "    <tr>\n",
       "      <th>11</th>\n",
       "      <td>haunting</td>\n",
       "      <td>bad</td>\n",
       "    </tr>\n",
       "    <tr>\n",
       "      <th>12</th>\n",
       "      <td>creative</td>\n",
       "      <td>unfortunately</td>\n",
       "    </tr>\n",
       "    <tr>\n",
       "      <th>13</th>\n",
       "      <td>tasty</td>\n",
       "      <td>heavy</td>\n",
       "    </tr>\n",
       "    <tr>\n",
       "      <th>14</th>\n",
       "      <td>openness</td>\n",
       "      <td>plodding</td>\n",
       "    </tr>\n",
       "    <tr>\n",
       "      <th>15</th>\n",
       "      <td>finish</td>\n",
       "      <td>silly</td>\n",
       "    </tr>\n",
       "    <tr>\n",
       "      <th>16</th>\n",
       "      <td>stitch</td>\n",
       "      <td>depressing</td>\n",
       "    </tr>\n",
       "    <tr>\n",
       "      <th>17</th>\n",
       "      <td>dense</td>\n",
       "      <td>suffers</td>\n",
       "    </tr>\n",
       "    <tr>\n",
       "      <th>18</th>\n",
       "      <td>frailty</td>\n",
       "      <td>neither</td>\n",
       "    </tr>\n",
       "    <tr>\n",
       "      <th>19</th>\n",
       "      <td>culture</td>\n",
       "      <td>tv</td>\n",
       "    </tr>\n",
       "  </tbody>\n",
       "</table>\n",
       "</div>"
      ],
      "text/plain": [
       "    Positivas      Negativas\n",
       "0       world          worst\n",
       "1      marvel         cliche\n",
       "2       witty         boring\n",
       "3   wonderful           dull\n",
       "4       solid         nearly\n",
       "5        rare           feel\n",
       "6       still         devoid\n",
       "7    skillful         suffer\n",
       "8       stick    pretentious\n",
       "9       heart       apparent\n",
       "10       ride          stale\n",
       "11   haunting            bad\n",
       "12   creative  unfortunately\n",
       "13      tasty          heavy\n",
       "14   openness       plodding\n",
       "15     finish          silly\n",
       "16     stitch     depressing\n",
       "17      dense        suffers\n",
       "18    frailty        neither\n",
       "19    culture             tv"
      ]
     },
     "execution_count": 21,
     "metadata": {},
     "output_type": "execute_result"
    }
   ],
   "source": [
    "def pos_vs_neg_words(vocab, model):\n",
    "  V = len(vocab)\n",
    "  word_scores = np.zeros((V, 2))\n",
    "\n",
    "  for i in range(V):\n",
    "    x_word = np.zeros((1, V))\n",
    "    x_word[:,i] = 1 # only the \"i\" word appeared\n",
    "    word_scores[i] = model.predict_proba(x_word)\n",
    "\n",
    "  negative_scores = word_scores[:, 0]\n",
    "  positive_scores = word_scores[:, 1]\n",
    "\n",
    "  negative_indexes = negative_scores.argsort()[-20:][::-1]\n",
    "  positive_indexes = positive_scores.argsort()[-20:][::-1]\n",
    "\n",
    "  most_negative_words = [vocab[i] for i in negative_indexes]\n",
    "  most_positive_words = [vocab[i] for i in positive_indexes]\n",
    "\n",
    "  print(\"Top 20 palabras más positivas y negativas\")\n",
    "  print(\"-----------------------------------------\")\n",
    "  df_results = pd.DataFrame(list(zip(most_positive_words, most_negative_words)), \n",
    "                columns =['Positivas', 'Negativas']) \n",
    "  return df_results \n",
    "\n",
    "model, train_acc, test_acc = do_LOGIT(features_train, labels_train, features_val, labels_val, param = 10)\n",
    "pos_vs_neg_words(vocab, model)"
   ]
  },
  {
   "cell_type": "markdown",
   "metadata": {
    "colab_type": "text",
    "id": "ncRnNlXm1m2b"
   },
   "source": [
    "**Comentarios:** Para obtener las 20 palabras principales de cada caso, se consideraron aquellas que solo tienen un score mayor a $0.9$. Se puede observar cierta lógica con la clasificación de las palabras según el modelo utilizado. Como son palabras que están solas en el texto, carecen de contexto, lo que implica que estas palabras de por sí se reconocer como positivas o negativas. Por ejemplo, las palabras como *wonderful*, *tasty* y *witty* son palabras bien clasificadas, mientras hay otros adjetivos que dificilmente se puedan clasificar como algo bueno o malo, como lo es en el caso de *ride*, *finish* y *culture*. Por otra parte, en las palabras negativas se puede identificar varias logicamente válidas sin necesidad de contexto, como son *boring*, *dull* o *bad*. Al igual que en las positivas, también hay adjetivos que no identifican algún sentimiento."
   ]
  },
  {
   "cell_type": "markdown",
   "metadata": {
    "colab_type": "text",
    "id": "GYmeYXF6hRer"
   },
   "source": [
    "\n",
    "> n) Intente mejorar los resultados de otra manera. Varíe el pre-procesamiento realizado a los datos en c), por ejemplo eliminar símbolos, números o aplicar la técnica de *stemmming* [[7]](#refs) en lugar de *lemmatization* para llevar a su tronco léxico.\n"
   ]
  },
  {
   "cell_type": "code",
   "execution_count": 22,
   "metadata": {
    "colab": {
     "base_uri": "https://localhost:8080/",
     "height": 697
    },
    "colab_type": "code",
    "id": "AJ8Bu3IchReu",
    "outputId": "c0d1583c-fdc7-4cd5-faf0-1db78fb6c16f"
   },
   "outputs": [
    {
     "name": "stderr",
     "output_type": "stream",
     "text": [
      "C:\\Users\\Seba\\Anaconda3\\envs\\ML\\lib\\site-packages\\sklearn\\linear_model\\_logistic.py:939: ConvergenceWarning: lbfgs failed to converge (status=1):\n",
      "STOP: TOTAL NO. of ITERATIONS REACHED LIMIT.\n",
      "\n",
      "Increase the number of iterations (max_iter) or scale the data as shown in:\n",
      "    https://scikit-learn.org/stable/modules/preprocessing.html.\n",
      "Please also refer to the documentation for alternative solver options:\n",
      "    https://scikit-learn.org/stable/modules/linear_model.html#logistic-regression\n",
      "  extra_warning_msg=_LOGISTIC_SOLVER_CONVERGENCE_MSG)\n"
     ]
    },
    {
     "name": "stdout",
     "output_type": "stream",
     "text": [
      "Top 20 palabras más positivas y negativas\n",
      "-----------------------------------------\n"
     ]
    },
    {
     "data": {
      "text/html": [
       "<div>\n",
       "<style scoped>\n",
       "    .dataframe tbody tr th:only-of-type {\n",
       "        vertical-align: middle;\n",
       "    }\n",
       "\n",
       "    .dataframe tbody tr th {\n",
       "        vertical-align: top;\n",
       "    }\n",
       "\n",
       "    .dataframe thead th {\n",
       "        text-align: right;\n",
       "    }\n",
       "</style>\n",
       "<table border=\"1\" class=\"dataframe\">\n",
       "  <thead>\n",
       "    <tr style=\"text-align: right;\">\n",
       "      <th></th>\n",
       "      <th>Positivas</th>\n",
       "      <th>Negativas</th>\n",
       "    </tr>\n",
       "  </thead>\n",
       "  <tbody>\n",
       "    <tr>\n",
       "      <th>0</th>\n",
       "      <td>marvel</td>\n",
       "      <td>suffer</td>\n",
       "    </tr>\n",
       "    <tr>\n",
       "      <th>1</th>\n",
       "      <td>world</td>\n",
       "      <td>appar</td>\n",
       "    </tr>\n",
       "    <tr>\n",
       "      <th>2</th>\n",
       "      <td>open</td>\n",
       "      <td>worst</td>\n",
       "    </tr>\n",
       "    <tr>\n",
       "      <th>3</th>\n",
       "      <td>flaw</td>\n",
       "      <td>bore</td>\n",
       "    </tr>\n",
       "    <tr>\n",
       "      <th>4</th>\n",
       "      <td>witti</td>\n",
       "      <td>clich</td>\n",
       "    </tr>\n",
       "    <tr>\n",
       "      <th>5</th>\n",
       "      <td>solid</td>\n",
       "      <td>dull</td>\n",
       "    </tr>\n",
       "    <tr>\n",
       "      <th>6</th>\n",
       "      <td>refreshingli</td>\n",
       "      <td>unfortun</td>\n",
       "    </tr>\n",
       "    <tr>\n",
       "      <th>7</th>\n",
       "      <td>alway</td>\n",
       "      <td>tv</td>\n",
       "    </tr>\n",
       "    <tr>\n",
       "      <th>8</th>\n",
       "      <td>warm</td>\n",
       "      <td>plod</td>\n",
       "    </tr>\n",
       "    <tr>\n",
       "      <th>9</th>\n",
       "      <td>tasti</td>\n",
       "      <td>pretenti</td>\n",
       "    </tr>\n",
       "    <tr>\n",
       "      <th>10</th>\n",
       "      <td>heart</td>\n",
       "      <td>stale</td>\n",
       "    </tr>\n",
       "    <tr>\n",
       "      <th>11</th>\n",
       "      <td>still</td>\n",
       "      <td>devoid</td>\n",
       "    </tr>\n",
       "    <tr>\n",
       "      <th>12</th>\n",
       "      <td>wonder</td>\n",
       "      <td>pie</td>\n",
       "    </tr>\n",
       "    <tr>\n",
       "      <th>13</th>\n",
       "      <td>resist</td>\n",
       "      <td>flounder</td>\n",
       "    </tr>\n",
       "    <tr>\n",
       "      <th>14</th>\n",
       "      <td>human</td>\n",
       "      <td>bad</td>\n",
       "    </tr>\n",
       "    <tr>\n",
       "      <th>15</th>\n",
       "      <td>bourn</td>\n",
       "      <td>nearli</td>\n",
       "    </tr>\n",
       "    <tr>\n",
       "      <th>16</th>\n",
       "      <td>cinema</td>\n",
       "      <td>junk</td>\n",
       "    </tr>\n",
       "    <tr>\n",
       "      <th>17</th>\n",
       "      <td>evok</td>\n",
       "      <td>depress</td>\n",
       "    </tr>\n",
       "    <tr>\n",
       "      <th>18</th>\n",
       "      <td>affect</td>\n",
       "      <td>heavi</td>\n",
       "    </tr>\n",
       "    <tr>\n",
       "      <th>19</th>\n",
       "      <td>move</td>\n",
       "      <td>numb</td>\n",
       "    </tr>\n",
       "  </tbody>\n",
       "</table>\n",
       "</div>"
      ],
      "text/plain": [
       "       Positivas Negativas\n",
       "0         marvel    suffer\n",
       "1          world     appar\n",
       "2           open     worst\n",
       "3           flaw      bore\n",
       "4          witti     clich\n",
       "5          solid      dull\n",
       "6   refreshingli  unfortun\n",
       "7          alway        tv\n",
       "8           warm      plod\n",
       "9          tasti  pretenti\n",
       "10         heart     stale\n",
       "11         still    devoid\n",
       "12        wonder       pie\n",
       "13        resist  flounder\n",
       "14         human       bad\n",
       "15         bourn    nearli\n",
       "16        cinema      junk\n",
       "17          evok   depress\n",
       "18        affect     heavi\n",
       "19          move      numb"
      ]
     },
     "execution_count": 22,
     "metadata": {},
     "output_type": "execute_result"
    }
   ],
   "source": [
    "from nltk.stem import PorterStemmer\n",
    "from nltk.stem import LancasterStemmer\n",
    "from nltk.tokenize import sent_tokenize, word_tokenize\n",
    "\n",
    "porter=PorterStemmer()\n",
    "\n",
    "def stemSentence(sentence):\n",
    "    token_words=word_tokenize(sentence)\n",
    "    #token_words\n",
    "    stem_sentence=[]\n",
    "    for word in token_words:\n",
    "        stem_sentence.append(porter.stem(word))\n",
    "        stem_sentence.append(\" \")\n",
    "    return \"\".join(stem_sentence)\n",
    "\n",
    "texts_train = [stemSentence(text) for text in df_train_text]\n",
    "texts_val = [stemSentence(text) for text in df_val_text]\n",
    "texts_test = [stemSentence(text) for text in df_test_text]\n",
    "\n",
    "vectorizer = CountVectorizer(ngram_range=(1, 1), binary=False) #TF representation\n",
    "\n",
    "vectorizer.fit(texts_train)\n",
    "features_train = vectorizer.transform(texts_train)\n",
    "features_val = vectorizer.transform(texts_val)\n",
    "features_test = vectorizer.transform(texts_test)\n",
    "vocab = vectorizer.get_feature_names()\n",
    "\n",
    "model, train_acc, test_acc = do_LOGIT(features_train, labels_train, features_val, labels_val, param = 10)\n",
    "pos_vs_neg_words(vocab, model)"
   ]
  },
  {
   "cell_type": "markdown",
   "metadata": {
    "colab_type": "text",
    "id": "FI0hHPy916EC"
   },
   "source": [
    "**Comentarios:** En este caso las palabras están reducidas a su raíz, por ejemplo, \"tasty\" cambió a \"tasti\". \n",
    "\n",
    "En general los resultados son similares al caso anterior.\n",
    "\n"
   ]
  },
  {
   "cell_type": "markdown",
   "metadata": {
    "colab_type": "text",
    "id": "zCu9ByJThRe4"
   },
   "source": [
    "> o) Varíe la representación utilizada actualmente por alguna otra que ayude a mejorar el desempeño, por ejemplo reducir el peso de una palabra si es que aparece en muchos textos: TF-IDF. Existen varias opciones que podría realizar para mejorar el desempeño, por ejemplo reducir el vocabulario a las $K$ palabras más frecuentes, eliminar las palabras menos frecuentes, normalizar la representación, utilizar *n-gramas*, entre otras.\n",
    "\n"
   ]
  },
  {
   "cell_type": "code",
   "execution_count": 23,
   "metadata": {
    "colab": {
     "base_uri": "https://localhost:8080/",
     "height": 697
    },
    "colab_type": "code",
    "id": "Jy2fELwdhRe5",
    "outputId": "b4f19604-a8a5-40a0-89e5-ac94a07f7cd4"
   },
   "outputs": [
    {
     "name": "stderr",
     "output_type": "stream",
     "text": [
      "C:\\Users\\Seba\\Anaconda3\\envs\\ML\\lib\\site-packages\\sklearn\\linear_model\\_logistic.py:939: ConvergenceWarning: lbfgs failed to converge (status=1):\n",
      "STOP: TOTAL NO. of ITERATIONS REACHED LIMIT.\n",
      "\n",
      "Increase the number of iterations (max_iter) or scale the data as shown in:\n",
      "    https://scikit-learn.org/stable/modules/preprocessing.html.\n",
      "Please also refer to the documentation for alternative solver options:\n",
      "    https://scikit-learn.org/stable/modules/linear_model.html#logistic-regression\n",
      "  extra_warning_msg=_LOGISTIC_SOLVER_CONVERGENCE_MSG)\n"
     ]
    },
    {
     "name": "stdout",
     "output_type": "stream",
     "text": [
      "Top 20 palabras más positivas y negativas\n",
      "-----------------------------------------\n"
     ]
    },
    {
     "data": {
      "text/html": [
       "<div>\n",
       "<style scoped>\n",
       "    .dataframe tbody tr th:only-of-type {\n",
       "        vertical-align: middle;\n",
       "    }\n",
       "\n",
       "    .dataframe tbody tr th {\n",
       "        vertical-align: top;\n",
       "    }\n",
       "\n",
       "    .dataframe thead th {\n",
       "        text-align: right;\n",
       "    }\n",
       "</style>\n",
       "<table border=\"1\" class=\"dataframe\">\n",
       "  <thead>\n",
       "    <tr style=\"text-align: right;\">\n",
       "      <th></th>\n",
       "      <th>Positivas</th>\n",
       "      <th>Negativas</th>\n",
       "    </tr>\n",
       "  </thead>\n",
       "  <tbody>\n",
       "    <tr>\n",
       "      <th>0</th>\n",
       "      <td>marvel</td>\n",
       "      <td>suffer</td>\n",
       "    </tr>\n",
       "    <tr>\n",
       "      <th>1</th>\n",
       "      <td>world</td>\n",
       "      <td>appar</td>\n",
       "    </tr>\n",
       "    <tr>\n",
       "      <th>2</th>\n",
       "      <td>open</td>\n",
       "      <td>worst</td>\n",
       "    </tr>\n",
       "    <tr>\n",
       "      <th>3</th>\n",
       "      <td>flaw</td>\n",
       "      <td>bore</td>\n",
       "    </tr>\n",
       "    <tr>\n",
       "      <th>4</th>\n",
       "      <td>witti</td>\n",
       "      <td>clich</td>\n",
       "    </tr>\n",
       "    <tr>\n",
       "      <th>5</th>\n",
       "      <td>solid</td>\n",
       "      <td>dull</td>\n",
       "    </tr>\n",
       "    <tr>\n",
       "      <th>6</th>\n",
       "      <td>refreshingli</td>\n",
       "      <td>unfortun</td>\n",
       "    </tr>\n",
       "    <tr>\n",
       "      <th>7</th>\n",
       "      <td>alway</td>\n",
       "      <td>tv</td>\n",
       "    </tr>\n",
       "    <tr>\n",
       "      <th>8</th>\n",
       "      <td>warm</td>\n",
       "      <td>plod</td>\n",
       "    </tr>\n",
       "    <tr>\n",
       "      <th>9</th>\n",
       "      <td>tasti</td>\n",
       "      <td>pretenti</td>\n",
       "    </tr>\n",
       "    <tr>\n",
       "      <th>10</th>\n",
       "      <td>heart</td>\n",
       "      <td>stale</td>\n",
       "    </tr>\n",
       "    <tr>\n",
       "      <th>11</th>\n",
       "      <td>still</td>\n",
       "      <td>devoid</td>\n",
       "    </tr>\n",
       "    <tr>\n",
       "      <th>12</th>\n",
       "      <td>wonder</td>\n",
       "      <td>pie</td>\n",
       "    </tr>\n",
       "    <tr>\n",
       "      <th>13</th>\n",
       "      <td>resist</td>\n",
       "      <td>flounder</td>\n",
       "    </tr>\n",
       "    <tr>\n",
       "      <th>14</th>\n",
       "      <td>human</td>\n",
       "      <td>bad</td>\n",
       "    </tr>\n",
       "    <tr>\n",
       "      <th>15</th>\n",
       "      <td>bourn</td>\n",
       "      <td>nearli</td>\n",
       "    </tr>\n",
       "    <tr>\n",
       "      <th>16</th>\n",
       "      <td>cinema</td>\n",
       "      <td>junk</td>\n",
       "    </tr>\n",
       "    <tr>\n",
       "      <th>17</th>\n",
       "      <td>evok</td>\n",
       "      <td>depress</td>\n",
       "    </tr>\n",
       "    <tr>\n",
       "      <th>18</th>\n",
       "      <td>affect</td>\n",
       "      <td>heavi</td>\n",
       "    </tr>\n",
       "    <tr>\n",
       "      <th>19</th>\n",
       "      <td>move</td>\n",
       "      <td>numb</td>\n",
       "    </tr>\n",
       "  </tbody>\n",
       "</table>\n",
       "</div>"
      ],
      "text/plain": [
       "       Positivas Negativas\n",
       "0         marvel    suffer\n",
       "1          world     appar\n",
       "2           open     worst\n",
       "3           flaw      bore\n",
       "4          witti     clich\n",
       "5          solid      dull\n",
       "6   refreshingli  unfortun\n",
       "7          alway        tv\n",
       "8           warm      plod\n",
       "9          tasti  pretenti\n",
       "10         heart     stale\n",
       "11         still    devoid\n",
       "12        wonder       pie\n",
       "13        resist  flounder\n",
       "14         human       bad\n",
       "15         bourn    nearli\n",
       "16        cinema      junk\n",
       "17          evok   depress\n",
       "18        affect     heavi\n",
       "19          move      numb"
      ]
     },
     "execution_count": 23,
     "metadata": {},
     "output_type": "execute_result"
    }
   ],
   "source": [
    "from sklearn.feature_extraction.text import TfidfVectorizer\n",
    "\n",
    "# Método 1: TF-IDF\n",
    "tfidf_model = TfidfVectorizer(binary=False, ngram_range=(1, 1), max_df=1.0, min_df=1, max_features=None, norm='l2', use_idf=True, sublinear_tf=False)\n",
    "tfidf_model.fit(texts_train)\n",
    "\n",
    "new_features_train = tfidf_model.transform(texts_train)\n",
    "new_features_val = tfidf_model.transform(texts_val)\n",
    "new_features_test = tfidf_model.transform(texts_test)\n",
    "new_vocab = tfidf_model.get_feature_names()\n",
    "\n",
    "model, train_acc, test_acc = do_LOGIT(features_train, labels_train, features_val, labels_val, param = 10)\n",
    "pos_vs_neg_words(new_vocab, model)"
   ]
  },
  {
   "cell_type": "markdown",
   "metadata": {
    "colab_type": "text",
    "id": "dYVfeXqc1Koo"
   },
   "source": [
    "**Comentarios:** Los resultados son similares a los casos anteriores."
   ]
  },
  {
   "cell_type": "markdown",
   "metadata": {
    "colab_type": "text",
    "id": "z7yjsZq3hRe_"
   },
   "source": [
    "\n",
    "> p) Utilice métricas auxiliares para entender en qué falla su mejor modelo obtenido hasta el momento. ¿La información entregada indica cómo se podría mejorar o cual sería la causa de la falla?\n"
   ]
  },
  {
   "cell_type": "code",
   "execution_count": 24,
   "metadata": {
    "colab": {
     "base_uri": "https://localhost:8080/",
     "height": 191
    },
    "colab_type": "code",
    "id": "E7N2C3gihRfB",
    "outputId": "3e303f60-10ec-44a0-c64d-294fc296c71b"
   },
   "outputs": [
    {
     "name": "stdout",
     "output_type": "stream",
     "text": [
      "Detailed Analysis Testing Results ...\n",
      "              precision    recall  f1-score   support\n",
      "\n",
      "           -       0.74      0.72      0.73      1803\n",
      "           +       0.72      0.74      0.73      1751\n",
      "\n",
      "    accuracy                           0.73      3554\n",
      "   macro avg       0.73      0.73      0.73      3554\n",
      "weighted avg       0.73      0.73      0.73      3554\n",
      "\n"
     ]
    }
   ],
   "source": [
    "from sklearn.metrics import classification_report\n",
    "\n",
    "def score_the_model(model, x, y):\n",
    "    print(\"Detailed Analysis Testing Results ...\")\n",
    "    print(classification_report(y, model.predict(x), target_names=['-','+']))\n",
    "\n",
    "score_the_model(model, features_test, labels_test)"
   ]
  },
  {
   "cell_type": "markdown",
   "metadata": {
    "colab_type": "text",
    "id": "DOaDil0r1Y3I"
   },
   "source": [
    "**Comentarios:**\n",
    "Se puede ver que la clasificación tiene una mayor precision en los comentarios negativos con un 0.74 vs un 0.72, mientras que el recall es mejor en los comentarios positivos, esto corresponder a la capacidad del modelo de encontrar las muestras positivas. Ahora si se ponderan ambas métricas (f1-score) se puede ver que el valor de ambos es igualmente bueno 0.73.\n",
    "Al entregar solamente métricas no hay  indicaciones claras de como mejorar los resultados."
   ]
  },
  {
   "cell_type": "markdown",
   "metadata": {
    "colab_type": "text",
    "id": "fwVFLbsshRfH"
   },
   "source": [
    "> q) Algo que se puede modificar en algunos modelos de aprendizaje es poner peso en cada una de las clases, por ejemplo si una clase es de mayor interés que las otras e interesa reducir más su error. En *sklearn* ésto puede ser realizado con el parámetro de *class_weights*. Por ejemplo, asigne que detectar los textos negativos me interesa 5 veces más que detectar los textos positivos. Comente.\n",
    "```python\n",
    "classes_weights = {0: 5, 1: 1} #or choose..\n",
    "model.set_params(class_weight=classes_weights)\n",
    "model.fit(features_train, labels_train)\n",
    "score_the_model(model, features_test, labels_test)\n",
    "```"
   ]
  },
  {
   "cell_type": "code",
   "execution_count": 25,
   "metadata": {
    "colab": {
     "base_uri": "https://localhost:8080/",
     "height": 364
    },
    "colab_type": "code",
    "id": "Q6K3lduIhRfJ",
    "outputId": "b0f4c355-c6fe-4b2f-ecf1-16ccb5056bcd"
   },
   "outputs": [
    {
     "name": "stdout",
     "output_type": "stream",
     "text": [
      "Detailed Analysis Testing Results ...\n",
      "              precision    recall  f1-score   support\n",
      "\n",
      "           -       0.71      0.79      0.75      1803\n",
      "           +       0.76      0.67      0.71      1751\n",
      "\n",
      "    accuracy                           0.73      3554\n",
      "   macro avg       0.73      0.73      0.73      3554\n",
      "weighted avg       0.73      0.73      0.73      3554\n",
      "\n",
      "Detailed Analysis Testing Results ...\n",
      "              precision    recall  f1-score   support\n",
      "\n",
      "           -       0.68      0.86      0.76      1803\n",
      "           +       0.80      0.59      0.68      1751\n",
      "\n",
      "    accuracy                           0.72      3554\n",
      "   macro avg       0.74      0.72      0.72      3554\n",
      "weighted avg       0.74      0.72      0.72      3554\n",
      "\n"
     ]
    },
    {
     "name": "stderr",
     "output_type": "stream",
     "text": [
      "C:\\Users\\Seba\\Anaconda3\\envs\\ML\\lib\\site-packages\\sklearn\\linear_model\\_logistic.py:939: ConvergenceWarning: lbfgs failed to converge (status=1):\n",
      "STOP: TOTAL NO. of ITERATIONS REACHED LIMIT.\n",
      "\n",
      "Increase the number of iterations (max_iter) or scale the data as shown in:\n",
      "    https://scikit-learn.org/stable/modules/preprocessing.html.\n",
      "Please also refer to the documentation for alternative solver options:\n",
      "    https://scikit-learn.org/stable/modules/linear_model.html#logistic-regression\n",
      "  extra_warning_msg=_LOGISTIC_SOLVER_CONVERGENCE_MSG)\n"
     ]
    }
   ],
   "source": [
    "classes_weights = {0: 5, 1: 1} #or choose..\n",
    "model.set_params(class_weight=classes_weights)\n",
    "model.fit(features_train, labels_train)\n",
    "score_the_model(model, features_test, labels_test)\n",
    "model.fit(new_features_train, labels_train)\n",
    "score_the_model(model, new_features_test, labels_test)"
   ]
  },
  {
   "cell_type": "markdown",
   "metadata": {
    "colab_type": "text",
    "id": "vi2KnbzbOwtw"
   },
   "source": [
    "En este item se le dio 5 veces más importancia a la detección de comentarios negativos por sobre la de los positivos"
   ]
  },
  {
   "cell_type": "markdown",
   "metadata": {
    "colab_type": "text",
    "id": "8lNwfgEohRfQ"
   },
   "source": [
    "\n",
    "> r) Visualice la clasificación que realiza su mejor modelo sobre algunos textos de pruebas ¿Qué entega mas información, una predicción categórica o una continua? ¿Cuál podría ser el beneficio de una o de otra? Comente\n",
    "```python\n",
    "test_pred = log_model.predict_proba(features_test) #or \".predict\"\n",
    "spl = np.random.randint( 0, len(test_pred), size=15)\n",
    "for text, pred_s, true_s in zip(df_test_text[spl], test_pred[spl], labels_test[spl]):\n",
    "    print(\"True sent: \", true_s, \"-- Pred sent: \",pred_s)\n",
    "    print(\"Raw text: \", text)\n",
    "```"
   ]
  },
  {
   "cell_type": "code",
   "execution_count": 26,
   "metadata": {
    "colab": {
     "base_uri": "https://localhost:8080/",
     "height": 817
    },
    "colab_type": "code",
    "id": "kj5xPHNAhRfW",
    "outputId": "3cfeff82-2295-4548-df1a-47f4b99336fc"
   },
   "outputs": [
    {
     "name": "stdout",
     "output_type": "stream",
     "text": [
      "True sent:  0.0 -- Pred sent:  [8.09415125e-08 9.99999919e-01]\n",
      "Raw text:  handled correctly , wilde's play is a masterpiece of elegant wit and artifice . here , alas , it collapses like an overcooked soufflé .\n",
      "\n",
      "True sent:  0.0 -- Pred sent:  [9.99986141e-01 1.38593711e-05]\n",
      "Raw text:  a boring masquerade ball where normally good actors , even kingsley , are made to look bad .\n",
      "\n",
      "True sent:  0.0 -- Pred sent:  [0.99474157 0.00525843]\n",
      "Raw text:  it's better suited for the history or biography channel , but there's no arguing the tone of the movie - it leaves a bad taste in your mouth and questions on your mind .\n",
      "\n",
      "True sent:  1.0 -- Pred sent:  [0.98087505 0.01912495]\n",
      "Raw text:  daily struggles and simple pleasures usurp the preaching message so that , by the time the credits roll across the pat ending , a warm , fuzzy feeling prevails .\n",
      "\n",
      "True sent:  0.0 -- Pred sent:  [0.72318589 0.27681411]\n",
      "Raw text:  thriller directorial debut for traffic scribe gaghan has all the right parts , but the pieces don't quite fit together .\n",
      "\n",
      "True sent:  1.0 -- Pred sent:  [5.90387034e-06 9.99994096e-01]\n",
      "Raw text:  after making several adaptations of other writers' work , armenian-canadian director atom egoyan broached an original treatment of a deeply personal subject .\n",
      "\n",
      "True sent:  0.0 -- Pred sent:  [0.8066832 0.1933168]\n",
      "Raw text:  with or without ballast tanks , k-19 sinks to a harrison ford low .\n",
      "\n",
      "True sent:  0.0 -- Pred sent:  [0.26477661 0.73522339]\n",
      "Raw text:  historical dramas fused with love triangle is a well worn conceit . but this films lacks the passion required to sell the material .\n",
      "\n",
      "True sent:  0.0 -- Pred sent:  [0.4683292 0.5316708]\n",
      "Raw text:  you can practically hear george orwell turning over .\n",
      "\n",
      "True sent:  0.0 -- Pred sent:  [0.03217194 0.96782806]\n",
      "Raw text:  juliette binoche's sand is vivacious , but it's hard to sense that powerhouse of 19th-century prose behind her childlike smile .\n",
      "\n",
      "True sent:  0.0 -- Pred sent:  [9.99989899e-01 1.01011492e-05]\n",
      "Raw text:  the makers of mothman prophecies succeed in producing that most frightening of all movies -- a mediocre horror film too bad to be good and too good to be bad .\n",
      "\n",
      "True sent:  0.0 -- Pred sent:  [0.33334417 0.66665583]\n",
      "Raw text:  if i spy were funny ( enough ) or exciting ( enough ) then it would be fairly simple to forgive the financial extortion it's trying to reap from the moviegoing public .\n",
      "\n",
      "True sent:  0.0 -- Pred sent:  [0.98397728 0.01602272]\n",
      "Raw text:  it's a mindless action flick with a twist -- far better suited to video-viewing than the multiplex .\n",
      "\n",
      "True sent:  1.0 -- Pred sent:  [9.04765152e-12 1.00000000e+00]\n",
      "Raw text:  even if invincible is not quite the career peak that the pianist is for roman polanski , it demonstrates that werner herzog can still leave us with a sense of wonder at the diverse , marvelously twisted shapes history has taken .\n",
      "\n",
      "True sent:  0.0 -- Pred sent:  [0.01005329 0.98994671]\n",
      "Raw text:  when the screenwriter responsible for one of the worst movies of one year directs an equally miserable film the following year , you'd have a hard time believing it was just coincidence .\n",
      "\n"
     ]
    }
   ],
   "source": [
    "#test_pred = log_model.predict_proba(features_test) #or \".predict\"\n",
    "test_pred = model.predict_proba(features_test) #or \".predict\"\n",
    "spl = np.random.randint(0, len(test_pred), size=15)\n",
    "\n",
    "for text, pred_s, true_s in zip(df_test_text[spl], test_pred[spl], labels_test[spl]):\n",
    "    print(\"True sent: \", true_s, \"-- Pred sent: \",pred_s)\n",
    "    print(\"Raw text: \", text)"
   ]
  },
  {
   "cell_type": "markdown",
   "metadata": {
    "colab_type": "text",
    "id": "qgQbKf_nYjTP"
   },
   "source": [
    "**Comentarios**: Consideramos que las predicciones continuas entregan mejor información que las categóricas, ya que una prediccion categórica son más \"extremista\", pues solo considera que un comentario es bueno o malo, sin embargo en la vida real las cosas no son asi, en un mismo comentario podemos encontrar sentencias positivas y sentencias negativas. Es por esto que para hacer una análisis de los resultados quizás es mas conveniente usar la predicción continua, pero para el modelo es mejor la categorica."
   ]
  },
  {
   "cell_type": "markdown",
   "metadata": {
    "colab_type": "text",
    "id": "Mwa7q-CQhRfc"
   },
   "source": [
    "\n",
    "> s) Comente sobre el desempeño obtenido por los diferentes modelos de aprendizaje utilizados al enfrentar el problema, ¿Dónde pareciera estar la mejora? ¿En la variación de los modelos y sus parámetros o en la modificación de la representación? ¿Cuál modelo de aprendizaje le parece mejor en base a su criterio? ya sea desempeño, tiempo de ejecución comodidad en las decisiones involucradas, etc."
   ]
  },
  {
   "cell_type": "markdown",
   "metadata": {
    "colab_type": "text",
    "id": "FEBfLEEyVRFv"
   },
   "source": [
    "**Comentarios**:En general el desempeño obtenido por los diferentes modelos de aprendizaje supervisado son todos aceptables con algunas diferencias. Ciertos modelos se adecuan mejor al caso, tales como, la regresión logistica y SVM (estos son los que tienen mejor accuracy);al ser escalables, mientras más datos se les entregan mejor podría ser el resultado. \n",
    "\n",
    "Lo más importante en el desempeño de los diferentes modelos puede considerarse en el siguiente orden, primero la elección del modelo, luego la selección de los parámetros y finalmente la representación de los datos. Un buen modelo involucraría un correcto ajuste de parámetros, mientras que la representación en sí, es importante pero podría ser ineficiente si es que no se ha escogido el modelo correcto. Por ejemplo, el modelo de árbol de decisión, KNN y redes neuronales daban buenos resultados pero requerian mayor tiempo de ejecución, probablemente porque son técnicas muy complejas para un problema de clasificación binaria (es matar una mosca con un cañon).\n",
    "\n",
    "Consideramos que el mejor modelo es el de regresión logistica si consideramos la precisión, el tiempo de ejecución y comodidad para ajustar parámetros."
   ]
  },
  {
   "cell_type": "markdown",
   "metadata": {
    "colab_type": "text",
    "id": "i9tCNqZYhRfj"
   },
   "source": [
    "<a id=\"segundo\"></a>\n",
    "## 2. Problema de Múltiples Anotaciones\n",
    "\n",
    "El aprendizaje supervisado visto en clases da cuenta que existe una única posible etiqueta $z$ (*ground truth*) asociada a un dato $x$ para poder aprender de los datos. Sin embargo, la definición del *ground truth* en algunos casos puede resultar bastante difícil de definir o bastante costoso, por ejemplo en problemas médicos donde se deben realizar invasivos exámenes para conocer la \"verdad absoluta\". Como alternativa se pueden recolectar múltiples anotaciones desde personas inexpertas en el área para poder estimar el *ground truth*. \n",
    "\n",
    "<img src=\"http://www.irishenvironment.com/wp-content/uploads/2013/11/crowdsourcing.jpg\" title=\"Title text\" width=\"40%\" />\n",
    "\n",
    "En esta actividad se trabajará en el caso en que contamos con múltiples anotaciones por cada dato de entrada $x_i$ dadas por personas inexpertas a través de Amazon Mechanical Turk (__[AMT](https://www.mturk.com/)__), es decir, $y^{(1)}, y^{(2)} \\ldots y^{(T_i)}$. El problema de predicción trabajado será el mismo de la actividad anterior, el análisis de sentimiento de un extracto de texto en Rotten Tomatoes. Los datos trabajados [[8]](#refs) pueden ser descargados de la página del autor.\n",
    "```\n",
    "wget http://fprodrigues.com//mturk-datasets.tar.gz\n",
    "```\n",
    "\n",
    "De esta manera trabajaremos con el archivo *mturk_answers.csv* en la carpeta *sentiment polarity* que se puede cargar con pandas. En este archivo se tendrán múltiples filas/registros por cada dato de entrenamiento, cada uno representando la etiqueta que entregó una persona (*worker*) a ese dato, los detalles de columnas son:\n",
    "* *WorkerId*: identificador de la persona que etiquetó/anotó el dato\n",
    "* *Input.id*: identificador del dato a etiquetar/anotar\n",
    "* *Input.original_sentence*: texto original del dato\n",
    "* *Input.stemmed_sent*: texto pre-procesado\n",
    "* *Input.true_sent*: sentimiento real (*ground truth*) del dato\n",
    "* *Answer.sent*:   etiqueta/anotación que entregó la persona\n",
    "\n",
    "```python\n",
    "import pandas as pd\n",
    "df = pd.read_csv(\"./sentiment_polarity/mturk_answers.csv\") \n",
    "```\n",
    "\n",
    "> El objetivo de la actividad será el de obtener un modelo predictor del *ground truth* sin entrenar directamente con esto, sino que utilizar las múltiples anotaciones de las personas\n",
    "\n",
    "### Importante\n",
    "* Deberá crear un conjunto aleatorio de pruebas que solo contenga los textos y el sentimiento *ground truth* (sin repeticiones)\n",
    "* Los valores de *ground truth* están **solo para evaluar**, no puede utilizarlos para entrenar o tomar decisiones en su modelo.\n",
    "* La métrica de evaluación será el *accuracy score*\n",
    "```python\n",
    "from sklearn.metrics import accuracy_score\n",
    "accuracy_score(y_true, y_pred)\n",
    "```\n",
    "\n",
    "#### Sugerencias\n",
    "Para representar los textos, a diferencia de lo visto en la sección 1, se puede utilizar lo que son la representación vectorial de palabras (*word vectors*), a través de modelos especializados entrenados para aprender una representación en que palabras similares estén cercanas en el espacio vectorial. Puede utilizar los vectores livianos de __[GLOVE](https://nlp.stanford.edu/projects/glove/)__ en su versión entradas en textos de Wikipedia con 6 billones de palabras/tokens.\n",
    "```python\n",
    "EMBEDDING_DIM = 300\n",
    "GLOVE_FILE = \"./glove.6B.%dd.txt\"%(EMBEDDING_DIM)\n",
    "embeddings_index = {}\n",
    "with open(GLOVE_FILE) as file:\n",
    "    for line in file:\n",
    "        values = line.split()\n",
    "        embeddings_index[values[0]] = np.asarray(values[1:], dtype='float32')\n",
    "...\n",
    "embeddings_index.get(word)\n",
    "```\n",
    "> Para descargar GLOVE\n",
    "```\n",
    "wget http://nlp.stanford.edu/data/glove.6B.zip\n",
    "```"
   ]
  },
  {
   "cell_type": "markdown",
   "metadata": {
    "colab_type": "text",
    "id": "JRnXonp3BRV1"
   },
   "source": [
    "Antes de empezar, hay que descargar y descomprimir los dataset. Luego hay que abrir los archivos y hacer la respectiva separación de conjuntos. En este caso se usa 70% de los datos para entrenamiento y el otro 30% para pruebas; éste último contiene los ground truth verdaderos y solo serán utilizados para evaluar."
   ]
  },
  {
   "cell_type": "code",
   "execution_count": 27,
   "metadata": {
    "colab": {
     "base_uri": "https://localhost:8080/",
     "height": 452
    },
    "colab_type": "code",
    "id": "bnZ2YRnT_7um",
    "outputId": "ffbbaa23-b8fd-463c-c7ce-74564f8eee40"
   },
   "outputs": [],
   "source": [
    "import pandas as pd\n",
    "import numpy as np\n",
    "from sklearn.model_selection import train_test_split\n",
    "from sklearn.metrics import accuracy_score\n",
    "\n",
    "# Dataset: Lectura de archivo.\n",
    "df = pd.read_csv(\"./mturk_answers.csv\") \n",
    "\n",
    "# Obtención de elementos\n",
    "original_sentences = [text for text in df['Input.original_sentence']]\n",
    "stemmed_sentences = [stemmed_text for stemmed_text in df['Input.stemmed_sent']]\n",
    "annotations = [annotation for annotation in df['Answer.sent']]\n",
    "ground_truths = [sentiment for sentiment in df['Input.true_sent']]\n",
    "\n",
    "# Separación de conjuntos\n",
    "# Conjuntos de entrenamiento y prueba con anotaciones\n",
    "train_text, test_text, annotations_train, annotations_test = train_test_split(stemmed_sentences, annotations, test_size=0.30, random_state=0)\n",
    "\n",
    "# Conjuntos de prueba y entrenamiento con ground_truths (solo usar para validar)\n",
    "gts_train, gts_test = train_test_split(ground_truths, test_size=0.30, random_state=0)"
   ]
  },
  {
   "cell_type": "markdown",
   "metadata": {
    "colab_type": "text",
    "id": "m6W4ZvEBB7EJ"
   },
   "source": [
    "Una ventaja del dataset entregado es que a los textos ya se les aplicó stemming, por lo que el pre-procesamiento ya está listo y basta con vectorizarlos. En este caso se utilizará TF-IDF."
   ]
  },
  {
   "cell_type": "code",
   "execution_count": 30,
   "metadata": {
    "colab": {},
    "colab_type": "code",
    "id": "qert8CXECkv7"
   },
   "outputs": [],
   "source": [
    "from sklearn.feature_extraction.text import TfidfVectorizer\n",
    "\n",
    "# Vectorizador (TF-IDF)\n",
    "tfidf_model = TfidfVectorizer(binary=False, ngram_range=(1, 1), max_df=1.0, min_df=1, max_features=None, norm='l2', use_idf=True, sublinear_tf=False)\n",
    "tfidf_model.fit(train_text)\n",
    "\n",
    "new_features_train = tfidf_model.transform(train_text) # TD-IDF para datos con anotaciones.\n",
    "new_features_test = tfidf_model.transform(test_text)  # TD-IDF para datos con valores reales."
   ]
  },
  {
   "cell_type": "markdown",
   "metadata": {
    "colab_type": "text",
    "id": "SrX3vHA0DUXJ"
   },
   "source": [
    "El objetivo de la propuesta es la siguiente: Se entrenarán los modelos vistos en la sección 1 de la tarea y se hará una clasificación mediante votación. Cada uno de ellos recibirán los textos vectorizados de entrenamiento y sus respectivas anotaciones. Para determinar cuál es el ground truth se realizará un meta-ensamblado, es decir, una técnica que combina las predicciones de los modelos anteriores para generar un nuevo modelo que supera a todos los anteriores. \n",
    "\n",
    "Primero es necesario definir los módelos que se utilizarán.\n",
    "\n",
    "\n",
    "\n"
   ]
  },
  {
   "cell_type": "code",
   "execution_count": 31,
   "metadata": {
    "colab": {},
    "colab_type": "code",
    "id": "FVz0TN8Kp62s"
   },
   "outputs": [
    {
     "data": {
      "text/plain": [
       "SVC(C=10, break_ties=False, cache_size=200, class_weight=None, coef0=0.0,\n",
       "    decision_function_shape='ovr', degree=3, gamma='scale', kernel='sigmoid',\n",
       "    max_iter=-1, probability=False, random_state=None, shrinking=True,\n",
       "    tol=0.001, verbose=False)"
      ]
     },
     "execution_count": 31,
     "metadata": {},
     "output_type": "execute_result"
    }
   ],
   "source": [
    "from sklearn.linear_model import LogisticRegression\n",
    "from sklearn.neighbors import KNeighborsClassifier\n",
    "from sklearn.tree import DecisionTreeClassifier as Tree\n",
    "from sklearn.svm import SVC as SVM\n",
    "from sklearn.ensemble import VotingClassifier\n",
    "\n",
    "# Modelos\n",
    "# Regresión Logística\n",
    "clf1 = LogisticRegression()\n",
    "\n",
    "# KNN\n",
    "clf2 = KNeighborsClassifier()\n",
    "clf2.set_params(n_neighbors = 431)\n",
    "\n",
    "# Árbol de Decisión\n",
    "clf3 = Tree()\n",
    "clf3.set_params(max_depth = 3081, min_samples_split = 712) \n",
    "\n",
    "# SVM\n",
    "clf4 = SVM()\n",
    "clf4.set_params(C=10, kernel='sigmoid')"
   ]
  },
  {
   "cell_type": "markdown",
   "metadata": {
    "colab_type": "text",
    "id": "VYB4Cmx6FZjU"
   },
   "source": [
    "La elección de la etiqueta adecuada se realizará mediante *Hard Voting* y *Soft Voting*. \n",
    "\n",
    "Hard Voting consiste en elegir la etiqueta más repetida predecida por los módelos; en este caso se utilizarán Regresión Logística, KNN, Árbol de Decisión y SVM. Como no se puede utilizar el conjunto de prueba es complicado encontrar los parámetros adecuados para mejorar la calidad de la predicción final, por tanto, se utilizarán los parámetros que maximizan el score en la sección 1 de la tarea."
   ]
  },
  {
   "cell_type": "code",
   "execution_count": 32,
   "metadata": {
    "colab": {},
    "colab_type": "code",
    "id": "hOGh2eiqFO13"
   },
   "outputs": [],
   "source": [
    "# Voting Classifier: Hard Majority Voting. Se elige la etiqueta más repetida.\n",
    "eclf1 = VotingClassifier(estimators=[('lr', clf1), ('knn', clf2), ('tree', clf3), ('svm', clf4)], voting='hard')\n",
    "eclf1 = eclf1.fit(new_features_train, annotations_train)\n",
    "\n",
    "y_pred_hard = eclf1.predict(new_features_test)"
   ]
  },
  {
   "cell_type": "markdown",
   "metadata": {
    "colab_type": "text",
    "id": "QxPCUjOyGmWU"
   },
   "source": [
    "Por otra parte se utilizará Soft Voting, que a diferencia del Hard Voting, los modelos entregarán las probabilidades de cada etiqueta y que luego serán promediadas para determinar cuál es la mejor. No debiese ser muy distinto que el Hard Voting, pues al final se convierte en un problema de clasificación binaria.\n",
    "\n",
    "Para Soft Voting no se utilizará SVM porque no permite entregar las probabilidades."
   ]
  },
  {
   "cell_type": "code",
   "execution_count": 33,
   "metadata": {
    "colab": {},
    "colab_type": "code",
    "id": "GB4nrocBGmkN"
   },
   "outputs": [],
   "source": [
    "# Voting Classifier: Soft Majority Voting. Se elije la etiqueta con mayor probabilidad.\n",
    "eclf2 = VotingClassifier(estimators=[('lr', clf1), ('knn', clf2), ('tree', clf3)], voting='soft')\n",
    "eclf2 = eclf2.fit(new_features_train, annotations_train)\n",
    "y_pred_soft = eclf2.predict(new_features_test)"
   ]
  },
  {
   "cell_type": "markdown",
   "metadata": {
    "colab_type": "text",
    "id": "6LtPveKjHL7W"
   },
   "source": [
    "Finalmente, los resultados son:"
   ]
  },
  {
   "cell_type": "code",
   "execution_count": 34,
   "metadata": {
    "colab": {},
    "colab_type": "code",
    "id": "4fgK96b-Kiif"
   },
   "outputs": [
    {
     "name": "stdout",
     "output_type": "stream",
     "text": [
      "Score con Hard Voting:  0.8301297453147525\n",
      "Score con Soft Voting:  0.7984142239308025\n"
     ]
    }
   ],
   "source": [
    "print(\"Score con Hard Voting: \", accuracy_score(gts_test, y_pred_hard))\n",
    "print(\"Score con Soft Voting: \", accuracy_score(gts_test, y_pred_soft))"
   ]
  },
  {
   "cell_type": "markdown",
   "metadata": {
    "colab_type": "text",
    "id": "Whu8CeAgKx4b"
   },
   "source": [
    "Los scores obtenidos son aceptables para una clasificación binaria. Sin embargo, aún no es posible decidir si el modelo sufre de overfitting; existe un riesgo para esto y es que los modelos recibieron datos parcialmente *duplicados*, es decir, mismos textos para distintas anotaciones."
   ]
  },
  {
   "cell_type": "markdown",
   "metadata": {
    "colab_type": "text",
    "id": "yTthjxV6hRfl"
   },
   "source": [
    "<a id=\"refs\"></a>\n",
    "# Referencias\n",
    "[1] Keras: Deep Learning library for Theano and TensorFlow. https://keras.io/  \n",
    "[2] https://www.kaggle.com/c/sentiment-analysis-on-movie-reviews  \n",
    "[3] https://en.wikipedia.org/wiki/Stopwords  \n",
    "[4] https://en.wikipedia.org/wiki/Lemmatisation  \n",
    "[5] Landauer, T. K., Foltz, P. W., & Laham, D. (1998). *An introduction to latent semantic analysis*. Discourse processes, 25(2-3), 259-284.  \n",
    "[6] https://github.com/cjhutto/vaderSentiment  \n",
    "[7] https://en.wikipedia.org/wiki/Stemming  \n",
    "[8] Rodrigues, F., Pereira, F., & Ribeiro, B. (2013). *Learning from multiple annotators: distinguishing good from random labelers*. Pattern Recognition Letters, 34(12), 1428-1436."
   ]
  }
 ],
 "metadata": {
  "colab": {
   "collapsed_sections": [],
   "name": "Tarea2-INF393.ipynb",
   "provenance": []
  },
  "kernelspec": {
   "display_name": "Python 3",
   "language": "python",
   "name": "python3"
  },
  "language_info": {
   "codemirror_mode": {
    "name": "ipython",
    "version": 3
   },
   "file_extension": ".py",
   "mimetype": "text/x-python",
   "name": "python",
   "nbconvert_exporter": "python",
   "pygments_lexer": "ipython3",
   "version": "3.7.6"
  }
 },
 "nbformat": 4,
 "nbformat_minor": 1
}
